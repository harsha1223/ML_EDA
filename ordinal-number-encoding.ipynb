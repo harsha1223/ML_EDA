{
 "cells": [
  {
   "cell_type": "code",
   "execution_count": 1,
   "metadata": {
    "_cell_guid": "b1076dfc-b9ad-4769-8c92-a6c4dae69d19",
    "_uuid": "8f2839f25d086af736a60e9eeb907d3b93b6e0e5",
    "execution": {
     "iopub.execute_input": "2021-03-22T20:11:38.650806Z",
     "iopub.status.busy": "2021-03-22T20:11:38.649408Z",
     "iopub.status.idle": "2021-03-22T20:11:38.653460Z",
     "shell.execute_reply": "2021-03-22T20:11:38.652667Z"
    },
    "papermill": {
     "duration": 0.020572,
     "end_time": "2021-03-22T20:11:38.653592",
     "exception": false,
     "start_time": "2021-03-22T20:11:38.633020",
     "status": "completed"
    },
    "tags": []
   },
   "outputs": [],
   "source": [
    "# This Python 3 environment comes with many helpful analytics libraries installed\n",
    "# It is defined by the kaggle/python Docker image: https://github.com/kaggle/docker-python\n",
    "# For example, here's several helpful packages to load\n",
    "\n",
    "import numpy as np # linear algebra\n",
    "import pandas as pd # data processing, CSV file I/O (e.g. pd.read_csv)\n",
    "\n",
    "# Input data files are available in the read-only \"../input/\" directory\n",
    "# For example, running this (by clicking run or pressing Shift+Enter) will list all files under the input directory\n",
    "\n",
    "import os\n",
    "for dirname, _, filenames in os.walk('/kaggle/input'):\n",
    "    for filename in filenames:\n",
    "        print(os.path.join(dirname, filename))\n",
    "\n",
    "# You can write up to 20GB to the current directory (/kaggle/working/) that gets preserved as output when you create a version using \"Save & Run All\" \n",
    "# You can also write temporary files to /kaggle/temp/, but they won't be saved outside of the current session"
   ]
  },
  {
   "cell_type": "code",
   "execution_count": 2,
   "metadata": {
    "_cell_guid": "79c7e3d0-c299-4dcb-8224-4455121ee9b0",
    "_uuid": "d629ff2d2480ee46fbb7e2d37f6b5fab8052498a",
    "execution": {
     "iopub.execute_input": "2021-03-22T20:11:38.677079Z",
     "iopub.status.busy": "2021-03-22T20:11:38.676209Z",
     "iopub.status.idle": "2021-03-22T20:11:38.678789Z",
     "shell.execute_reply": "2021-03-22T20:11:38.679297Z"
    },
    "papermill": {
     "duration": 0.015657,
     "end_time": "2021-03-22T20:11:38.679459",
     "exception": false,
     "start_time": "2021-03-22T20:11:38.663802",
     "status": "completed"
    },
    "tags": []
   },
   "outputs": [],
   "source": [
    "import pandas as pd\n",
    "import datetime "
   ]
  },
  {
   "cell_type": "code",
   "execution_count": 3,
   "metadata": {
    "execution": {
     "iopub.execute_input": "2021-03-22T20:11:38.699345Z",
     "iopub.status.busy": "2021-03-22T20:11:38.698533Z",
     "iopub.status.idle": "2021-03-22T20:11:38.702783Z",
     "shell.execute_reply": "2021-03-22T20:11:38.703382Z"
    },
    "papermill": {
     "duration": 0.016048,
     "end_time": "2021-03-22T20:11:38.703550",
     "exception": false,
     "start_time": "2021-03-22T20:11:38.687502",
     "status": "completed"
    },
    "tags": []
   },
   "outputs": [],
   "source": [
    "#create a variable with dates and extracting the weekdays:\n",
    "a = datetime.datetime.today()"
   ]
  },
  {
   "cell_type": "code",
   "execution_count": 4,
   "metadata": {
    "execution": {
     "iopub.execute_input": "2021-03-22T20:11:38.723782Z",
     "iopub.status.busy": "2021-03-22T20:11:38.723020Z",
     "iopub.status.idle": "2021-03-22T20:11:38.738377Z",
     "shell.execute_reply": "2021-03-22T20:11:38.737526Z"
    },
    "papermill": {
     "duration": 0.026696,
     "end_time": "2021-03-22T20:11:38.738515",
     "exception": false,
     "start_time": "2021-03-22T20:11:38.711819",
     "status": "completed"
    },
    "tags": []
   },
   "outputs": [],
   "source": [
    "date_list = [a - datetime.timedelta (days = x) for x in range(0,20)]\n",
    "df = pd.DataFrame (date_list)"
   ]
  },
  {
   "cell_type": "code",
   "execution_count": 5,
   "metadata": {
    "execution": {
     "iopub.execute_input": "2021-03-22T20:11:38.762099Z",
     "iopub.status.busy": "2021-03-22T20:11:38.761326Z",
     "iopub.status.idle": "2021-03-22T20:11:38.764298Z",
     "shell.execute_reply": "2021-03-22T20:11:38.764842Z"
    },
    "papermill": {
     "duration": 0.018026,
     "end_time": "2021-03-22T20:11:38.765020",
     "exception": false,
     "start_time": "2021-03-22T20:11:38.746994",
     "status": "completed"
    },
    "tags": []
   },
   "outputs": [],
   "source": [
    "df.columns = ['day']"
   ]
  },
  {
   "cell_type": "code",
   "execution_count": 6,
   "metadata": {
    "execution": {
     "iopub.execute_input": "2021-03-22T20:11:38.794113Z",
     "iopub.status.busy": "2021-03-22T20:11:38.792994Z",
     "iopub.status.idle": "2021-03-22T20:11:38.814967Z",
     "shell.execute_reply": "2021-03-22T20:11:38.815521Z"
    },
    "papermill": {
     "duration": 0.0422,
     "end_time": "2021-03-22T20:11:38.815700",
     "exception": false,
     "start_time": "2021-03-22T20:11:38.773500",
     "status": "completed"
    },
    "tags": []
   },
   "outputs": [
    {
     "data": {
      "text/html": [
       "<div>\n",
       "<style scoped>\n",
       "    .dataframe tbody tr th:only-of-type {\n",
       "        vertical-align: middle;\n",
       "    }\n",
       "\n",
       "    .dataframe tbody tr th {\n",
       "        vertical-align: top;\n",
       "    }\n",
       "\n",
       "    .dataframe thead th {\n",
       "        text-align: right;\n",
       "    }\n",
       "</style>\n",
       "<table border=\"1\" class=\"dataframe\">\n",
       "  <thead>\n",
       "    <tr style=\"text-align: right;\">\n",
       "      <th></th>\n",
       "      <th>day</th>\n",
       "    </tr>\n",
       "  </thead>\n",
       "  <tbody>\n",
       "    <tr>\n",
       "      <th>0</th>\n",
       "      <td>2021-03-22 20:11:38.698929</td>\n",
       "    </tr>\n",
       "    <tr>\n",
       "      <th>1</th>\n",
       "      <td>2021-03-21 20:11:38.698929</td>\n",
       "    </tr>\n",
       "    <tr>\n",
       "      <th>2</th>\n",
       "      <td>2021-03-20 20:11:38.698929</td>\n",
       "    </tr>\n",
       "    <tr>\n",
       "      <th>3</th>\n",
       "      <td>2021-03-19 20:11:38.698929</td>\n",
       "    </tr>\n",
       "    <tr>\n",
       "      <th>4</th>\n",
       "      <td>2021-03-18 20:11:38.698929</td>\n",
       "    </tr>\n",
       "    <tr>\n",
       "      <th>5</th>\n",
       "      <td>2021-03-17 20:11:38.698929</td>\n",
       "    </tr>\n",
       "    <tr>\n",
       "      <th>6</th>\n",
       "      <td>2021-03-16 20:11:38.698929</td>\n",
       "    </tr>\n",
       "    <tr>\n",
       "      <th>7</th>\n",
       "      <td>2021-03-15 20:11:38.698929</td>\n",
       "    </tr>\n",
       "    <tr>\n",
       "      <th>8</th>\n",
       "      <td>2021-03-14 20:11:38.698929</td>\n",
       "    </tr>\n",
       "    <tr>\n",
       "      <th>9</th>\n",
       "      <td>2021-03-13 20:11:38.698929</td>\n",
       "    </tr>\n",
       "    <tr>\n",
       "      <th>10</th>\n",
       "      <td>2021-03-12 20:11:38.698929</td>\n",
       "    </tr>\n",
       "    <tr>\n",
       "      <th>11</th>\n",
       "      <td>2021-03-11 20:11:38.698929</td>\n",
       "    </tr>\n",
       "    <tr>\n",
       "      <th>12</th>\n",
       "      <td>2021-03-10 20:11:38.698929</td>\n",
       "    </tr>\n",
       "    <tr>\n",
       "      <th>13</th>\n",
       "      <td>2021-03-09 20:11:38.698929</td>\n",
       "    </tr>\n",
       "    <tr>\n",
       "      <th>14</th>\n",
       "      <td>2021-03-08 20:11:38.698929</td>\n",
       "    </tr>\n",
       "    <tr>\n",
       "      <th>15</th>\n",
       "      <td>2021-03-07 20:11:38.698929</td>\n",
       "    </tr>\n",
       "    <tr>\n",
       "      <th>16</th>\n",
       "      <td>2021-03-06 20:11:38.698929</td>\n",
       "    </tr>\n",
       "    <tr>\n",
       "      <th>17</th>\n",
       "      <td>2021-03-05 20:11:38.698929</td>\n",
       "    </tr>\n",
       "    <tr>\n",
       "      <th>18</th>\n",
       "      <td>2021-03-04 20:11:38.698929</td>\n",
       "    </tr>\n",
       "    <tr>\n",
       "      <th>19</th>\n",
       "      <td>2021-03-03 20:11:38.698929</td>\n",
       "    </tr>\n",
       "  </tbody>\n",
       "</table>\n",
       "</div>"
      ],
      "text/plain": [
       "                          day\n",
       "0  2021-03-22 20:11:38.698929\n",
       "1  2021-03-21 20:11:38.698929\n",
       "2  2021-03-20 20:11:38.698929\n",
       "3  2021-03-19 20:11:38.698929\n",
       "4  2021-03-18 20:11:38.698929\n",
       "5  2021-03-17 20:11:38.698929\n",
       "6  2021-03-16 20:11:38.698929\n",
       "7  2021-03-15 20:11:38.698929\n",
       "8  2021-03-14 20:11:38.698929\n",
       "9  2021-03-13 20:11:38.698929\n",
       "10 2021-03-12 20:11:38.698929\n",
       "11 2021-03-11 20:11:38.698929\n",
       "12 2021-03-10 20:11:38.698929\n",
       "13 2021-03-09 20:11:38.698929\n",
       "14 2021-03-08 20:11:38.698929\n",
       "15 2021-03-07 20:11:38.698929\n",
       "16 2021-03-06 20:11:38.698929\n",
       "17 2021-03-05 20:11:38.698929\n",
       "18 2021-03-04 20:11:38.698929\n",
       "19 2021-03-03 20:11:38.698929"
      ]
     },
     "execution_count": 6,
     "metadata": {},
     "output_type": "execute_result"
    }
   ],
   "source": [
    "df"
   ]
  },
  {
   "cell_type": "code",
   "execution_count": 7,
   "metadata": {
    "execution": {
     "iopub.execute_input": "2021-03-22T20:11:38.839928Z",
     "iopub.status.busy": "2021-03-22T20:11:38.838735Z",
     "iopub.status.idle": "2021-03-22T20:11:38.847693Z",
     "shell.execute_reply": "2021-03-22T20:11:38.848201Z"
    },
    "papermill": {
     "duration": 0.022876,
     "end_time": "2021-03-22T20:11:38.848363",
     "exception": false,
     "start_time": "2021-03-22T20:11:38.825487",
     "status": "completed"
    },
    "tags": []
   },
   "outputs": [],
   "source": [
    "df ['Day'] = df ['day'].dt.day_name()"
   ]
  },
  {
   "cell_type": "code",
   "execution_count": 8,
   "metadata": {
    "execution": {
     "iopub.execute_input": "2021-03-22T20:11:38.871374Z",
     "iopub.status.busy": "2021-03-22T20:11:38.870045Z",
     "iopub.status.idle": "2021-03-22T20:11:38.881578Z",
     "shell.execute_reply": "2021-03-22T20:11:38.882101Z"
    },
    "papermill": {
     "duration": 0.024676,
     "end_time": "2021-03-22T20:11:38.882261",
     "exception": false,
     "start_time": "2021-03-22T20:11:38.857585",
     "status": "completed"
    },
    "tags": []
   },
   "outputs": [
    {
     "data": {
      "text/html": [
       "<div>\n",
       "<style scoped>\n",
       "    .dataframe tbody tr th:only-of-type {\n",
       "        vertical-align: middle;\n",
       "    }\n",
       "\n",
       "    .dataframe tbody tr th {\n",
       "        vertical-align: top;\n",
       "    }\n",
       "\n",
       "    .dataframe thead th {\n",
       "        text-align: right;\n",
       "    }\n",
       "</style>\n",
       "<table border=\"1\" class=\"dataframe\">\n",
       "  <thead>\n",
       "    <tr style=\"text-align: right;\">\n",
       "      <th></th>\n",
       "      <th>day</th>\n",
       "      <th>Day</th>\n",
       "    </tr>\n",
       "  </thead>\n",
       "  <tbody>\n",
       "    <tr>\n",
       "      <th>0</th>\n",
       "      <td>2021-03-22 20:11:38.698929</td>\n",
       "      <td>Monday</td>\n",
       "    </tr>\n",
       "    <tr>\n",
       "      <th>1</th>\n",
       "      <td>2021-03-21 20:11:38.698929</td>\n",
       "      <td>Sunday</td>\n",
       "    </tr>\n",
       "    <tr>\n",
       "      <th>2</th>\n",
       "      <td>2021-03-20 20:11:38.698929</td>\n",
       "      <td>Saturday</td>\n",
       "    </tr>\n",
       "    <tr>\n",
       "      <th>3</th>\n",
       "      <td>2021-03-19 20:11:38.698929</td>\n",
       "      <td>Friday</td>\n",
       "    </tr>\n",
       "    <tr>\n",
       "      <th>4</th>\n",
       "      <td>2021-03-18 20:11:38.698929</td>\n",
       "      <td>Thursday</td>\n",
       "    </tr>\n",
       "  </tbody>\n",
       "</table>\n",
       "</div>"
      ],
      "text/plain": [
       "                         day       Day\n",
       "0 2021-03-22 20:11:38.698929    Monday\n",
       "1 2021-03-21 20:11:38.698929    Sunday\n",
       "2 2021-03-20 20:11:38.698929  Saturday\n",
       "3 2021-03-19 20:11:38.698929    Friday\n",
       "4 2021-03-18 20:11:38.698929  Thursday"
      ]
     },
     "execution_count": 8,
     "metadata": {},
     "output_type": "execute_result"
    }
   ],
   "source": [
    "df.head()"
   ]
  },
  {
   "cell_type": "code",
   "execution_count": 9,
   "metadata": {
    "execution": {
     "iopub.execute_input": "2021-03-22T20:11:38.912284Z",
     "iopub.status.busy": "2021-03-22T20:11:38.911496Z",
     "iopub.status.idle": "2021-03-22T20:11:38.915239Z",
     "shell.execute_reply": "2021-03-22T20:11:38.914522Z"
    },
    "papermill": {
     "duration": 0.023284,
     "end_time": "2021-03-22T20:11:38.915363",
     "exception": false,
     "start_time": "2021-03-22T20:11:38.892079",
     "status": "completed"
    },
    "tags": []
   },
   "outputs": [],
   "source": [
    "day_map = {\n",
    "    'Monday' :1,\n",
    "    'Tuesday':2,\n",
    "    'Wednesday':3,\n",
    "    'Thursday':4,\n",
    "    'Friday':5,\n",
    "    'Saturday':6,\n",
    "    'Sunday':7\n",
    "}\n",
    "\n",
    "df ['Ordinal_Data'] = df.Day.map(day_map)"
   ]
  },
  {
   "cell_type": "code",
   "execution_count": 10,
   "metadata": {
    "execution": {
     "iopub.execute_input": "2021-03-22T20:11:38.952123Z",
     "iopub.status.busy": "2021-03-22T20:11:38.950961Z",
     "iopub.status.idle": "2021-03-22T20:11:38.956930Z",
     "shell.execute_reply": "2021-03-22T20:11:38.956353Z"
    },
    "papermill": {
     "duration": 0.031064,
     "end_time": "2021-03-22T20:11:38.957059",
     "exception": false,
     "start_time": "2021-03-22T20:11:38.925995",
     "status": "completed"
    },
    "tags": []
   },
   "outputs": [
    {
     "data": {
      "text/html": [
       "<div>\n",
       "<style scoped>\n",
       "    .dataframe tbody tr th:only-of-type {\n",
       "        vertical-align: middle;\n",
       "    }\n",
       "\n",
       "    .dataframe tbody tr th {\n",
       "        vertical-align: top;\n",
       "    }\n",
       "\n",
       "    .dataframe thead th {\n",
       "        text-align: right;\n",
       "    }\n",
       "</style>\n",
       "<table border=\"1\" class=\"dataframe\">\n",
       "  <thead>\n",
       "    <tr style=\"text-align: right;\">\n",
       "      <th></th>\n",
       "      <th>day</th>\n",
       "      <th>Day</th>\n",
       "      <th>Ordinal_Data</th>\n",
       "    </tr>\n",
       "  </thead>\n",
       "  <tbody>\n",
       "    <tr>\n",
       "      <th>0</th>\n",
       "      <td>2021-03-22 20:11:38.698929</td>\n",
       "      <td>Monday</td>\n",
       "      <td>1</td>\n",
       "    </tr>\n",
       "    <tr>\n",
       "      <th>1</th>\n",
       "      <td>2021-03-21 20:11:38.698929</td>\n",
       "      <td>Sunday</td>\n",
       "      <td>7</td>\n",
       "    </tr>\n",
       "    <tr>\n",
       "      <th>2</th>\n",
       "      <td>2021-03-20 20:11:38.698929</td>\n",
       "      <td>Saturday</td>\n",
       "      <td>6</td>\n",
       "    </tr>\n",
       "    <tr>\n",
       "      <th>3</th>\n",
       "      <td>2021-03-19 20:11:38.698929</td>\n",
       "      <td>Friday</td>\n",
       "      <td>5</td>\n",
       "    </tr>\n",
       "    <tr>\n",
       "      <th>4</th>\n",
       "      <td>2021-03-18 20:11:38.698929</td>\n",
       "      <td>Thursday</td>\n",
       "      <td>4</td>\n",
       "    </tr>\n",
       "    <tr>\n",
       "      <th>5</th>\n",
       "      <td>2021-03-17 20:11:38.698929</td>\n",
       "      <td>Wednesday</td>\n",
       "      <td>3</td>\n",
       "    </tr>\n",
       "    <tr>\n",
       "      <th>6</th>\n",
       "      <td>2021-03-16 20:11:38.698929</td>\n",
       "      <td>Tuesday</td>\n",
       "      <td>2</td>\n",
       "    </tr>\n",
       "    <tr>\n",
       "      <th>7</th>\n",
       "      <td>2021-03-15 20:11:38.698929</td>\n",
       "      <td>Monday</td>\n",
       "      <td>1</td>\n",
       "    </tr>\n",
       "    <tr>\n",
       "      <th>8</th>\n",
       "      <td>2021-03-14 20:11:38.698929</td>\n",
       "      <td>Sunday</td>\n",
       "      <td>7</td>\n",
       "    </tr>\n",
       "    <tr>\n",
       "      <th>9</th>\n",
       "      <td>2021-03-13 20:11:38.698929</td>\n",
       "      <td>Saturday</td>\n",
       "      <td>6</td>\n",
       "    </tr>\n",
       "    <tr>\n",
       "      <th>10</th>\n",
       "      <td>2021-03-12 20:11:38.698929</td>\n",
       "      <td>Friday</td>\n",
       "      <td>5</td>\n",
       "    </tr>\n",
       "    <tr>\n",
       "      <th>11</th>\n",
       "      <td>2021-03-11 20:11:38.698929</td>\n",
       "      <td>Thursday</td>\n",
       "      <td>4</td>\n",
       "    </tr>\n",
       "    <tr>\n",
       "      <th>12</th>\n",
       "      <td>2021-03-10 20:11:38.698929</td>\n",
       "      <td>Wednesday</td>\n",
       "      <td>3</td>\n",
       "    </tr>\n",
       "    <tr>\n",
       "      <th>13</th>\n",
       "      <td>2021-03-09 20:11:38.698929</td>\n",
       "      <td>Tuesday</td>\n",
       "      <td>2</td>\n",
       "    </tr>\n",
       "    <tr>\n",
       "      <th>14</th>\n",
       "      <td>2021-03-08 20:11:38.698929</td>\n",
       "      <td>Monday</td>\n",
       "      <td>1</td>\n",
       "    </tr>\n",
       "  </tbody>\n",
       "</table>\n",
       "</div>"
      ],
      "text/plain": [
       "                          day        Day  Ordinal_Data\n",
       "0  2021-03-22 20:11:38.698929     Monday             1\n",
       "1  2021-03-21 20:11:38.698929     Sunday             7\n",
       "2  2021-03-20 20:11:38.698929   Saturday             6\n",
       "3  2021-03-19 20:11:38.698929     Friday             5\n",
       "4  2021-03-18 20:11:38.698929   Thursday             4\n",
       "5  2021-03-17 20:11:38.698929  Wednesday             3\n",
       "6  2021-03-16 20:11:38.698929    Tuesday             2\n",
       "7  2021-03-15 20:11:38.698929     Monday             1\n",
       "8  2021-03-14 20:11:38.698929     Sunday             7\n",
       "9  2021-03-13 20:11:38.698929   Saturday             6\n",
       "10 2021-03-12 20:11:38.698929     Friday             5\n",
       "11 2021-03-11 20:11:38.698929   Thursday             4\n",
       "12 2021-03-10 20:11:38.698929  Wednesday             3\n",
       "13 2021-03-09 20:11:38.698929    Tuesday             2\n",
       "14 2021-03-08 20:11:38.698929     Monday             1"
      ]
     },
     "execution_count": 10,
     "metadata": {},
     "output_type": "execute_result"
    }
   ],
   "source": [
    "df.head(15)"
   ]
  }
 ],
 "metadata": {
  "kernelspec": {
   "display_name": "Python 3",
   "language": "python",
   "name": "python3"
  },
  "language_info": {
   "codemirror_mode": {
    "name": "ipython",
    "version": 3
   },
   "file_extension": ".py",
   "mimetype": "text/x-python",
   "name": "python",
   "nbconvert_exporter": "python",
   "pygments_lexer": "ipython3",
   "version": "3.7.6"
  },
  "papermill": {
   "duration": 5.983568,
   "end_time": "2021-03-22T20:11:39.076744",
   "environment_variables": {},
   "exception": null,
   "input_path": "__notebook__.ipynb",
   "output_path": "__notebook__.ipynb",
   "parameters": {},
   "start_time": "2021-03-22T20:11:33.093176",
   "version": "2.1.0"
  }
 },
 "nbformat": 4,
 "nbformat_minor": 4
}
