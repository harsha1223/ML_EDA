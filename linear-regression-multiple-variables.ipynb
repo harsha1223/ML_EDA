{
 "cells": [
  {
   "cell_type": "code",
   "execution_count": 1,
   "metadata": {
    "_cell_guid": "b1076dfc-b9ad-4769-8c92-a6c4dae69d19",
    "_uuid": "8f2839f25d086af736a60e9eeb907d3b93b6e0e5",
    "execution": {
     "iopub.execute_input": "2021-03-22T20:02:39.577130Z",
     "iopub.status.busy": "2021-03-22T20:02:39.576493Z",
     "iopub.status.idle": "2021-03-22T20:02:39.590919Z",
     "shell.execute_reply": "2021-03-22T20:02:39.591479Z"
    },
    "papermill": {
     "duration": 0.028574,
     "end_time": "2021-03-22T20:02:39.591801",
     "exception": false,
     "start_time": "2021-03-22T20:02:39.563227",
     "status": "completed"
    },
    "tags": []
   },
   "outputs": [
    {
     "name": "stdout",
     "output_type": "stream",
     "text": [
      "/kaggle/input/homepricesmultiplevariables/homeprices.csv\n"
     ]
    }
   ],
   "source": [
    "# This Python 3 environment comes with many helpful analytics libraries installed\n",
    "# It is defined by the kaggle/python Docker image: https://github.com/kaggle/docker-python\n",
    "# For example, here's several helpful packages to load\n",
    "\n",
    "import numpy as np # linear algebra\n",
    "import pandas as pd # data processing, CSV file I/O (e.g. pd.read_csv)\n",
    "\n",
    "# Input data files are available in the read-only \"../input/\" directory\n",
    "# For example, running this (by clicking run or pressing Shift+Enter) will list all files under the input directory\n",
    "\n",
    "import os\n",
    "for dirname, _, filenames in os.walk('/kaggle/input'):\n",
    "    for filename in filenames:\n",
    "        print(os.path.join(dirname, filename))\n",
    "\n",
    "# You can write up to 20GB to the current directory (/kaggle/working/) that gets preserved as output when you create a version using \"Save & Run All\" \n",
    "# You can also write temporary files to /kaggle/temp/, but they won't be saved outside of the current session"
   ]
  },
  {
   "cell_type": "code",
   "execution_count": 2,
   "metadata": {
    "execution": {
     "iopub.execute_input": "2021-03-22T20:02:39.615900Z",
     "iopub.status.busy": "2021-03-22T20:02:39.615210Z",
     "iopub.status.idle": "2021-03-22T20:02:40.633617Z",
     "shell.execute_reply": "2021-03-22T20:02:40.633044Z"
    },
    "papermill": {
     "duration": 1.031068,
     "end_time": "2021-03-22T20:02:40.633757",
     "exception": false,
     "start_time": "2021-03-22T20:02:39.602689",
     "status": "completed"
    },
    "tags": []
   },
   "outputs": [],
   "source": [
    "import pandas as pd\n",
    "import numpy as np\n",
    "from sklearn import linear_model"
   ]
  },
  {
   "cell_type": "code",
   "execution_count": 3,
   "metadata": {
    "execution": {
     "iopub.execute_input": "2021-03-22T20:02:40.658418Z",
     "iopub.status.busy": "2021-03-22T20:02:40.657741Z",
     "iopub.status.idle": "2021-03-22T20:02:40.669802Z",
     "shell.execute_reply": "2021-03-22T20:02:40.670300Z"
    },
    "papermill": {
     "duration": 0.026692,
     "end_time": "2021-03-22T20:02:40.670468",
     "exception": false,
     "start_time": "2021-03-22T20:02:40.643776",
     "status": "completed"
    },
    "tags": []
   },
   "outputs": [],
   "source": [
    "df = pd.read_csv('../input/homepricesmultiplevariables/homeprices.csv')"
   ]
  },
  {
   "cell_type": "code",
   "execution_count": 4,
   "metadata": {
    "execution": {
     "iopub.execute_input": "2021-03-22T20:02:40.703500Z",
     "iopub.status.busy": "2021-03-22T20:02:40.702602Z",
     "iopub.status.idle": "2021-03-22T20:02:40.721021Z",
     "shell.execute_reply": "2021-03-22T20:02:40.720495Z"
    },
    "papermill": {
     "duration": 0.040907,
     "end_time": "2021-03-22T20:02:40.721177",
     "exception": false,
     "start_time": "2021-03-22T20:02:40.680270",
     "status": "completed"
    },
    "tags": []
   },
   "outputs": [
    {
     "data": {
      "text/html": [
       "<div>\n",
       "<style scoped>\n",
       "    .dataframe tbody tr th:only-of-type {\n",
       "        vertical-align: middle;\n",
       "    }\n",
       "\n",
       "    .dataframe tbody tr th {\n",
       "        vertical-align: top;\n",
       "    }\n",
       "\n",
       "    .dataframe thead th {\n",
       "        text-align: right;\n",
       "    }\n",
       "</style>\n",
       "<table border=\"1\" class=\"dataframe\">\n",
       "  <thead>\n",
       "    <tr style=\"text-align: right;\">\n",
       "      <th></th>\n",
       "      <th>area</th>\n",
       "      <th>bedrooms</th>\n",
       "      <th>age</th>\n",
       "      <th>price</th>\n",
       "    </tr>\n",
       "  </thead>\n",
       "  <tbody>\n",
       "    <tr>\n",
       "      <th>0</th>\n",
       "      <td>2600</td>\n",
       "      <td>3.0</td>\n",
       "      <td>20</td>\n",
       "      <td>550000</td>\n",
       "    </tr>\n",
       "    <tr>\n",
       "      <th>1</th>\n",
       "      <td>3000</td>\n",
       "      <td>4.0</td>\n",
       "      <td>15</td>\n",
       "      <td>565000</td>\n",
       "    </tr>\n",
       "    <tr>\n",
       "      <th>2</th>\n",
       "      <td>3200</td>\n",
       "      <td>NaN</td>\n",
       "      <td>18</td>\n",
       "      <td>610000</td>\n",
       "    </tr>\n",
       "    <tr>\n",
       "      <th>3</th>\n",
       "      <td>3600</td>\n",
       "      <td>3.0</td>\n",
       "      <td>30</td>\n",
       "      <td>595000</td>\n",
       "    </tr>\n",
       "    <tr>\n",
       "      <th>4</th>\n",
       "      <td>4000</td>\n",
       "      <td>5.0</td>\n",
       "      <td>8</td>\n",
       "      <td>760000</td>\n",
       "    </tr>\n",
       "  </tbody>\n",
       "</table>\n",
       "</div>"
      ],
      "text/plain": [
       "   area  bedrooms  age   price\n",
       "0  2600       3.0   20  550000\n",
       "1  3000       4.0   15  565000\n",
       "2  3200       NaN   18  610000\n",
       "3  3600       3.0   30  595000\n",
       "4  4000       5.0    8  760000"
      ]
     },
     "execution_count": 4,
     "metadata": {},
     "output_type": "execute_result"
    }
   ],
   "source": [
    "df.head()"
   ]
  },
  {
   "cell_type": "code",
   "execution_count": 5,
   "metadata": {
    "execution": {
     "iopub.execute_input": "2021-03-22T20:02:40.747681Z",
     "iopub.status.busy": "2021-03-22T20:02:40.746746Z",
     "iopub.status.idle": "2021-03-22T20:02:40.749805Z",
     "shell.execute_reply": "2021-03-22T20:02:40.749248Z"
    },
    "papermill": {
     "duration": 0.018034,
     "end_time": "2021-03-22T20:02:40.749946",
     "exception": false,
     "start_time": "2021-03-22T20:02:40.731912",
     "status": "completed"
    },
    "tags": []
   },
   "outputs": [],
   "source": [
    "import math\n",
    "median_bedroom = math.floor(df.bedrooms.median())"
   ]
  },
  {
   "cell_type": "code",
   "execution_count": 6,
   "metadata": {
    "execution": {
     "iopub.execute_input": "2021-03-22T20:02:40.776551Z",
     "iopub.status.busy": "2021-03-22T20:02:40.775553Z",
     "iopub.status.idle": "2021-03-22T20:02:40.779899Z",
     "shell.execute_reply": "2021-03-22T20:02:40.779288Z"
    },
    "papermill": {
     "duration": 0.019453,
     "end_time": "2021-03-22T20:02:40.780044",
     "exception": false,
     "start_time": "2021-03-22T20:02:40.760591",
     "status": "completed"
    },
    "tags": []
   },
   "outputs": [
    {
     "data": {
      "text/plain": [
       "4"
      ]
     },
     "execution_count": 6,
     "metadata": {},
     "output_type": "execute_result"
    }
   ],
   "source": [
    "median_bedroom"
   ]
  },
  {
   "cell_type": "code",
   "execution_count": 7,
   "metadata": {
    "execution": {
     "iopub.execute_input": "2021-03-22T20:02:40.807586Z",
     "iopub.status.busy": "2021-03-22T20:02:40.807016Z",
     "iopub.status.idle": "2021-03-22T20:02:40.809805Z",
     "shell.execute_reply": "2021-03-22T20:02:40.809349Z"
    },
    "papermill": {
     "duration": 0.018797,
     "end_time": "2021-03-22T20:02:40.809954",
     "exception": false,
     "start_time": "2021-03-22T20:02:40.791157",
     "status": "completed"
    },
    "tags": []
   },
   "outputs": [],
   "source": [
    "df.bedrooms = df.bedrooms.fillna(median_bedroom)"
   ]
  },
  {
   "cell_type": "code",
   "execution_count": 8,
   "metadata": {
    "execution": {
     "iopub.execute_input": "2021-03-22T20:02:40.841624Z",
     "iopub.status.busy": "2021-03-22T20:02:40.840974Z",
     "iopub.status.idle": "2021-03-22T20:02:40.844553Z",
     "shell.execute_reply": "2021-03-22T20:02:40.843978Z"
    },
    "papermill": {
     "duration": 0.023606,
     "end_time": "2021-03-22T20:02:40.844674",
     "exception": false,
     "start_time": "2021-03-22T20:02:40.821068",
     "status": "completed"
    },
    "tags": []
   },
   "outputs": [
    {
     "data": {
      "text/html": [
       "<div>\n",
       "<style scoped>\n",
       "    .dataframe tbody tr th:only-of-type {\n",
       "        vertical-align: middle;\n",
       "    }\n",
       "\n",
       "    .dataframe tbody tr th {\n",
       "        vertical-align: top;\n",
       "    }\n",
       "\n",
       "    .dataframe thead th {\n",
       "        text-align: right;\n",
       "    }\n",
       "</style>\n",
       "<table border=\"1\" class=\"dataframe\">\n",
       "  <thead>\n",
       "    <tr style=\"text-align: right;\">\n",
       "      <th></th>\n",
       "      <th>area</th>\n",
       "      <th>bedrooms</th>\n",
       "      <th>age</th>\n",
       "      <th>price</th>\n",
       "    </tr>\n",
       "  </thead>\n",
       "  <tbody>\n",
       "    <tr>\n",
       "      <th>0</th>\n",
       "      <td>2600</td>\n",
       "      <td>3.0</td>\n",
       "      <td>20</td>\n",
       "      <td>550000</td>\n",
       "    </tr>\n",
       "    <tr>\n",
       "      <th>1</th>\n",
       "      <td>3000</td>\n",
       "      <td>4.0</td>\n",
       "      <td>15</td>\n",
       "      <td>565000</td>\n",
       "    </tr>\n",
       "    <tr>\n",
       "      <th>2</th>\n",
       "      <td>3200</td>\n",
       "      <td>4.0</td>\n",
       "      <td>18</td>\n",
       "      <td>610000</td>\n",
       "    </tr>\n",
       "    <tr>\n",
       "      <th>3</th>\n",
       "      <td>3600</td>\n",
       "      <td>3.0</td>\n",
       "      <td>30</td>\n",
       "      <td>595000</td>\n",
       "    </tr>\n",
       "    <tr>\n",
       "      <th>4</th>\n",
       "      <td>4000</td>\n",
       "      <td>5.0</td>\n",
       "      <td>8</td>\n",
       "      <td>760000</td>\n",
       "    </tr>\n",
       "    <tr>\n",
       "      <th>5</th>\n",
       "      <td>4100</td>\n",
       "      <td>6.0</td>\n",
       "      <td>8</td>\n",
       "      <td>810000</td>\n",
       "    </tr>\n",
       "  </tbody>\n",
       "</table>\n",
       "</div>"
      ],
      "text/plain": [
       "   area  bedrooms  age   price\n",
       "0  2600       3.0   20  550000\n",
       "1  3000       4.0   15  565000\n",
       "2  3200       4.0   18  610000\n",
       "3  3600       3.0   30  595000\n",
       "4  4000       5.0    8  760000\n",
       "5  4100       6.0    8  810000"
      ]
     },
     "execution_count": 8,
     "metadata": {},
     "output_type": "execute_result"
    }
   ],
   "source": [
    "df"
   ]
  },
  {
   "cell_type": "code",
   "execution_count": 9,
   "metadata": {
    "execution": {
     "iopub.execute_input": "2021-03-22T20:02:40.870503Z",
     "iopub.status.busy": "2021-03-22T20:02:40.869939Z",
     "iopub.status.idle": "2021-03-22T20:02:40.874415Z",
     "shell.execute_reply": "2021-03-22T20:02:40.873821Z"
    },
    "papermill": {
     "duration": 0.018467,
     "end_time": "2021-03-22T20:02:40.874555",
     "exception": false,
     "start_time": "2021-03-22T20:02:40.856088",
     "status": "completed"
    },
    "tags": []
   },
   "outputs": [],
   "source": [
    "reg = linear_model.LinearRegression()"
   ]
  },
  {
   "cell_type": "code",
   "execution_count": 10,
   "metadata": {
    "execution": {
     "iopub.execute_input": "2021-03-22T20:02:40.922053Z",
     "iopub.status.busy": "2021-03-22T20:02:40.921228Z",
     "iopub.status.idle": "2021-03-22T20:02:40.927981Z",
     "shell.execute_reply": "2021-03-22T20:02:40.927201Z"
    },
    "papermill": {
     "duration": 0.040978,
     "end_time": "2021-03-22T20:02:40.928111",
     "exception": false,
     "start_time": "2021-03-22T20:02:40.887133",
     "status": "completed"
    },
    "tags": []
   },
   "outputs": [
    {
     "data": {
      "text/plain": [
       "LinearRegression()"
      ]
     },
     "execution_count": 10,
     "metadata": {},
     "output_type": "execute_result"
    }
   ],
   "source": [
    "reg.fit(df[['area' , 'bedrooms' , 'age']] , df.price)"
   ]
  },
  {
   "cell_type": "code",
   "execution_count": 11,
   "metadata": {
    "execution": {
     "iopub.execute_input": "2021-03-22T20:02:40.957254Z",
     "iopub.status.busy": "2021-03-22T20:02:40.956369Z",
     "iopub.status.idle": "2021-03-22T20:02:40.959822Z",
     "shell.execute_reply": "2021-03-22T20:02:40.959273Z"
    },
    "papermill": {
     "duration": 0.019705,
     "end_time": "2021-03-22T20:02:40.959970",
     "exception": false,
     "start_time": "2021-03-22T20:02:40.940265",
     "status": "completed"
    },
    "tags": []
   },
   "outputs": [
    {
     "data": {
      "text/plain": [
       "array([  112.06244194, 23388.88007794, -3231.71790863])"
      ]
     },
     "execution_count": 11,
     "metadata": {},
     "output_type": "execute_result"
    }
   ],
   "source": [
    "reg.coef_"
   ]
  },
  {
   "cell_type": "code",
   "execution_count": 12,
   "metadata": {
    "execution": {
     "iopub.execute_input": "2021-03-22T20:02:40.989776Z",
     "iopub.status.busy": "2021-03-22T20:02:40.988892Z",
     "iopub.status.idle": "2021-03-22T20:02:40.992773Z",
     "shell.execute_reply": "2021-03-22T20:02:40.992242Z"
    },
    "papermill": {
     "duration": 0.020296,
     "end_time": "2021-03-22T20:02:40.992907",
     "exception": false,
     "start_time": "2021-03-22T20:02:40.972611",
     "status": "completed"
    },
    "tags": []
   },
   "outputs": [
    {
     "data": {
      "text/plain": [
       "221323.00186540396"
      ]
     },
     "execution_count": 12,
     "metadata": {},
     "output_type": "execute_result"
    }
   ],
   "source": [
    "reg.intercept_"
   ]
  },
  {
   "cell_type": "code",
   "execution_count": 13,
   "metadata": {
    "execution": {
     "iopub.execute_input": "2021-03-22T20:02:41.025719Z",
     "iopub.status.busy": "2021-03-22T20:02:41.024882Z",
     "iopub.status.idle": "2021-03-22T20:02:41.028614Z",
     "shell.execute_reply": "2021-03-22T20:02:41.028056Z"
    },
    "papermill": {
     "duration": 0.021873,
     "end_time": "2021-03-22T20:02:41.028749",
     "exception": false,
     "start_time": "2021-03-22T20:02:41.006876",
     "status": "completed"
    },
    "tags": []
   },
   "outputs": [
    {
     "data": {
      "text/plain": [
       "array([498408.25158031])"
      ]
     },
     "execution_count": 13,
     "metadata": {},
     "output_type": "execute_result"
    }
   ],
   "source": [
    "reg.predict([[3000 , 3 , 40]])"
   ]
  },
  {
   "cell_type": "code",
   "execution_count": 14,
   "metadata": {
    "execution": {
     "iopub.execute_input": "2021-03-22T20:02:41.058450Z",
     "iopub.status.busy": "2021-03-22T20:02:41.057846Z",
     "iopub.status.idle": "2021-03-22T20:02:41.061641Z",
     "shell.execute_reply": "2021-03-22T20:02:41.062151Z"
    },
    "papermill": {
     "duration": 0.020035,
     "end_time": "2021-03-22T20:02:41.062310",
     "exception": false,
     "start_time": "2021-03-22T20:02:41.042275",
     "status": "completed"
    },
    "tags": []
   },
   "outputs": [],
   "source": [
    " y = 112.06244194 * 3000 + 23388.88007794 * 3 + (-3231.71790863) * 40 +221323.00186540396"
   ]
  },
  {
   "cell_type": "code",
   "execution_count": 15,
   "metadata": {
    "execution": {
     "iopub.execute_input": "2021-03-22T20:02:41.094974Z",
     "iopub.status.busy": "2021-03-22T20:02:41.092996Z",
     "iopub.status.idle": "2021-03-22T20:02:41.097697Z",
     "shell.execute_reply": "2021-03-22T20:02:41.098231Z"
    },
    "papermill": {
     "duration": 0.021829,
     "end_time": "2021-03-22T20:02:41.098381",
     "exception": false,
     "start_time": "2021-03-22T20:02:41.076552",
     "status": "completed"
    },
    "tags": []
   },
   "outputs": [
    {
     "data": {
      "text/plain": [
       "498408.251574024"
      ]
     },
     "execution_count": 15,
     "metadata": {},
     "output_type": "execute_result"
    }
   ],
   "source": [
    "y"
   ]
  }
 ],
 "metadata": {
  "kernelspec": {
   "display_name": "Python 3",
   "language": "python",
   "name": "python3"
  },
  "language_info": {
   "codemirror_mode": {
    "name": "ipython",
    "version": 3
   },
   "file_extension": ".py",
   "mimetype": "text/x-python",
   "name": "python",
   "nbconvert_exporter": "python",
   "pygments_lexer": "ipython3",
   "version": "3.7.9"
  },
  "papermill": {
   "default_parameters": {},
   "duration": 8.787647,
   "end_time": "2021-03-22T20:02:42.713471",
   "environment_variables": {},
   "exception": null,
   "input_path": "__notebook__.ipynb",
   "output_path": "__notebook__.ipynb",
   "parameters": {},
   "start_time": "2021-03-22T20:02:33.925824",
   "version": "2.2.2"
  }
 },
 "nbformat": 4,
 "nbformat_minor": 4
}
