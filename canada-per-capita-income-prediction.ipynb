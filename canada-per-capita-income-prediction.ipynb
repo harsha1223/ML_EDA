{
 "cells": [
  {
   "cell_type": "code",
   "execution_count": 1,
   "metadata": {
    "_cell_guid": "b1076dfc-b9ad-4769-8c92-a6c4dae69d19",
    "_uuid": "8f2839f25d086af736a60e9eeb907d3b93b6e0e5",
    "execution": {
     "iopub.execute_input": "2021-03-22T20:04:46.812102Z",
     "iopub.status.busy": "2021-03-22T20:04:46.811039Z",
     "iopub.status.idle": "2021-03-22T20:04:46.827513Z",
     "shell.execute_reply": "2021-03-22T20:04:46.826719Z"
    },
    "papermill": {
     "duration": 0.031342,
     "end_time": "2021-03-22T20:04:46.827741",
     "exception": false,
     "start_time": "2021-03-22T20:04:46.796399",
     "status": "completed"
    },
    "tags": []
   },
   "outputs": [
    {
     "name": "st dout",
     "output_type": "stream",
     "text": [
      "/kaggle/input/canada-per-capita-income-single-variable-data-set/canada_per_capita_income.csv\n"
     ]
    }
   ],
   "source": [
    "# This Python 3 environment comes with many helpful analytics libraries installed\n",
    "# It is defined by the kaggle/python Docker image: https://github.com/kaggle/docker-python\n",
    "# For example, here's several helpful packages to load\n",
    "\n",
    "import numpy as np # linear algebra\n",
    "import pandas as pd # data processing, CSV file I/O (e.g. pd.read_csv)\n",
    "\n",
    "# Input data files are available in the read-only \"../input/\" directory\n",
    "# For example, running this (by clicking run or pressing Shift+Enter) will list all files under the input directory\n",
    "\n",
    "import os\n",
    "for dirname, _, filenames in os.walk('/kaggle/input'):\n",
    "    for filename in filenames:\n",
    "        print(os.path.join(dirname, filename))\n",
    "\n",
    "# You can write up to 20GB to the current directory (/kaggle/working/) that gets preserved as output when you create a version using \"Save & Run All\" \n",
    "# You can also write temporary files to /kaggle/temp/, but they won't be saved outside of the current session"
   ]
  },
  {
   "cell_type": "code",
   "execution_count": 2,
   "metadata": {
    "execution": {
     "iopub.execute_input": "2021-03-22T20:04:46.853396Z",
     "iopub.status.busy": "2021-03-22T20:04:46.852705Z",
     "iopub.status.idle": "2021-03-22T20:04:48.235566Z",
     "shell.execute_reply": "2021-03-22T20:04:48.233938Z"
    },
    "papermill": {
     "duration": 1.396474,
     "end_time": "2021-03-22T20:04:48.235766",
     "exception": false,
     "start_time": "2021-03-22T20:04:46.839292",
     "status": "completed"
    },
    "tags": []
   },
   "outputs": [],
   "source": [
    "import pandas as pd\n",
    "import numpy as np\n",
    "import matplotlib.pyplot as plt\n",
    "%matplotlib inline\n",
    "from sklearn import linear_model"
   ]
  },
  {
   "cell_type": "code",
   "execution_count": 3,
   "metadata": {
    "execution": {
     "iopub.execute_input": "2021-03-22T20:04:48.262204Z",
     "iopub.status.busy": "2021-03-22T20:04:48.261442Z",
     "iopub.status.idle": "2021-03-22T20:04:48.278733Z",
     "shell.execute_reply": "2021-03-22T20:04:48.277966Z"
    },
    "papermill": {
     "duration": 0.032559,
     "end_time": "2021-03-22T20:04:48.278910",
     "exception": false,
     "start_time": "2021-03-22T20:04:48.246351",
     "status": "completed"
    },
    "tags": []
   },
   "outputs": [],
   "source": [
    "df = pd.read_csv('../input/canada-per-capita-income-single-variable-data-set/canada_per_capita_income.csv')"
   ]
  },
  {
   "cell_type": "code",
   "execution_count": 4,
   "metadata": {
    "execution": {
     "iopub.execute_input": "2021-03-22T20:04:48.308282Z",
     "iopub.status.busy": "2021-03-22T20:04:48.307588Z",
     "iopub.status.idle": "2021-03-22T20:04:48.311190Z",
     "shell.execute_reply": "2021-03-22T20:04:48.311681Z"
    },
    "papermill": {
     "duration": 0.022241,
     "end_time": "2021-03-22T20:04:48.311874",
     "exception": false,
     "start_time": "2021-03-22T20:04:48.289633",
     "status": "completed"
    },
    "tags": []
   },
   "outputs": [
    {
     "data": {
      "text/plain": [
       "Index(['year', 'per capita income (US$)'], dtype='object')"
      ]
     },
     "execution_count": 4,
     "metadata": {},
     "output_type": "execute_result"
    }
   ],
   "source": [
    "df.columns"
   ]
  },
  {
   "cell_type": "code",
   "execution_count": 5,
   "metadata": {
    "execution": {
     "iopub.execute_input": "2021-03-22T20:04:48.338037Z",
     "iopub.status.busy": "2021-03-22T20:04:48.337383Z",
     "iopub.status.idle": "2021-03-22T20:04:48.351839Z",
     "shell.execute_reply": "2021-03-22T20:04:48.351187Z"
    },
    "papermill": {
     "duration": 0.028864,
     "end_time": "2021-03-22T20:04:48.352002",
     "exception": false,
     "start_time": "2021-03-22T20:04:48.323138",
     "status": "completed"
    },
    "tags": []
   },
   "outputs": [],
   "source": [
    "df = df.rename(columns = {'per capita income (US$)':'income'})"
   ]
  },
  {
   "cell_type": "code",
   "execution_count": 6,
   "metadata": {
    "execution": {
     "iopub.execute_input": "2021-03-22T20:04:48.380624Z",
     "iopub.status.busy": "2021-03-22T20:04:48.379611Z",
     "iopub.status.idle": "2021-03-22T20:04:48.398730Z",
     "shell.execute_reply": "2021-03-22T20:04:48.398094Z"
    },
    "papermill": {
     "duration": 0.035851,
     "end_time": "2021-03-22T20:04:48.398872",
     "exception": false,
     "start_time": "2021-03-22T20:04:48.363021",
     "status": "completed"
    },
    "tags": []
   },
   "outputs": [
    {
     "data": {
      "text/html": [
       "<div>\n",
       "<style scoped>\n",
       "    .dataframe tbody tr th:only-of-type {\n",
       "        vertical-align: middle;\n",
       "    }\n",
       "\n",
       "    .dataframe tbody tr th {\n",
       "        vertical-align: top;\n",
       "    }\n",
       "\n",
       "    .dataframe thead th {\n",
       "        text-align: right;\n",
       "    }\n",
       "</style>\n",
       "<table border=\"1\" class=\"dataframe\">\n",
       "  <thead>\n",
       "    <tr style=\"text-align: right;\">\n",
       "      <th></th>\n",
       "      <th>year</th>\n",
       "      <th>income</th>\n",
       "    </tr>\n",
       "  </thead>\n",
       "  <tbody>\n",
       "    <tr>\n",
       "      <th>0</th>\n",
       "      <td>1970</td>\n",
       "      <td>3399.299037</td>\n",
       "    </tr>\n",
       "    <tr>\n",
       "      <th>1</th>\n",
       "      <td>1971</td>\n",
       "      <td>3768.297935</td>\n",
       "    </tr>\n",
       "    <tr>\n",
       "      <th>2</th>\n",
       "      <td>1972</td>\n",
       "      <td>4251.175484</td>\n",
       "    </tr>\n",
       "    <tr>\n",
       "      <th>3</th>\n",
       "      <td>1973</td>\n",
       "      <td>4804.463248</td>\n",
       "    </tr>\n",
       "    <tr>\n",
       "      <th>4</th>\n",
       "      <td>1974</td>\n",
       "      <td>5576.514583</td>\n",
       "    </tr>\n",
       "  </tbody>\n",
       "</table>\n",
       "</div>"
      ],
      "text/plain": [
       "   year       income\n",
       "0  1970  3399.299037\n",
       "1  1971  3768.297935\n",
       "2  1972  4251.175484\n",
       "3  1973  4804.463248\n",
       "4  1974  5576.514583"
      ]
     },
     "execution_count": 6,
     "metadata": {},
     "output_type": "execute_result"
    }
   ],
   "source": [
    "df.head()"
   ]
  },
  {
   "cell_type": "code",
   "execution_count": 7,
   "metadata": {
    "execution": {
     "iopub.execute_input": "2021-03-22T20:04:48.427015Z",
     "iopub.status.busy": "2021-03-22T20:04:48.426315Z",
     "iopub.status.idle": "2021-03-22T20:04:48.636448Z",
     "shell.execute_reply": "2021-03-22T20:04:48.635836Z"
    },
    "papermill": {
     "duration": 0.225863,
     "end_time": "2021-03-22T20:04:48.636591",
     "exception": false,
     "start_time": "2021-03-22T20:04:48.410728",
     "status": "completed"
    },
    "tags": []
   },
   "outputs": [
    {
     "data": {
      "text/plain": [
       "Text(0, 0.5, 'per capita income (US$)')"
      ]
     },
     "execution_count": 7,
     "metadata": {},
     "output_type": "execute_result"
    },
    {
     "data": {
      "image/png": "[encoded data removed]",
      "text/plain": [
       "<Figure size 432x288 with 1 Axes>"
      ]
     },
     "metadata": {
      "needs_background": "light"
     },
     "output_type": "display_data"
    }
   ],
   "source": [
    "plt.scatter (df.year , df.income, color = 'black' )\n",
    "plt.xlabel('year')\n",
    "plt.ylabel('per capita income (US$)')"
   ]
  },
  {
   "cell_type": "code",
   "execution_count": 8,
   "metadata": {
    "execution": {
     "iopub.execute_input": "2021-03-22T20:04:48.667781Z",
     "iopub.status.busy": "2021-03-22T20:04:48.667114Z",
     "iopub.status.idle": "2021-03-22T20:04:48.671354Z",
     "shell.execute_reply": "2021-03-22T20:04:48.670682Z"
    },
    "papermill": {
     "duration": 0.022034,
     "end_time": "2021-03-22T20:04:48.671499",
     "exception": false,
     "start_time": "2021-03-22T20:04:48.649465",
     "status": "completed"
    },
    "tags": []
   },
   "outputs": [],
   "source": [
    "reg = linear_model.LinearRegression()"
   ]
  },
  {
   "cell_type": "code",
   "execution_count": 9,
   "metadata": {
    "execution": {
     "iopub.execute_input": "2021-03-22T20:04:48.701659Z",
     "iopub.status.busy": "2021-03-22T20:04:48.700696Z",
     "iopub.status.idle": "2021-03-22T20:04:48.736791Z",
     "shell.execute_reply": "2021-03-22T20:04:48.737437Z"
    },
    "papermill": {
     "duration": 0.053199,
     "end_time": "2021-03-22T20:04:48.737652",
     "exception": false,
     "start_time": "2021-03-22T20:04:48.684453",
     "status": "completed"
    },
    "tags": []
   },
   "outputs": [
    {
     "data": {
      "text/plain": [
       "LinearRegression()"
      ]
     },
     "execution_count": 9,
     "metadata": {},
     "output_type": "execute_result"
    }
   ],
   "source": [
    "reg.fit(df[['year']],df.income)"
   ]
  },
  {
   "cell_type": "code",
   "execution_count": 10,
   "metadata": {
    "execution": {
     "iopub.execute_input": "2021-03-22T20:04:48.769762Z",
     "iopub.status.busy": "2021-03-22T20:04:48.769072Z",
     "iopub.status.idle": "2021-03-22T20:04:48.776197Z",
     "shell.execute_reply": "2021-03-22T20:04:48.775443Z"
    },
    "papermill": {
     "duration": 0.024423,
     "end_time": "2021-03-22T20:04:48.776370",
     "exception": false,
     "start_time": "2021-03-22T20:04:48.751947",
     "status": "completed"
    },
    "tags": []
   },
   "outputs": [
    {
     "data": {
      "text/plain": [
       "array([41288.69409442])"
      ]
     },
     "execution_count": 10,
     "metadata": {},
     "output_type": "execute_result"
    }
   ],
   "source": [
    "reg.predict(np.array(2020).reshape(-1, 1))"
   ]
  },
  {
   "cell_type": "code",
   "execution_count": 11,
   "metadata": {
    "execution": {
     "iopub.execute_input": "2021-03-22T20:04:48.812569Z",
     "iopub.status.busy": "2021-03-22T20:04:48.811756Z",
     "iopub.status.idle": "2021-03-22T20:04:48.815124Z",
     "shell.execute_reply": "2021-03-22T20:04:48.814248Z"
    },
    "papermill": {
     "duration": 0.023283,
     "end_time": "2021-03-22T20:04:48.815308",
     "exception": false,
     "start_time": "2021-03-22T20:04:48.792025",
     "status": "completed"
    },
    "tags": []
   },
   "outputs": [],
   "source": [
    "m = reg.coef_"
   ]
  },
  {
   "cell_type": "code",
   "execution_count": 12,
   "metadata": {
    "execution": {
     "iopub.execute_input": "2021-03-22T20:04:48.852177Z",
     "iopub.status.busy": "2021-03-22T20:04:48.851374Z",
     "iopub.status.idle": "2021-03-22T20:04:48.854129Z",
     "shell.execute_reply": "2021-03-22T20:04:48.853486Z"
    },
    "papermill": {
     "duration": 0.023994,
     "end_time": "2021-03-22T20:04:48.854305",
     "exception": false,
     "start_time": "2021-03-22T20:04:48.830311",
     "status": "completed"
    },
    "tags": []
   },
   "outputs": [],
   "source": [
    "c = reg.intercept_"
   ]
  },
  {
   "cell_type": "code",
   "execution_count": 13,
   "metadata": {
    "execution": {
     "iopub.execute_input": "2021-03-22T20:04:48.890941Z",
     "iopub.status.busy": "2021-03-22T20:04:48.889836Z",
     "iopub.status.idle": "2021-03-22T20:04:48.894524Z",
     "shell.execute_reply": "2021-03-22T20:04:48.893782Z"
    },
    "papermill": {
     "duration": 0.025135,
     "end_time": "2021-03-22T20:04:48.894707",
     "exception": false,
     "start_time": "2021-03-22T20:04:48.869572",
     "status": "completed"
    },
    "tags": []
   },
   "outputs": [],
   "source": [
    "y = m * 2020 + c"
   ]
  },
  {
   "cell_type": "code",
   "execution_count": 14,
   "metadata": {
    "execution": {
     "iopub.execute_input": "2021-03-22T20:04:48.930715Z",
     "iopub.status.busy": "2021-03-22T20:04:48.929580Z",
     "iopub.status.idle": "2021-03-22T20:04:48.935088Z",
     "shell.execute_reply": "2021-03-22T20:04:48.934525Z"
    },
    "papermill": {
     "duration": 0.025618,
     "end_time": "2021-03-22T20:04:48.935243",
     "exception": false,
     "start_time": "2021-03-22T20:04:48.909625",
     "status": "completed"
    },
    "tags": []
   },
   "outputs": [
    {
     "data": {
      "text/plain": [
       "array([41288.69409442])"
      ]
     },
     "execution_count": 14,
     "metadata": {},
     "output_type": "execute_result"
    }
   ],
   "source": [
    "y"
   ]
  },
  {
   "cell_type": "code",
   "execution_count": 15,
   "metadata": {
    "execution": {
     "iopub.execute_input": "2021-03-22T20:04:49.000306Z",
     "iopub.status.busy": "2021-03-22T20:04:48.999628Z",
     "iopub.status.idle": "2021-03-22T20:04:49.137978Z",
     "shell.execute_reply": "2021-03-22T20:04:49.136003Z"
    },
    "papermill": {
     "duration": 0.187865,
     "end_time": "2021-03-22T20:04:49.138193",
     "exception": false,
     "start_time": "2021-03-22T20:04:48.950328",
     "status": "completed"
    },
    "tags": []
   },
   "outputs": [
    {
     "data": {
      "text/plain": [
       "[<matplotlib.lines.Line2D at 0x7fe53f35f510>]"
      ]
     },
     "execution_count": 15,
     "metadata": {},
     "output_type": "execute_result"
    },
    {
     "data": {
      "image/png": "[encoded data removed]",
      "text/plain": [
       "<Figure size 432x288 with 1 Axes>"
      ]
     },
     "metadata": {
      "needs_background": "light"
     },
     "output_type": "display_data"
    }
   ],
   "source": [
    "plt.scatter (df.year , df.income, color = 'black' )\n",
    "plt.xlabel('year')\n",
    "plt.ylabel('per capita income (US$)')\n",
    "plt.plot(df.year , reg.predict(df[['year']]) , color='red')"
   ]
  }
 ],
 "metadata": {
  "kernelspec": {
   "display_name": "Python 3",
   "language": "python",
   "name": "python3"
  },
  "language_info": {
   "codemirror_mode": {
    "name": "ipython",
    "version": 3
   },
   "file_extension": ".py",
   "mimetype": "text/x-python",
   "name": "python",
   "nbconvert_exporter": "python",
   "pygments_lexer": "ipython3",
   "version": "3.7.9"
  },
  "papermill": {
   "default_parameters": {},
   "duration": 9.288995,
   "end_time": "2021-03-22T20:04:49.868121",
   "environment_variables": {},
   "exception": null,
   "input_path": "__notebook__.ipynb",
   "output_path": "__notebook__.ipynb",
   "parameters": {},
   "start_time": "2021-03-22T20:04:40.579126",
   "version": "2.2.2"
  }
 },
 "nbformat": 4,
 "nbformat_minor": 4
}
