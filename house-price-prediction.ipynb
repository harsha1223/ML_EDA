{
 "cells": [
  {
   "cell_type": "code",
   "execution_count": 1,
   "metadata": {
    "_cell_guid": "b1076dfc-b9ad-4769-8c92-a6c4dae69d19",
    "_uuid": "8f2839f25d086af736a60e9eeb907d3b93b6e0e5",
    "execution": {
     "iopub.execute_input": "2021-03-22T20:06:48.620986Z",
     "iopub.status.busy": "2021-03-22T20:06:48.620150Z",
     "iopub.status.idle": "2021-03-22T20:06:48.633437Z",
     "shell.execute_reply": "2021-03-22T20:06:48.634123Z"
    },
    "papermill": {
     "duration": 0.033797,
     "end_time": "2021-03-22T20:06:48.634523",
     "exception": false,
     "start_time": "2021-03-22T20:06:48.600726",
     "status": "completed"
    },
    "tags": []
   },
   "outputs": [
    {
     "name": "stdout",
     "output_type": "stream",
     "text": [
      "/kaggle/input/homeprice/homeprices.csv\n"
     ]
    }
   ],
   "source": [
    "# This Python 3 environment comes with many helpful analytics libraries installed\n",
    "# It is defined by the kaggle/python Docker image: https://github.com/kaggle/docker-python\n",
    "# For example, here's several helpful packages to load\n",
    "\n",
    "import numpy as np # linear algebra\n",
    "import pandas as pd # data processing, CSV file I/O (e.g. pd.read_csv)\n",
    "\n",
    "# Input data files are available in the read-only \"../input/\" directory\n",
    "# For example, running this (by clicking run or pressing Shift+Enter) will list all files under the input directory\n",
    "\n",
    "import os\n",
    "for dirname, _, filenames in os.walk('/kaggle/input'):\n",
    "    for filename in filenames:\n",
    "        print(os.path.join(dirname, filename))\n",
    "\n",
    "# You can write up to 20GB to the current directory (/kaggle/working/) that gets preserved as output when you create a version using \"Save & Run All\" \n",
    "# You can also write temporary files to /kaggle/temp/, but they won't be saved outside of the current session"
   ]
  },
  {
   "cell_type": "code",
   "execution_count": 2,
   "metadata": {
    "execution": {
     "iopub.execute_input": "2021-03-22T20:06:48.659776Z",
     "iopub.status.busy": "2021-03-22T20:06:48.659001Z",
     "iopub.status.idle": "2021-03-22T20:06:50.107588Z",
     "shell.execute_reply": "2021-03-22T20:06:50.106683Z"
    },
    "papermill": {
     "duration": 1.462571,
     "end_time": "2021-03-22T20:06:50.107785",
     "exception": false,
     "start_time": "2021-03-22T20:06:48.645214",
     "status": "completed"
    },
    "tags": []
   },
   "outputs": [],
   "source": [
    "import pandas as pd\n",
    "import numpy as np\n",
    "import matplotlib.pyplot as plt\n",
    "%matplotlib inline\n",
    "from sklearn import linear_model"
   ]
  },
  {
   "cell_type": "code",
   "execution_count": 3,
   "metadata": {
    "execution": {
     "iopub.execute_input": "2021-03-22T20:06:50.134518Z",
     "iopub.status.busy": "2021-03-22T20:06:50.133582Z",
     "iopub.status.idle": "2021-03-22T20:06:50.152463Z",
     "shell.execute_reply": "2021-03-22T20:06:50.151633Z"
    },
    "papermill": {
     "duration": 0.034814,
     "end_time": "2021-03-22T20:06:50.152650",
     "exception": false,
     "start_time": "2021-03-22T20:06:50.117836",
     "status": "completed"
    },
    "tags": []
   },
   "outputs": [],
   "source": [
    "df = pd.read_csv('../input/homeprice/homeprices.csv')"
   ]
  },
  {
   "cell_type": "code",
   "execution_count": 4,
   "metadata": {
    "execution": {
     "iopub.execute_input": "2021-03-22T20:06:50.188753Z",
     "iopub.status.busy": "2021-03-22T20:06:50.187972Z",
     "iopub.status.idle": "2021-03-22T20:06:50.208365Z",
     "shell.execute_reply": "2021-03-22T20:06:50.208873Z"
    },
    "papermill": {
     "duration": 0.046404,
     "end_time": "2021-03-22T20:06:50.209109",
     "exception": false,
     "start_time": "2021-03-22T20:06:50.162705",
     "status": "completed"
    },
    "tags": []
   },
   "outputs": [
    {
     "data": {
      "text/html": [
       "<div>\n",
       "<style scoped>\n",
       "    .dataframe tbody tr th:only-of-type {\n",
       "        vertical-align: middle;\n",
       "    }\n",
       "\n",
       "    .dataframe tbody tr th {\n",
       "        vertical-align: top;\n",
       "    }\n",
       "\n",
       "    .dataframe thead th {\n",
       "        text-align: right;\n",
       "    }\n",
       "</style>\n",
       "<table border=\"1\" class=\"dataframe\">\n",
       "  <thead>\n",
       "    <tr style=\"text-align: right;\">\n",
       "      <th></th>\n",
       "      <th>area</th>\n",
       "      <th>price</th>\n",
       "    </tr>\n",
       "  </thead>\n",
       "  <tbody>\n",
       "    <tr>\n",
       "      <th>0</th>\n",
       "      <td>2600</td>\n",
       "      <td>550000</td>\n",
       "    </tr>\n",
       "    <tr>\n",
       "      <th>1</th>\n",
       "      <td>3000</td>\n",
       "      <td>565000</td>\n",
       "    </tr>\n",
       "    <tr>\n",
       "      <th>2</th>\n",
       "      <td>3200</td>\n",
       "      <td>610000</td>\n",
       "    </tr>\n",
       "    <tr>\n",
       "      <th>3</th>\n",
       "      <td>3600</td>\n",
       "      <td>680000</td>\n",
       "    </tr>\n",
       "    <tr>\n",
       "      <th>4</th>\n",
       "      <td>4000</td>\n",
       "      <td>725000</td>\n",
       "    </tr>\n",
       "  </tbody>\n",
       "</table>\n",
       "</div>"
      ],
      "text/plain": [
       "   area   price\n",
       "0  2600  550000\n",
       "1  3000  565000\n",
       "2  3200  610000\n",
       "3  3600  680000\n",
       "4  4000  725000"
      ]
     },
     "execution_count": 4,
     "metadata": {},
     "output_type": "execute_result"
    }
   ],
   "source": [
    "df.head()"
   ]
  },
  {
   "cell_type": "code",
   "execution_count": 5,
   "metadata": {
    "execution": {
     "iopub.execute_input": "2021-03-22T20:06:50.253144Z",
     "iopub.status.busy": "2021-03-22T20:06:50.237625Z",
     "iopub.status.idle": "2021-03-22T20:06:50.479244Z",
     "shell.execute_reply": "2021-03-22T20:06:50.478434Z"
    },
    "papermill": {
     "duration": 0.260111,
     "end_time": "2021-03-22T20:06:50.479434",
     "exception": false,
     "start_time": "2021-03-22T20:06:50.219323",
     "status": "completed"
    },
    "tags": []
   },
   "outputs": [
    {
     "data": {
      "text/plain": [
       "Text(0, 0.5, 'Price')"
      ]
     },
     "execution_count": 5,
     "metadata": {},
     "output_type": "execute_result"
    },
    {
     "data": {
      "image/png": "[encoded data removed]",
      "text/plain": [
       "<Figure size 432x288 with 1 Axes>"
      ]
     },
     "metadata": {
      "needs_background": "light"
     },
     "output_type": "display_data"
    }
   ],
   "source": [
    "plt.scatter (df.area , df.price, color = 'black' , marker ='+')\n",
    "plt.xlabel('Area')\n",
    "plt.ylabel('Price')"
   ]
  },
  {
   "cell_type": "code",
   "execution_count": 6,
   "metadata": {
    "execution": {
     "iopub.execute_input": "2021-03-22T20:06:50.513070Z",
     "iopub.status.busy": "2021-03-22T20:06:50.511887Z",
     "iopub.status.idle": "2021-03-22T20:06:50.516590Z",
     "shell.execute_reply": "2021-03-22T20:06:50.515919Z"
    },
    "papermill": {
     "duration": 0.022417,
     "end_time": "2021-03-22T20:06:50.516779",
     "exception": false,
     "start_time": "2021-03-22T20:06:50.494362",
     "status": "completed"
    },
    "tags": []
   },
   "outputs": [],
   "source": [
    "reg = linear_model.LinearRegression()"
   ]
  },
  {
   "cell_type": "code",
   "execution_count": 7,
   "metadata": {
    "execution": {
     "iopub.execute_input": "2021-03-22T20:06:50.578262Z",
     "iopub.status.busy": "2021-03-22T20:06:50.577407Z",
     "iopub.status.idle": "2021-03-22T20:06:50.594706Z",
     "shell.execute_reply": "2021-03-22T20:06:50.594087Z"
    },
    "papermill": {
     "duration": 0.065839,
     "end_time": "2021-03-22T20:06:50.594872",
     "exception": false,
     "start_time": "2021-03-22T20:06:50.529033",
     "status": "completed"
    },
    "tags": []
   },
   "outputs": [
    {
     "data": {
      "text/plain": [
       "LinearRegression()"
      ]
     },
     "execution_count": 7,
     "metadata": {},
     "output_type": "execute_result"
    }
   ],
   "source": [
    "reg.fit(df[['area']],df.price)"
   ]
  },
  {
   "cell_type": "code",
   "execution_count": 8,
   "metadata": {
    "execution": {
     "iopub.execute_input": "2021-03-22T20:06:50.626924Z",
     "iopub.status.busy": "2021-03-22T20:06:50.625857Z",
     "iopub.status.idle": "2021-03-22T20:06:50.632443Z",
     "shell.execute_reply": "2021-03-22T20:06:50.631713Z"
    },
    "papermill": {
     "duration": 0.025654,
     "end_time": "2021-03-22T20:06:50.632617",
     "exception": false,
     "start_time": "2021-03-22T20:06:50.606963",
     "status": "completed"
    },
    "tags": []
   },
   "outputs": [
    {
     "data": {
      "text/plain": [
       "array([628715.75342466])"
      ]
     },
     "execution_count": 8,
     "metadata": {},
     "output_type": "execute_result"
    }
   ],
   "source": [
    "reg.predict(np.array(3300).reshape(-1, 1))"
   ]
  },
  {
   "cell_type": "code",
   "execution_count": 9,
   "metadata": {
    "execution": {
     "iopub.execute_input": "2021-03-22T20:06:50.664112Z",
     "iopub.status.busy": "2021-03-22T20:06:50.663287Z",
     "iopub.status.idle": "2021-03-22T20:06:50.667374Z",
     "shell.execute_reply": "2021-03-22T20:06:50.666633Z"
    },
    "papermill": {
     "duration": 0.02247,
     "end_time": "2021-03-22T20:06:50.667559",
     "exception": false,
     "start_time": "2021-03-22T20:06:50.645089",
     "status": "completed"
    },
    "tags": []
   },
   "outputs": [],
   "source": [
    "m = reg.coef_"
   ]
  },
  {
   "cell_type": "code",
   "execution_count": 10,
   "metadata": {
    "execution": {
     "iopub.execute_input": "2021-03-22T20:06:50.698895Z",
     "iopub.status.busy": "2021-03-22T20:06:50.698214Z",
     "iopub.status.idle": "2021-03-22T20:06:50.702248Z",
     "shell.execute_reply": "2021-03-22T20:06:50.701578Z"
    },
    "papermill": {
     "duration": 0.022219,
     "end_time": "2021-03-22T20:06:50.702415",
     "exception": false,
     "start_time": "2021-03-22T20:06:50.680196",
     "status": "completed"
    },
    "tags": []
   },
   "outputs": [],
   "source": [
    "c = reg.intercept_"
   ]
  },
  {
   "cell_type": "code",
   "execution_count": 11,
   "metadata": {
    "execution": {
     "iopub.execute_input": "2021-03-22T20:06:50.733547Z",
     "iopub.status.busy": "2021-03-22T20:06:50.732802Z",
     "iopub.status.idle": "2021-03-22T20:06:50.736043Z",
     "shell.execute_reply": "2021-03-22T20:06:50.735406Z"
    },
    "papermill": {
     "duration": 0.021122,
     "end_time": "2021-03-22T20:06:50.736232",
     "exception": false,
     "start_time": "2021-03-22T20:06:50.715110",
     "status": "completed"
    },
    "tags": []
   },
   "outputs": [],
   "source": [
    "y = m * 3300 + c"
   ]
  },
  {
   "cell_type": "code",
   "execution_count": 12,
   "metadata": {
    "execution": {
     "iopub.execute_input": "2021-03-22T20:06:50.770563Z",
     "iopub.status.busy": "2021-03-22T20:06:50.769784Z",
     "iopub.status.idle": "2021-03-22T20:06:50.774433Z",
     "shell.execute_reply": "2021-03-22T20:06:50.773857Z"
    },
    "papermill": {
     "duration": 0.023627,
     "end_time": "2021-03-22T20:06:50.774615",
     "exception": false,
     "start_time": "2021-03-22T20:06:50.750988",
     "status": "completed"
    },
    "tags": []
   },
   "outputs": [
    {
     "data": {
      "text/plain": [
       "array([628715.75342466])"
      ]
     },
     "execution_count": 12,
     "metadata": {},
     "output_type": "execute_result"
    }
   ],
   "source": [
    "y"
   ]
  },
  {
   "cell_type": "code",
   "execution_count": 13,
   "metadata": {
    "execution": {
     "iopub.execute_input": "2021-03-22T20:06:50.827804Z",
     "iopub.status.busy": "2021-03-22T20:06:50.810485Z",
     "iopub.status.idle": "2021-03-22T20:06:50.992730Z",
     "shell.execute_reply": "2021-03-22T20:06:50.991815Z"
    },
    "papermill": {
     "duration": 0.203029,
     "end_time": "2021-03-22T20:06:50.992960",
     "exception": false,
     "start_time": "2021-03-22T20:06:50.789931",
     "status": "completed"
    },
    "tags": []
   },
   "outputs": [
    {
     "data": {
      "text/plain": [
       "[<matplotlib.lines.Line2D at 0x7fb240e52f90>]"
      ]
     },
     "execution_count": 13,
     "metadata": {},
     "output_type": "execute_result"
    },
    {
     "data": {
      "image/png": "[encoded data removed]",
      "text/plain": [
       "<Figure size 432x288 with 1 Axes>"
      ]
     },
     "metadata": {
      "needs_background": "light"
     },
     "output_type": "display_data"
    }
   ],
   "source": [
    "plt.scatter (df.area , df.price, color = 'black' , marker ='+')\n",
    "plt.xlabel('Area')\n",
    "plt.ylabel('Price')\n",
    "plt.plot(df.area , reg.predict(df[['area']]) , color='red')"
   ]
  }
 ],
 "metadata": {
  "kernelspec": {
   "display_name": "Python 3",
   "language": "python",
   "name": "python3"
  },
  "language_info": {
   "codemirror_mode": {
    "name": "ipython",
    "version": 3
   },
   "file_extension": ".py",
   "mimetype": "text/x-python",
   "name": "python",
   "nbconvert_exporter": "python",
   "pygments_lexer": "ipython3",
   "version": "3.7.9"
  },
  "papermill": {
   "default_parameters": {},
   "duration": 9.867857,
   "end_time": "2021-03-22T20:06:51.721928",
   "environment_variables": {},
   "exception": null,
   "input_path": "__notebook__.ipynb",
   "output_path": "__notebook__.ipynb",
   "parameters": {},
   "start_time": "2021-03-22T20:06:41.854071",
   "version": "2.2.2"
  }
 },
 "nbformat": 4,
 "nbformat_minor": 4
}
