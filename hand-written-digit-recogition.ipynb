{
 "cells": [
  {
   "cell_type": "code",
   "execution_count": 1,
   "id": "protecting-luther",
   "metadata": {
    "_cell_guid": "b1076dfc-b9ad-4769-8c92-a6c4dae69d19",
    "_uuid": "8f2839f25d086af736a60e9eeb907d3b93b6e0e5",
    "execution": {
     "iopub.execute_input": "2021-04-05T14:00:19.490671Z",
     "iopub.status.busy": "2021-04-05T14:00:19.490016Z",
     "iopub.status.idle": "2021-04-05T14:00:19.493718Z",
     "shell.execute_reply": "2021-04-05T14:00:19.492890Z"
    },
    "papermill": {
     "duration": 0.031718,
     "end_time": "2021-04-05T14:00:19.493902",
     "exception": false,
     "start_time": "2021-04-05T14:00:19.462184",
     "status": "completed"
    },
    "tags": []
   },
   "outputs": [],
   "source": [
    "# This Python 3 environment comes with many helpful analytics libraries installed\n",
    "# It is defined by the kaggle/python Docker image: https://github.com/kaggle/docker-python\n",
    "# For example, here's several helpful packages to load\n",
    "\n",
    "import numpy as np # linear algebra\n",
    "import pandas as pd # data processing, CSV file I/O (e.g. pd.read_csv)\n",
    "\n",
    "# Input data files are available in the read-only \"../input/\" directory\n",
    "# For example, running this (by clicking run or pressing Shift+Enter) will list all files under the input directory\n",
    "\n",
    "import os\n",
    "for dirname, _, filenames in os.walk('/kaggle/input'):\n",
    "    for filename in filenames:\n",
    "        print(os.path.join(dirname, filename))\n",
    "\n",
    "# You can write up to 20GB to the current directory (/kaggle/working/) that gets preserved as output when you create a version using \"Save & Run All\" \n",
    "# You can also write temporary files to /kaggle/temp/, but they won't be saved outside of the current session"
   ]
  },
  {
   "cell_type": "code",
   "execution_count": 2,
   "id": "working-quarter",
   "metadata": {
    "execution": {
     "iopub.execute_input": "2021-04-05T14:00:19.541065Z",
     "iopub.status.busy": "2021-04-05T14:00:19.540345Z",
     "iopub.status.idle": "2021-04-05T14:00:19.543650Z",
     "shell.execute_reply": "2021-04-05T14:00:19.542725Z"
    },
    "papermill": {
     "duration": 0.029488,
     "end_time": "2021-04-05T14:00:19.543804",
     "exception": false,
     "start_time": "2021-04-05T14:00:19.514316",
     "status": "completed"
    },
    "tags": []
   },
   "outputs": [],
   "source": [
    "%matplotlib inline\n",
    "import matplotlib.pyplot as plt"
   ]
  },
  {
   "cell_type": "code",
   "execution_count": 3,
   "id": "twenty-share",
   "metadata": {
    "execution": {
     "iopub.execute_input": "2021-04-05T14:00:19.588118Z",
     "iopub.status.busy": "2021-04-05T14:00:19.587276Z",
     "iopub.status.idle": "2021-04-05T14:00:20.837503Z",
     "shell.execute_reply": "2021-04-05T14:00:20.836275Z"
    },
    "papermill": {
     "duration": 1.274763,
     "end_time": "2021-04-05T14:00:20.837671",
     "exception": false,
     "start_time": "2021-04-05T14:00:19.562908",
     "status": "completed"
    },
    "tags": []
   },
   "outputs": [],
   "source": [
    "from sklearn.datasets import load_digits"
   ]
  },
  {
   "cell_type": "code",
   "execution_count": 4,
   "id": "south-therapy",
   "metadata": {
    "execution": {
     "iopub.execute_input": "2021-04-05T14:00:20.887710Z",
     "iopub.status.busy": "2021-04-05T14:00:20.886689Z",
     "iopub.status.idle": "2021-04-05T14:00:21.017521Z",
     "shell.execute_reply": "2021-04-05T14:00:21.016915Z"
    },
    "papermill": {
     "duration": 0.155762,
     "end_time": "2021-04-05T14:00:21.017689",
     "exception": false,
     "start_time": "2021-04-05T14:00:20.861927",
     "status": "completed"
    },
    "tags": []
   },
   "outputs": [],
   "source": [
    "digits = load_digits()"
   ]
  },
  {
   "cell_type": "code",
   "execution_count": 5,
   "id": "sweet-freeze",
   "metadata": {
    "execution": {
     "iopub.execute_input": "2021-04-05T14:00:21.066224Z",
     "iopub.status.busy": "2021-04-05T14:00:21.065084Z",
     "iopub.status.idle": "2021-04-05T14:00:21.070273Z",
     "shell.execute_reply": "2021-04-05T14:00:21.069619Z"
    },
    "papermill": {
     "duration": 0.033703,
     "end_time": "2021-04-05T14:00:21.070438",
     "exception": false,
     "start_time": "2021-04-05T14:00:21.036735",
     "status": "completed"
    },
    "tags": []
   },
   "outputs": [
    {
     "data": {
      "text/plain": [
       "['DESCR', 'data', 'feature_names', 'frame', 'images', 'target', 'target_names']"
      ]
     },
     "execution_count": 5,
     "metadata": {},
     "output_type": "execute_result"
    }
   ],
   "source": [
    "dir(digits)"
   ]
  },
  {
   "cell_type": "code",
   "execution_count": 6,
   "id": "organic-confusion",
   "metadata": {
    "execution": {
     "iopub.execute_input": "2021-04-05T14:00:21.116032Z",
     "iopub.status.busy": "2021-04-05T14:00:21.115119Z",
     "iopub.status.idle": "2021-04-05T14:00:21.120389Z",
     "shell.execute_reply": "2021-04-05T14:00:21.119845Z"
    },
    "papermill": {
     "duration": 0.030411,
     "end_time": "2021-04-05T14:00:21.120540",
     "exception": false,
     "start_time": "2021-04-05T14:00:21.090129",
     "status": "completed"
    },
    "tags": []
   },
   "outputs": [
    {
     "data": {
      "text/plain": [
       "array([ 0.,  0.,  5., 13.,  9.,  1.,  0.,  0.,  0.,  0., 13., 15., 10.,\n",
       "       15.,  5.,  0.,  0.,  3., 15.,  2.,  0., 11.,  8.,  0.,  0.,  4.,\n",
       "       12.,  0.,  0.,  8.,  8.,  0.,  0.,  5.,  8.,  0.,  0.,  9.,  8.,\n",
       "        0.,  0.,  4., 11.,  0.,  1., 12.,  7.,  0.,  0.,  2., 14.,  5.,\n",
       "       10., 12.,  0.,  0.,  0.,  0.,  6., 13., 10.,  0.,  0.,  0.])"
      ]
     },
     "execution_count": 6,
     "metadata": {},
     "output_type": "execute_result"
    }
   ],
   "source": [
    "digits.data[0]"
   ]
  },
  {
   "cell_type": "code",
   "execution_count": 7,
   "id": "prepared-nightlife",
   "metadata": {
    "execution": {
     "iopub.execute_input": "2021-04-05T14:00:21.168441Z",
     "iopub.status.busy": "2021-04-05T14:00:21.167645Z",
     "iopub.status.idle": "2021-04-05T14:00:21.172006Z",
     "shell.execute_reply": "2021-04-05T14:00:21.171357Z"
    },
    "papermill": {
     "duration": 0.031402,
     "end_time": "2021-04-05T14:00:21.172153",
     "exception": false,
     "start_time": "2021-04-05T14:00:21.140751",
     "status": "completed"
    },
    "tags": []
   },
   "outputs": [
    {
     "data": {
      "text/plain": [
       "<Figure size 432x288 with 0 Axes>"
      ]
     },
     "metadata": {},
     "output_type": "display_data"
    }
   ],
   "source": [
    "plt.gray()"
   ]
  },
  {
   "cell_type": "code",
   "execution_count": 8,
   "id": "otherwise-polyester",
   "metadata": {
    "execution": {
     "iopub.execute_input": "2021-04-05T14:00:21.236713Z",
     "iopub.status.busy": "2021-04-05T14:00:21.235890Z",
     "iopub.status.idle": "2021-04-05T14:00:22.697002Z",
     "shell.execute_reply": "2021-04-05T14:00:22.697835Z"
    },
    "papermill": {
     "duration": 1.505434,
     "end_time": "2021-04-05T14:00:22.698122",
     "exception": false,
     "start_time": "2021-04-05T14:00:21.192688",
     "status": "completed"
    },
    "tags": []
   },
   "outputs": [
    {
     "data": {
      "image/png": "[encoded data removed]",
      "text/plain": [
       "<Figure size 288x288 with 1 Axes>"
      ]
     },
     "metadata": {
      "needs_background": "light"
     },
     "output_type": "display_data"
    },
    {
     "data": {
      "image/png": "[encoded data removed]",
      "text/plain": [
       "<Figure size 288x288 with 1 Axes>"
      ]
     },
     "metadata": {
      "needs_background": "light"
     },
     "output_type": "display_data"
    },
    {
     "data": {
      "image/png": "[encoded data removed]",
      "text/plain": [
       "<Figure size 288x288 with 1 Axes>"
      ]
     },
     "metadata": {
      "needs_background": "light"
     },
     "output_type": "display_data"
    },
    {
     "data": {
      "image/png": "[encoded data removed]",
      "text/plain": [
       "<Figure size 288x288 with 1 Axes>"
      ]
     },
     "metadata": {
      "needs_background": "light"
     },
     "output_type": "display_data"
    },
    {
     "data": {
      "image/png": "[encoded data removed]",
      "text/plain": [
       "<Figure size 288x288 with 1 Axes>"
      ]
     },
     "metadata": {
      "needs_background": "light"
     },
     "output_type": "display_data"
    }
   ],
   "source": [
    "for i in range(5):\n",
    "    plt.matshow(digits.images[i])"
   ]
  },
  {
   "cell_type": "code",
   "execution_count": 9,
   "id": "distributed-bibliography",
   "metadata": {
    "execution": {
     "iopub.execute_input": "2021-04-05T14:00:22.769426Z",
     "iopub.status.busy": "2021-04-05T14:00:22.768707Z",
     "iopub.status.idle": "2021-04-05T14:00:22.773972Z",
     "shell.execute_reply": "2021-04-05T14:00:22.774554Z"
    },
    "papermill": {
     "duration": 0.034884,
     "end_time": "2021-04-05T14:00:22.774741",
     "exception": false,
     "start_time": "2021-04-05T14:00:22.739857",
     "status": "completed"
    },
    "tags": []
   },
   "outputs": [
    {
     "data": {
      "text/plain": [
       "array([0, 1, 2, 3, 4])"
      ]
     },
     "execution_count": 9,
     "metadata": {},
     "output_type": "execute_result"
    }
   ],
   "source": [
    "digits.target[0:5]"
   ]
  },
  {
   "cell_type": "code",
   "execution_count": 10,
   "id": "hazardous-cursor",
   "metadata": {
    "execution": {
     "iopub.execute_input": "2021-04-05T14:00:22.827710Z",
     "iopub.status.busy": "2021-04-05T14:00:22.826979Z",
     "iopub.status.idle": "2021-04-05T14:00:22.896525Z",
     "shell.execute_reply": "2021-04-05T14:00:22.895825Z"
    },
    "papermill": {
     "duration": 0.097935,
     "end_time": "2021-04-05T14:00:22.896686",
     "exception": false,
     "start_time": "2021-04-05T14:00:22.798751",
     "status": "completed"
    },
    "tags": []
   },
   "outputs": [],
   "source": [
    "from sklearn.model_selection import train_test_split"
   ]
  },
  {
   "cell_type": "code",
   "execution_count": 11,
   "id": "resident-discharge",
   "metadata": {
    "execution": {
     "iopub.execute_input": "2021-04-05T14:00:22.951004Z",
     "iopub.status.busy": "2021-04-05T14:00:22.950129Z",
     "iopub.status.idle": "2021-04-05T14:00:22.953992Z",
     "shell.execute_reply": "2021-04-05T14:00:22.953447Z"
    },
    "papermill": {
     "duration": 0.032802,
     "end_time": "2021-04-05T14:00:22.954128",
     "exception": false,
     "start_time": "2021-04-05T14:00:22.921326",
     "status": "completed"
    },
    "tags": []
   },
   "outputs": [],
   "source": [
    "X_train , X_test , y_train , y_test = train_test_split(digits.data,digits.target,test_size=0.2)"
   ]
  },
  {
   "cell_type": "code",
   "execution_count": 12,
   "id": "adjustable-seller",
   "metadata": {
    "execution": {
     "iopub.execute_input": "2021-04-05T14:00:23.008907Z",
     "iopub.status.busy": "2021-04-05T14:00:23.007997Z",
     "iopub.status.idle": "2021-04-05T14:00:23.012820Z",
     "shell.execute_reply": "2021-04-05T14:00:23.012173Z"
    },
    "papermill": {
     "duration": 0.03454,
     "end_time": "2021-04-05T14:00:23.012968",
     "exception": false,
     "start_time": "2021-04-05T14:00:22.978428",
     "status": "completed"
    },
    "tags": []
   },
   "outputs": [
    {
     "data": {
      "text/plain": [
       "1437"
      ]
     },
     "execution_count": 12,
     "metadata": {},
     "output_type": "execute_result"
    }
   ],
   "source": [
    "len(X_train)"
   ]
  },
  {
   "cell_type": "code",
   "execution_count": 13,
   "id": "proved-attendance",
   "metadata": {
    "execution": {
     "iopub.execute_input": "2021-04-05T14:00:23.066546Z",
     "iopub.status.busy": "2021-04-05T14:00:23.065810Z",
     "iopub.status.idle": "2021-04-05T14:00:23.072265Z",
     "shell.execute_reply": "2021-04-05T14:00:23.072914Z"
    },
    "papermill": {
     "duration": 0.034871,
     "end_time": "2021-04-05T14:00:23.073102",
     "exception": false,
     "start_time": "2021-04-05T14:00:23.038231",
     "status": "completed"
    },
    "tags": []
   },
   "outputs": [
    {
     "data": {
      "text/plain": [
       "360"
      ]
     },
     "execution_count": 13,
     "metadata": {},
     "output_type": "execute_result"
    }
   ],
   "source": [
    "len(X_test)"
   ]
  },
  {
   "cell_type": "code",
   "execution_count": 14,
   "id": "dying-uzbekistan",
   "metadata": {
    "execution": {
     "iopub.execute_input": "2021-04-05T14:00:23.128365Z",
     "iopub.status.busy": "2021-04-05T14:00:23.127693Z",
     "iopub.status.idle": "2021-04-05T14:00:23.244543Z",
     "shell.execute_reply": "2021-04-05T14:00:23.245056Z"
    },
    "papermill": {
     "duration": 0.146861,
     "end_time": "2021-04-05T14:00:23.245257",
     "exception": false,
     "start_time": "2021-04-05T14:00:23.098396",
     "status": "completed"
    },
    "tags": []
   },
   "outputs": [],
   "source": [
    "from sklearn.linear_model import LogisticRegression"
   ]
  },
  {
   "cell_type": "code",
   "execution_count": 15,
   "id": "opened-ballot",
   "metadata": {
    "execution": {
     "iopub.execute_input": "2021-04-05T14:00:23.301737Z",
     "iopub.status.busy": "2021-04-05T14:00:23.301050Z",
     "iopub.status.idle": "2021-04-05T14:00:23.304976Z",
     "shell.execute_reply": "2021-04-05T14:00:23.304399Z"
    },
    "papermill": {
     "duration": 0.034093,
     "end_time": "2021-04-05T14:00:23.305224",
     "exception": false,
     "start_time": "2021-04-05T14:00:23.271131",
     "status": "completed"
    },
    "tags": []
   },
   "outputs": [],
   "source": [
    "model = LogisticRegression()"
   ]
  },
  {
   "cell_type": "code",
   "execution_count": 16,
   "id": "fitting-latino",
   "metadata": {
    "execution": {
     "iopub.execute_input": "2021-04-05T14:00:23.366258Z",
     "iopub.status.busy": "2021-04-05T14:00:23.364160Z",
     "iopub.status.idle": "2021-04-05T14:00:23.689536Z",
     "shell.execute_reply": "2021-04-05T14:00:23.690508Z"
    },
    "papermill": {
     "duration": 0.35953,
     "end_time": "2021-04-05T14:00:23.690876",
     "exception": false,
     "start_time": "2021-04-05T14:00:23.331346",
     "status": "completed"
    },
    "tags": []
   },
   "outputs": [
    {
     "name": "stderr",
     "output_type": "stream",
     "text": [
      "/opt/conda/lib/python3.7/site-packages/sklearn/linear_model/_logistic.py:765: ConvergenceWarning: lbfgs failed to converge (status=1):\n",
      "STOP: TOTAL NO. of ITERATIONS REACHED LIMIT.\n",
      "\n",
      "Increase the number of iterations (max_iter) or scale the data as shown in:\n",
      "    https://scikit-learn.org/stable/modules/preprocessing.html\n",
      "Please also refer to the documentation for alternative solver options:\n",
      "    https://scikit-learn.org/stable/modules/linear_model.html#logistic-regression\n",
      "  extra_warning_msg=_LOGISTIC_SOLVER_CONVERGENCE_MSG)\n"
     ]
    },
    {
     "data": {
      "text/plain": [
       "LogisticRegression()"
      ]
     },
     "execution_count": 16,
     "metadata": {},
     "output_type": "execute_result"
    }
   ],
   "source": [
    "model.fit(X_train,y_train)"
   ]
  },
  {
   "cell_type": "code",
   "execution_count": 17,
   "id": "alpha-monster",
   "metadata": {
    "execution": {
     "iopub.execute_input": "2021-04-05T14:00:23.794114Z",
     "iopub.status.busy": "2021-04-05T14:00:23.793414Z",
     "iopub.status.idle": "2021-04-05T14:00:23.797702Z",
     "shell.execute_reply": "2021-04-05T14:00:23.798310Z"
    },
    "papermill": {
     "duration": 0.060549,
     "end_time": "2021-04-05T14:00:23.798487",
     "exception": false,
     "start_time": "2021-04-05T14:00:23.737938",
     "status": "completed"
    },
    "tags": []
   },
   "outputs": [
    {
     "data": {
      "text/plain": [
       "0.9555555555555556"
      ]
     },
     "execution_count": 17,
     "metadata": {},
     "output_type": "execute_result"
    }
   ],
   "source": [
    "model.score(X_test,y_test)"
   ]
  },
  {
   "cell_type": "code",
   "execution_count": 18,
   "id": "specific-happiness",
   "metadata": {
    "execution": {
     "iopub.execute_input": "2021-04-05T14:00:23.886163Z",
     "iopub.status.busy": "2021-04-05T14:00:23.885514Z",
     "iopub.status.idle": "2021-04-05T14:00:24.072531Z",
     "shell.execute_reply": "2021-04-05T14:00:24.071961Z"
    },
    "papermill": {
     "duration": 0.246672,
     "end_time": "2021-04-05T14:00:24.072682",
     "exception": false,
     "start_time": "2021-04-05T14:00:23.826010",
     "status": "completed"
    },
    "tags": []
   },
   "outputs": [
    {
     "data": {
      "text/plain": [
       "<matplotlib.image.AxesImage at 0x7f3f3b122e90>"
      ]
     },
     "execution_count": 18,
     "metadata": {},
     "output_type": "execute_result"
    },
    {
     "data": {
      "image/png": "[encoded data removed]",
      "text/plain": [
       "<Figure size 288x288 with 1 Axes>"
      ]
     },
     "metadata": {
      "needs_background": "light"
     },
     "output_type": "display_data"
    }
   ],
   "source": [
    "plt.matshow(digits.images[67])"
   ]
  },
  {
   "cell_type": "code",
   "execution_count": 19,
   "id": "worldwide-socket",
   "metadata": {
    "execution": {
     "iopub.execute_input": "2021-04-05T14:00:24.136567Z",
     "iopub.status.busy": "2021-04-05T14:00:24.135566Z",
     "iopub.status.idle": "2021-04-05T14:00:24.140065Z",
     "shell.execute_reply": "2021-04-05T14:00:24.139569Z"
    },
    "papermill": {
     "duration": 0.038057,
     "end_time": "2021-04-05T14:00:24.140205",
     "exception": false,
     "start_time": "2021-04-05T14:00:24.102148",
     "status": "completed"
    },
    "tags": []
   },
   "outputs": [
    {
     "data": {
      "text/plain": [
       "6"
      ]
     },
     "execution_count": 19,
     "metadata": {},
     "output_type": "execute_result"
    }
   ],
   "source": [
    "digits.target[67]"
   ]
  },
  {
   "cell_type": "code",
   "execution_count": 20,
   "id": "appropriate-glossary",
   "metadata": {
    "execution": {
     "iopub.execute_input": "2021-04-05T14:00:24.205063Z",
     "iopub.status.busy": "2021-04-05T14:00:24.204101Z",
     "iopub.status.idle": "2021-04-05T14:00:24.207908Z",
     "shell.execute_reply": "2021-04-05T14:00:24.208491Z"
    },
    "papermill": {
     "duration": 0.039936,
     "end_time": "2021-04-05T14:00:24.208704",
     "exception": false,
     "start_time": "2021-04-05T14:00:24.168768",
     "status": "completed"
    },
    "tags": []
   },
   "outputs": [
    {
     "data": {
      "text/plain": [
       "array([6])"
      ]
     },
     "execution_count": 20,
     "metadata": {},
     "output_type": "execute_result"
    }
   ],
   "source": [
    "model.predict([digits.data[67]])"
   ]
  },
  {
   "cell_type": "code",
   "execution_count": 21,
   "id": "stopped-noise",
   "metadata": {
    "execution": {
     "iopub.execute_input": "2021-04-05T14:00:24.271100Z",
     "iopub.status.busy": "2021-04-05T14:00:24.270075Z",
     "iopub.status.idle": "2021-04-05T14:00:24.277214Z",
     "shell.execute_reply": "2021-04-05T14:00:24.277807Z"
    },
    "papermill": {
     "duration": 0.039838,
     "end_time": "2021-04-05T14:00:24.277986",
     "exception": false,
     "start_time": "2021-04-05T14:00:24.238148",
     "status": "completed"
    },
    "tags": []
   },
   "outputs": [
    {
     "data": {
      "text/plain": [
       "array([0, 1, 2, 3, 4])"
      ]
     },
     "execution_count": 21,
     "metadata": {},
     "output_type": "execute_result"
    }
   ],
   "source": [
    "model.predict(digits.data[0:5])"
   ]
  },
  {
   "cell_type": "code",
   "execution_count": 22,
   "id": "injured-layout",
   "metadata": {
    "execution": {
     "iopub.execute_input": "2021-04-05T14:00:24.340436Z",
     "iopub.status.busy": "2021-04-05T14:00:24.339465Z",
     "iopub.status.idle": "2021-04-05T14:00:24.343705Z",
     "shell.execute_reply": "2021-04-05T14:00:24.344282Z"
    },
    "papermill": {
     "duration": 0.037119,
     "end_time": "2021-04-05T14:00:24.344487",
     "exception": false,
     "start_time": "2021-04-05T14:00:24.307368",
     "status": "completed"
    },
    "tags": []
   },
   "outputs": [],
   "source": [
    "from sklearn.metrics import confusion_matrix"
   ]
  },
  {
   "cell_type": "code",
   "execution_count": 23,
   "id": "pretty-profile",
   "metadata": {
    "execution": {
     "iopub.execute_input": "2021-04-05T14:00:24.407985Z",
     "iopub.status.busy": "2021-04-05T14:00:24.406974Z",
     "iopub.status.idle": "2021-04-05T14:00:24.411916Z",
     "shell.execute_reply": "2021-04-05T14:00:24.412493Z"
    },
    "papermill": {
     "duration": 0.038598,
     "end_time": "2021-04-05T14:00:24.412665",
     "exception": false,
     "start_time": "2021-04-05T14:00:24.374067",
     "status": "completed"
    },
    "tags": []
   },
   "outputs": [],
   "source": [
    "y_predicted = model.predict(X_test)"
   ]
  },
  {
   "cell_type": "code",
   "execution_count": 24,
   "id": "labeled-insured",
   "metadata": {
    "execution": {
     "iopub.execute_input": "2021-04-05T14:00:24.475724Z",
     "iopub.status.busy": "2021-04-05T14:00:24.474718Z",
     "iopub.status.idle": "2021-04-05T14:00:24.483886Z",
     "shell.execute_reply": "2021-04-05T14:00:24.483261Z"
    },
    "papermill": {
     "duration": 0.041708,
     "end_time": "2021-04-05T14:00:24.484029",
     "exception": false,
     "start_time": "2021-04-05T14:00:24.442321",
     "status": "completed"
    },
    "tags": []
   },
   "outputs": [],
   "source": [
    "a = confusion_matrix(y_test,y_predicted)"
   ]
  },
  {
   "cell_type": "code",
   "execution_count": 25,
   "id": "greenhouse-bracelet",
   "metadata": {
    "execution": {
     "iopub.execute_input": "2021-04-05T14:00:24.550873Z",
     "iopub.status.busy": "2021-04-05T14:00:24.549824Z",
     "iopub.status.idle": "2021-04-05T14:00:24.554663Z",
     "shell.execute_reply": "2021-04-05T14:00:24.553922Z"
    },
    "papermill": {
     "duration": 0.040862,
     "end_time": "2021-04-05T14:00:24.554811",
     "exception": false,
     "start_time": "2021-04-05T14:00:24.513949",
     "status": "completed"
    },
    "tags": []
   },
   "outputs": [
    {
     "data": {
      "text/plain": [
       "array([[33,  0,  0,  0,  0,  0,  0,  0,  0,  0],\n",
       "       [ 0, 33,  0,  1,  0,  0,  0,  0,  2,  1],\n",
       "       [ 0,  0, 38,  0,  0,  0,  0,  0,  0,  0],\n",
       "       [ 0,  0,  0, 30,  0,  0,  0,  0,  0,  0],\n",
       "       [ 1,  0,  0,  0, 44,  0,  0,  0,  0,  0],\n",
       "       [ 0,  0,  0,  0,  1, 34,  0,  0,  0,  1],\n",
       "       [ 0,  0,  0,  0,  0,  1, 35,  0,  1,  0],\n",
       "       [ 0,  0,  0,  0,  0,  0,  0, 38,  0,  1],\n",
       "       [ 0,  2,  0,  0,  1,  1,  0,  0, 24,  0],\n",
       "       [ 0,  0,  0,  0,  0,  0,  0,  0,  2, 35]])"
      ]
     },
     "execution_count": 25,
     "metadata": {},
     "output_type": "execute_result"
    }
   ],
   "source": [
    "a"
   ]
  },
  {
   "cell_type": "code",
   "execution_count": 26,
   "id": "reasonable-presence",
   "metadata": {
    "execution": {
     "iopub.execute_input": "2021-04-05T14:00:24.620498Z",
     "iopub.status.busy": "2021-04-05T14:00:24.619798Z",
     "iopub.status.idle": "2021-04-05T14:00:24.705972Z",
     "shell.execute_reply": "2021-04-05T14:00:24.705265Z"
    },
    "papermill": {
     "duration": 0.120392,
     "end_time": "2021-04-05T14:00:24.706116",
     "exception": false,
     "start_time": "2021-04-05T14:00:24.585724",
     "status": "completed"
    },
    "tags": []
   },
   "outputs": [],
   "source": [
    "import seaborn as sns"
   ]
  },
  {
   "cell_type": "code",
   "execution_count": 27,
   "id": "concerned-integral",
   "metadata": {
    "execution": {
     "iopub.execute_input": "2021-04-05T14:00:24.801495Z",
     "iopub.status.busy": "2021-04-05T14:00:24.792061Z",
     "iopub.status.idle": "2021-04-05T14:00:25.373530Z",
     "shell.execute_reply": "2021-04-05T14:00:25.372966Z"
    },
    "papermill": {
     "duration": 0.637403,
     "end_time": "2021-04-05T14:00:25.373661",
     "exception": false,
     "start_time": "2021-04-05T14:00:24.736258",
     "status": "completed"
    },
    "tags": []
   },
   "outputs": [
    {
     "data": {
      "text/plain": [
       "Text(69.0, 0.5, 'Truth')"
      ]
     },
     "execution_count": 27,
     "metadata": {},
     "output_type": "execute_result"
    },
    {
     "data": {
      "image/png": "[encoded data removed]",
      "text/plain": [
       "<Figure size 720x504 with 2 Axes>"
      ]
     },
     "metadata": {
      "needs_background": "light"
     },
     "output_type": "display_data"
    }
   ],
   "source": [
    "plt.figure(figsize = (10,7))\n",
    "sns.heatmap(a,annot = True)\n",
    "plt.xlabel('Predicted')\n",
    "plt.ylabel('Truth')"
   ]
  }
 ],
 "metadata": {
  "kernelspec": {
   "display_name": "Python 3",
   "language": "python",
   "name": "python3"
  },
  "language_info": {
   "codemirror_mode": {
    "name": "ipython",
    "version": 3
   },
   "file_extension": ".py",
   "mimetype": "text/x-python",
   "name": "python",
   "nbconvert_exporter": "python",
   "pygments_lexer": "ipython3",
   "version": "3.7.9"
  },
  "papermill": {
   "default_parameters": {},
   "duration": 13.597508,
   "end_time": "2021-04-05T14:00:26.115884",
   "environment_variables": {},
   "exception": null,
   "input_path": "__notebook__.ipynb",
   "output_path": "__notebook__.ipynb",
   "parameters": {},
   "start_time": "2021-04-05T14:00:12.518376",
   "version": "2.3.2"
  }
 },
 "nbformat": 4,
 "nbformat_minor": 5
}
