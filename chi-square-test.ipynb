{
 "cells": [
  {
   "cell_type": "code",
   "execution_count": 1,
   "metadata": {
    "_cell_guid": "b1076dfc-b9ad-4769-8c92-a6c4dae69d19",
    "_uuid": "8f2839f25d086af736a6
    0e9eeb907d3b93b6e0e5",
    "execution": {
     "iopub.execute_input": "2021-04-03T17:36:49.954573Z",
     "iopub.status.busy": "2021-04-03T17:36:49.953755Z",
     "iopub.status.idle": "2021-04-03T17:36:49.957437Z",
     "shell.execute_reply": "2021-04-03T17:36:49.956616Z"
    },
    "papermill": {
     "duration": 0.033304,
     "end_time": "2021-04-03T17:36:49.957690",
     "exception": false,
     "start_time": "2021-04-03T17:36:49.924386",
     "status": "completed"
    },
    "tags": []
   },
   "outputs": [],
   "source": [
    "# This Python 3 environment comes with many helpful analytics libraries installed\n",
    "# It is defined by the kaggle/python Docker image: https://github.com/kaggle/docker-python\n",
    "# For example, here's several helpful packages to  load\n",
    "\n",
    "import numpy as np # linear algebra\n",
    "import pandas as pd # data processing, CSV file I/O (e.g. pd.read_csv)\n",
    "\n",
    "# Input data files are available in the read-only \"../input/\" directory\n",
    "# For example, running this (by clicking run or pressing Shift+Enter) will  list all files under the input directory\n",
    "\n",
    "import os\n",
    "for dirname, _, filenames in os.walk('/kaggle/input'):\n",
    "    for filename in filenames:\n",
    "        print(os.path.join(dirname, filename))\n",
    "\n",
    "# You can write up to 20GB to the current directory (/kaggle/working/) that gets preserved as output when you create a version using \"Save & Run All\" \n",
    "# You can also write temporary files to /kaggle/temp/, but they won't be saved outside of the current session"
   ]
  },
  {
   "cell_type": "code",
   "execution_count": 2,
   "metadata": {
    "execution": {
     "iopub.execute_input": "2021-04-03T17:36:50.000953Z",
     "iopub.status.busy": "2021-04-03T17:36:49.999605Z",
     "iopub.status.idle": "2021-04-03T17:36:50.945319Z",
     "shell.execute_reply": "2021-04-03T17:36:50.945836Z"
    },
    "papermill": {
     "duration": 0.969978,
     "end_time": "2021-04-03T17:36:50.946112",
     "exception": false,
     "start_time": "2021-04-03T17:36:49.976134",
     "status": "completed"
    },
    "tags": []
   },
   "outputs": [],
   "source": [
    "import scipy.stats as stats"
   ]
  },
  {
   "cell_type": "code",
   "execution_count": 3,
   "metadata": {
    "execution": {
     "iopub.execute_input": "2021-04-03T17:36:50.989260Z",
     "iopub.status.busy": "2021-04-03T17:36:50.988484Z",
     "iopub.status.idle": "2021-04-03T17:36:51.083099Z",
     "shell.execute_reply": "2021-04-03T17:36:51.082323Z"
    },
    "papermill": {
     "duration": 0.118258,
     "end_time": "2021-04-03T17:36:51.083280",
     "exception": false,
     "start_time": "2021-04-03T17:36:50.965022",
     "status": "completed"
    },
    "tags": []
   },
   "outputs": [],
   "source": [
    "import seaborn as sns\n",
    "import pandas as pd\n",
    "import numpy as np"
   ]
  },
  {
   "cell_type": "code",
   "execution_count": 4,
   "metadata": {
    "execution": {
     "iopub.execute_input": "2021-04-03T17:36:51.125822Z",
     "iopub.status.busy": "2021-04-03T17:36:51.125107Z",
     "iopub.status.idle": "2021-04-03T17:36:52.058820Z",
     "shell.execute_reply": "2021-04-03T17:36:52.058054Z"
    },
    "papermill": {
     "duration": 0.957472,
     "end_time": "2021-04-03T17:36:52.059010",
     "exception": false,
     "start_time": "2021-04-03T17:36:51.101538",
     "status": "completed"
    },
    "tags": []
   },
   "outputs": [],
   "source": [
    "df = sns.load_dataset('tips')"
   ]
  },
  {
   "cell_type": "code",
   "execution_count": 5,
   "metadata": {
    "execution": {
     "iopub.execute_input": "2021-04-03T17:36:52.105318Z",
     "iopub.status.busy": "2021-04-03T17:36:52.104277Z",
     "iopub.status.idle": "2021-04-03T17:36:52.128621Z",
     "shell.execute_reply": "2021-04-03T17:36:52.127932Z"
    },
    "papermill": {
     "duration": 0.05131,
     "end_time": "2021-04-03T17:36:52.128776",
     "exception": false,
     "start_time": "2021-04-03T17:36:52.077466",
     "status": "completed"
    },
    "tags": []
   },
   "outputs": [
    {
     "data": {
      "text/html": [
       "<div>\n",
       "<style scoped>\n",
       "    .dataframe tbody tr th:only-of-type {\n",
       "        vertical-align: middle;\n",
       "    }\n",
       "\n",
       "    .dataframe tbody tr th {\n",
       "        vertical-align: top;\n",
       "    }\n",
       "\n",
       "    .dataframe thead th {\n",
       "        text-align: right;\n",
       "    }\n",
       "</style>\n",
       "<table border=\"1\" class=\"dataframe\">\n",
       "  <thead>\n",
       "    <tr style=\"text-align: right;\">\n",
       "      <th></th>\n",
       "      <th>total_bill</th>\n",
       "      <th>tip</th>\n",
       "      <th>sex</th>\n",
       "      <th>smoker</th>\n",
       "      <th>day</th>\n",
       "      <th>time</th>\n",
       "      <th>size</th>\n",
       "    </tr>\n",
       "  </thead>\n",
       "  <tbody>\n",
       "    <tr>\n",
       "      <th>0</th>\n",
       "      <td>16.99</td>\n",
       "      <td>1.01</td>\n",
       "      <td>Female</td>\n",
       "      <td>No</td>\n",
       "      <td>Sun</td>\n",
       "      <td>Dinner</td>\n",
       "      <td>2</td>\n",
       "    </tr>\n",
       "    <tr>\n",
       "      <th>1</th>\n",
       "      <td>10.34</td>\n",
       "      <td>1.66</td>\n",
       "      <td>Male</td>\n",
       "      <td>No</td>\n",
       "      <td>Sun</td>\n",
       "      <td>Dinner</td>\n",
       "      <td>3</td>\n",
       "    </tr>\n",
       "    <tr>\n",
       "      <th>2</th>\n",
       "      <td>21.01</td>\n",
       "      <td>3.50</td>\n",
       "      <td>Male</td>\n",
       "      <td>No</td>\n",
       "      <td>Sun</td>\n",
       "      <td>Dinner</td>\n",
       "      <td>3</td>\n",
       "    </tr>\n",
       "    <tr>\n",
       "      <th>3</th>\n",
       "      <td>23.68</td>\n",
       "      <td>3.31</td>\n",
       "      <td>Male</td>\n",
       "      <td>No</td>\n",
       "      <td>Sun</td>\n",
       "      <td>Dinner</td>\n",
       "      <td>2</td>\n",
       "    </tr>\n",
       "    <tr>\n",
       "      <th>4</th>\n",
       "      <td>24.59</td>\n",
       "      <td>3.61</td>\n",
       "      <td>Female</td>\n",
       "      <td>No</td>\n",
       "      <td>Sun</td>\n",
       "      <td>Dinner</td>\n",
       "      <td>4</td>\n",
       "    </tr>\n",
       "  </tbody>\n",
       "</table>\n",
       "</div>"
      ],
      "text/plain": [
       "   total_bill   tip     sex smoker  day    time  size\n",
       "0       16.99  1.01  Female     No  Sun  Dinner     2\n",
       "1       10.34  1.66    Male     No  Sun  Dinner     3\n",
       "2       21.01  3.50    Male     No  Sun  Dinner     3\n",
       "3       23.68  3.31    Male     No  Sun  Dinner     2\n",
       "4       24.59  3.61  Female     No  Sun  Dinner     4"
      ]
     },
     "execution_count": 5,
     "metadata": {},
     "output_type": "execute_result"
    }
   ],
   "source": [
    "df.head()"
   ]
  },
  {
   "cell_type": "code",
   "execution_count": 6,
   "metadata": {
    "execution": {
     "iopub.execute_input": "2021-04-03T17:36:52.185531Z",
     "iopub.status.busy": "2021-04-03T17:36:52.184845Z",
     "iopub.status.idle": "2021-04-03T17:36:52.225028Z",
     "shell.execute_reply": "2021-04-03T17:36:52.224283Z"
    },
    "papermill": {
     "duration": 0.076559,
     "end_time": "2021-04-03T17:36:52.225197",
     "exception": false,
     "start_time": "2021-04-03T17:36:52.148638",
     "status": "completed"
    },
    "tags": []
   },
   "outputs": [],
   "source": [
    "df_table = pd.crosstab(df['sex'],df['smoker'])"
   ]
  },
  {
   "cell_type": "code",
   "execution_count": 7,
   "metadata": {
    "execution": {
     "iopub.execute_input": "2021-04-03T17:36:52.275304Z",
     "iopub.status.busy": "2021-04-03T17:36:52.274430Z",
     "iopub.status.idle": "2021-04-03T17:36:52.280049Z",
     "shell.execute_reply": "2021-04-03T17:36:52.279335Z"
    },
    "papermill": {
     "duration": 0.035893,
     "end_time": "2021-04-03T17:36:52.280220",
     "exception": false,
     "start_time": "2021-04-03T17:36:52.244327",
     "status": "completed"
    },
    "tags": []
   },
   "outputs": [
    {
     "data": {
      "text/html": [
       "<div>\n",
       "<style scoped>\n",
       "    .dataframe tbody tr th:only-of-type {\n",
       "        vertical-align: middle;\n",
       "    }\n",
       "\n",
       "    .dataframe tbody tr th {\n",
       "        vertical-align: top;\n",
       "    }\n",
       "\n",
       "    .dataframe thead th {\n",
       "        text-align: right;\n",
       "    }\n",
       "</style>\n",
       "<table border=\"1\" class=\"dataframe\">\n",
       "  <thead>\n",
       "    <tr style=\"text-align: right;\">\n",
       "      <th>smoker</th>\n",
       "      <th>Yes</th>\n",
       "      <th>No</th>\n",
       "    </tr>\n",
       "    <tr>\n",
       "      <th>sex</th>\n",
       "      <th></th>\n",
       "      <th></th>\n",
       "    </tr>\n",
       "  </thead>\n",
       "  <tbody>\n",
       "    <tr>\n",
       "      <th>Male</th>\n",
       "      <td>60</td>\n",
       "      <td>97</td>\n",
       "    </tr>\n",
       "    <tr>\n",
       "      <th>Female</th>\n",
       "      <td>33</td>\n",
       "      <td>54</td>\n",
       "    </tr>\n",
       "  </tbody>\n",
       "</table>\n",
       "</div>"
      ],
      "text/plain": [
       "smoker  Yes  No\n",
       "sex            \n",
       "Male     60  97\n",
       "Female   33  54"
      ]
     },
     "execution_count": 7,
     "metadata": {},
     "output_type": "execute_result"
    }
   ],
   "source": [
    "df_table"
   ]
  },
  {
   "cell_type": "code",
   "execution_count": 8,
   "metadata": {
    "execution": {
     "iopub.execute_input": "2021-04-03T17:36:52.326442Z",
     "iopub.status.busy": "2021-04-03T17:36:52.325777Z",
     "iopub.status.idle": "2021-04-03T17:36:52.329666Z",
     "shell.execute_reply": "2021-04-03T17:36:52.329158Z"
    },
    "papermill": {
     "duration": 0.029634,
     "end_time": "2021-04-03T17:36:52.329811",
     "exception": false,
     "start_time": "2021-04-03T17:36:52.300177",
     "status": "completed"
    },
    "tags": []
   },
   "outputs": [],
   "source": [
    "observed_val = df_table.values"
   ]
  },
  {
   "cell_type": "code",
   "execution_count": 9,
   "metadata": {
    "execution": {
     "iopub.execute_input": "2021-04-03T17:36:52.373292Z",
     "iopub.status.busy": "2021-04-03T17:36:52.372625Z",
     "iopub.status.idle": "2021-04-03T17:36:52.381722Z",
     "shell.execute_reply": "2021-04-03T17:36:52.380580Z"
    },
    "papermill": {
     "duration": 0.032589,
     "end_time": "2021-04-03T17:36:52.382018",
     "exception": false,
     "start_time": "2021-04-03T17:36:52.349429",
     "status": "completed"
    },
    "tags": []
   },
   "outputs": [
    {
     "name": "stdout",
     "output_type": "stream",
     "text": [
      "Observed values: \n",
      " [[60 97]\n",
      " [33 54]]\n"
     ]
    }
   ],
   "source": [
    "print('Observed values: \\n',observed_val)"
   ]
  },
  {
   "cell_type": "code",
   "execution_count": 10,
   "metadata": {
    "execution": {
     "iopub.execute_input": "2021-04-03T17:36:52.433177Z",
     "iopub.status.busy": "2021-04-03T17:36:52.432117Z",
     "iopub.status.idle": "2021-04-03T17:36:52.437081Z",
     "shell.execute_reply": "2021-04-03T17:36:52.436255Z"
    },
    "papermill": {
     "duration": 0.034089,
     "end_time": "2021-04-03T17:36:52.437276",
     "exception": false,
     "start_time": "2021-04-03T17:36:52.403187",
     "status": "completed"
    },
    "tags": []
   },
   "outputs": [],
   "source": [
    "val = stats.chi2_contingency(df_table)"
   ]
  },
  {
   "cell_type": "code",
   "execution_count": 11,
   "metadata": {
    "execution": {
     "iopub.execute_input": "2021-04-03T17:36:52.485086Z",
     "iopub.status.busy": "2021-04-03T17:36:52.484064Z",
     "iopub.status.idle": "2021-04-03T17:36:52.489993Z",
     "shell.execute_reply": "2021-04-03T17:36:52.489233Z"
    },
    "papermill": {
     "duration": 0.032369,
     "end_time": "2021-04-03T17:36:52.490162",
     "exception": false,
     "start_time": "2021-04-03T17:36:52.457793",
     "status": "completed"
    },
    "tags": []
   },
   "outputs": [
    {
     "data": {
      "text/plain": [
       "(0.008763290531773594,\n",
       " 0.925417020494423,\n",
       " 1,\n",
       " array([[59.84016393, 97.15983607],\n",
       "        [33.15983607, 53.84016393]]))"
      ]
     },
     "execution_count": 11,
     "metadata": {},
     "output_type": "execute_result"
    }
   ],
   "source": [
    "val"
   ]
  },
  {
   "cell_type": "code",
   "execution_count": 12,
   "metadata": {
    "execution": {
     "iopub.execute_input": "2021-04-03T17:36:52.537378Z",
     "iopub.status.busy": "2021-04-03T17:36:52.536619Z",
     "iopub.status.idle": "2021-04-03T17:36:52.540747Z",
     "shell.execute_reply": "2021-04-03T17:36:52.540059Z"
    },
    "papermill": {
     "duration": 0.030033,
     "end_time": "2021-04-03T17:36:52.540930",
     "exception": false,
     "start_time": "2021-04-03T17:36:52.510897",
     "status": "completed"
    },
    "tags": []
   },
   "outputs": [],
   "source": [
    "expected_val = val[3]"
   ]
  },
  {
   "cell_type": "code",
   "execution_count": 13,
   "metadata": {
    "execution": {
     "iopub.execute_input": "2021-04-03T17:36:52.590087Z",
     "iopub.status.busy": "2021-04-03T17:36:52.589328Z",
     "iopub.status.idle": "2021-04-03T17:36:52.593084Z",
     "shell.execute_reply": "2021-04-03T17:36:52.592387Z"
    },
    "papermill": {
     "duration": 0.03052,
     "end_time": "2021-04-03T17:36:52.593259",
     "exception": false,
     "start_time": "2021-04-03T17:36:52.562739",
     "status": "completed"
    },
    "tags": []
   },
   "outputs": [],
   "source": [
    "rows = len(df_table.iloc[0:2,0])"
   ]
  },
  {
   "cell_type": "code",
   "execution_count": 14,
   "metadata": {
    "execution": {
     "iopub.execute_input": "2021-04-03T17:36:52.642736Z",
     "iopub.status.busy": "2021-04-03T17:36:52.642099Z",
     "iopub.status.idle": "2021-04-03T17:36:52.645859Z",
     "shell.execute_reply": "2021-04-03T17:36:52.645238Z"
    },
    "papermill": {
     "duration": 0.031474,
     "end_time": "2021-04-03T17:36:52.646137",
     "exception": false,
     "start_time": "2021-04-03T17:36:52.614663",
     "status": "completed"
    },
    "tags": []
   },
   "outputs": [],
   "source": [
    "cols = len(df_table.iloc[0 , 0:2])"
   ]
  },
  {
   "cell_type": "code",
   "execution_count": 15,
   "metadata": {
    "execution": {
     "iopub.execute_input": "2021-04-03T17:36:52.694027Z",
     "iopub.status.busy": "2021-04-03T17:36:52.693265Z",
     "iopub.status.idle": "2021-04-03T17:36:52.695415Z",
     "shell.execute_reply": "2021-04-03T17:36:52.695962Z"
    },
    "papermill": {
     "duration": 0.028392,
     "end_time": "2021-04-03T17:36:52.696133",
     "exception": false,
     "start_time": "2021-04-03T17:36:52.667741",
     "status": "completed"
    },
    "tags": []
   },
   "outputs": [],
   "source": [
    "ddof = (rows-1)*(cols-1)"
   ]
  },
  {
   "cell_type": "code",
   "execution_count": 16,
   "metadata": {
    "execution": {
     "iopub.execute_input": "2021-04-03T17:36:52.744042Z",
     "iopub.status.busy": "2021-04-03T17:36:52.743351Z",
     "iopub.status.idle": "2021-04-03T17:36:52.747259Z",
     "shell.execute_reply": "2021-04-03T17:36:52.746359Z"
    },
    "papermill": {
     "duration": 0.030698,
     "end_time": "2021-04-03T17:36:52.747460",
     "exception": false,
     "start_time": "2021-04-03T17:36:52.716762",
     "status": "completed"
    },
    "tags": []
   },
   "outputs": [
    {
     "name": "stdout",
     "output_type": "stream",
     "text": [
      "Degree of freedom: \n",
      " 1\n"
     ]
    }
   ],
   "source": [
    "print(\"Degree of freedom: \\n\",ddof)\n",
    "alpha=0.05"
   ]
  },
  {
   "cell_type": "code",
   "execution_count": 17,
   "metadata": {
    "execution": {
     "iopub.execute_input": "2021-04-03T17:36:52.800286Z",
     "iopub.status.busy": "2021-04-03T17:36:52.799256Z",
     "iopub.status.idle": "2021-04-03T17:36:52.802470Z",
     "shell.execute_reply": "2021-04-03T17:36:52.801785Z"
    },
    "papermill": {
     "duration": 0.030984,
     "end_time": "2021-04-03T17:36:52.802626",
     "exception": false,
     "start_time": "2021-04-03T17:36:52.771642",
     "status": "completed"
    },
    "tags": []
   },
   "outputs": [],
   "source": [
    "from scipy.stats import chi2"
   ]
  },
  {
   "cell_type": "code",
   "execution_count": 18,
   "metadata": {
    "execution": {
     "iopub.execute_input": "2021-04-03T17:36:52.853805Z",
     "iopub.status.busy": "2021-04-03T17:36:52.852890Z",
     "iopub.status.idle": "2021-04-03T17:36:52.856686Z",
     "shell.execute_reply": "2021-04-03T17:36:52.856119Z"
    },
    "papermill": {
     "duration": 0.032188,
     "end_time": "2021-04-03T17:36:52.856846",
     "exception": false,
     "start_time": "2021-04-03T17:36:52.824658",
     "status": "completed"
    },
    "tags": []
   },
   "outputs": [],
   "source": [
    "chi_s = sum([(o-e)**2./e for o,e in zip(observed_val,expected_val)])"
   ]
  },
  {
   "cell_type": "code",
   "execution_count": 19,
   "metadata": {
    "execution": {
     "iopub.execute_input": "2021-04-03T17:36:52.907556Z",
     "iopub.status.busy": "2021-04-03T17:36:52.906701Z",
     "iopub.status.idle": "2021-04-03T17:36:52.910043Z",
     "shell.execute_reply": "2021-04-03T17:36:52.909400Z"
    },
    "papermill": {
     "duration": 0.031027,
     "end_time": "2021-04-03T17:36:52.910227",
     "exception": false,
     "start_time": "2021-04-03T17:36:52.879200",
     "status": "completed"
    },
    "tags": []
   },
   "outputs": [],
   "source": [
    "chi_square_statistic = chi_s[0]+chi_s[1]"
   ]
  },
  {
   "cell_type": "code",
   "execution_count": 20,
   "metadata": {
    "execution": {
     "iopub.execute_input": "2021-04-03T17:36:52.963799Z",
     "iopub.status.busy": "2021-04-03T17:36:52.962861Z",
     "iopub.status.idle": "2021-04-03T17:36:52.967364Z",
     "shell.execute_reply": "2021-04-03T17:36:52.966702Z"
    },
    "papermill": {
     "duration": 0.0351,
     "end_time": "2021-04-03T17:36:52.967522",
     "exception": false,
     "start_time": "2021-04-03T17:36:52.932422",
     "status": "completed"
    },
    "tags": []
   },
   "outputs": [
    {
     "data": {
      "text/plain": [
       "0.001934818536627623"
      ]
     },
     "execution_count": 20,
     "metadata": {},
     "output_type": "execute_result"
    }
   ],
   "source": [
    "chi_square_statistic"
   ]
  },
  {
   "cell_type": "code",
   "execution_count": 21,
   "metadata": {
    "execution": {
     "iopub.execute_input": "2021-04-03T17:36:53.017483Z",
     "iopub.status.busy": "2021-04-03T17:36:53.016710Z",
     "iopub.status.idle": "2021-04-03T17:36:53.023384Z",
     "shell.execute_reply": "2021-04-03T17:36:53.022753Z"
    },
    "papermill": {
     "duration": 0.033367,
     "end_time": "2021-04-03T17:36:53.023551",
     "exception": false,
     "start_time": "2021-04-03T17:36:52.990184",
     "status": "completed"
    },
    "tags": []
   },
   "outputs": [],
   "source": [
    "critical_value = chi2.ppf(q=1-alpha,df=ddof)"
   ]
  },
  {
   "cell_type": "code",
   "execution_count": 22,
   "metadata": {
    "execution": {
     "iopub.execute_input": "2021-04-03T17:36:53.076505Z",
     "iopub.status.busy": "2021-04-03T17:36:53.075408Z",
     "iopub.status.idle": "2021-04-03T17:36:53.080450Z",
     "shell.execute_reply": "2021-04-03T17:36:53.079846Z"
    },
    "papermill": {
     "duration": 0.034214,
     "end_time": "2021-04-03T17:36:53.080618",
     "exception": false,
     "start_time": "2021-04-03T17:36:53.046404",
     "status": "completed"
    },
    "tags": []
   },
   "outputs": [
    {
     "data": {
      "text/plain": [
       "3.841458820694124"
      ]
     },
     "execution_count": 22,
     "metadata": {},
     "output_type": "execute_result"
    }
   ],
   "source": [
    "critical_value"
   ]
  },
  {
   "cell_type": "code",
   "execution_count": 23,
   "metadata": {
    "execution": {
     "iopub.execute_input": "2021-04-03T17:36:53.133934Z",
     "iopub.status.busy": "2021-04-03T17:36:53.132847Z",
     "iopub.status.idle": "2021-04-03T17:36:53.136735Z",
     "shell.execute_reply": "2021-04-03T17:36:53.136135Z"
    },
    "papermill": {
     "duration": 0.033108,
     "end_time": "2021-04-03T17:36:53.136926",
     "exception": false,
     "start_time": "2021-04-03T17:36:53.103818",
     "status": "completed"
    },
    "tags": []
   },
   "outputs": [],
   "source": [
    "p_value = 1-chi2.cdf(x=chi_square_statistic,df=ddof)"
   ]
  },
  {
   "cell_type": "code",
   "execution_count": 24,
   "metadata": {
    "execution": {
     "iopub.execute_input": "2021-04-03T17:36:53.190424Z",
     "iopub.status.busy": "2021-04-03T17:36:53.189629Z",
     "iopub.status.idle": "2021-04-03T17:36:53.193883Z",
     "shell.execute_reply": "2021-04-03T17:36:53.194549Z"
    },
    "papermill": {
     "duration": 0.034042,
     "end_time": "2021-04-03T17:36:53.194787",
     "exception": false,
     "start_time": "2021-04-03T17:36:53.160745",
     "status": "completed"
    },
    "tags": []
   },
   "outputs": [
    {
     "data": {
      "text/plain": [
       "0.964915107315732"
      ]
     },
     "execution_count": 24,
     "metadata": {},
     "output_type": "execute_result"
    }
   ],
   "source": [
    "p_value"
   ]
  },
  {
   "cell_type": "code",
   "execution_count": 25,
   "metadata": {
    "execution": {
     "iopub.execute_input": "2021-04-03T17:36:53.250359Z",
     "iopub.status.busy": "2021-04-03T17:36:53.249460Z",
     "iopub.status.idle": "2021-04-03T17:36:53.254946Z",
     "shell.execute_reply": "2021-04-03T17:36:53.253727Z"
    },
    "papermill": {
     "duration": 0.035467,
     "end_time": "2021-04-03T17:36:53.255146",
     "exception": false,
     "start_time": "2021-04-03T17:36:53.219679",
     "status": "completed"
    },
    "tags": []
   },
   "outputs": [
    {
     "data": {
      "text/plain": [
       "0.05"
      ]
     },
     "execution_count": 25,
     "metadata": {},
     "output_type": "execute_result"
    }
   ],
   "source": [
    "alpha"
   ]
  },
  {
   "cell_type": "code",
   "execution_count": 26,
   "metadata": {
    "execution": {
     "iopub.execute_input": "2021-04-03T17:36:53.310799Z",
     "iopub.status.busy": "2021-04-03T17:36:53.309528Z",
     "iopub.status.idle": "2021-04-03T17:36:53.314502Z",
     "shell.execute_reply": "2021-04-03T17:36:53.313796Z"
    },
    "papermill": {
     "duration": 0.035093,
     "end_time": "2021-04-03T17:36:53.314671",
     "exception": false,
     "start_time": "2021-04-03T17:36:53.279578",
     "status": "completed"
    },
    "tags": []
   },
   "outputs": [
    {
     "data": {
      "text/plain": [
       "1"
      ]
     },
     "execution_count": 26,
     "metadata": {},
     "output_type": "execute_result"
    }
   ],
   "source": [
    "ddof"
   ]
  },
  {
   "cell_type": "code",
   "execution_count": 27,
   "metadata": {
    "execution": {
     "iopub.execute_input": "2021-04-03T17:36:53.370658Z",
     "iopub.status.busy": "2021-04-03T17:36:53.369996Z",
     "iopub.status.idle": "2021-04-03T17:36:53.373688Z",
     "shell.execute_reply": "2021-04-03T17:36:53.373144Z"
    },
    "papermill": {
     "duration": 0.03434,
     "end_time": "2021-04-03T17:36:53.373843",
     "exception": false,
     "start_time": "2021-04-03T17:36:53.339503",
     "status": "completed"
    },
    "tags": []
   },
   "outputs": [
    {
     "name": "stdout",
     "output_type": "stream",
     "text": [
      "Retain H0 , There is no relationship between 2 categorical values\n"
     ]
    }
   ],
   "source": [
    "if chi_square_statistic >= critical_value:\n",
    "    print('Reject H0 , There is a relationship between 2 categorical values')\n",
    "else:\n",
    "    print('Retain H0 , There is no relationship between 2 categorical values')"
   ]
  },
  {
   "cell_type": "code",
   "execution_count": 28,
   "metadata": {
    "execution": {
     "iopub.execute_input": "2021-04-03T17:36:53.430571Z",
     "iopub.status.busy": "2021-04-03T17:36:53.429821Z",
     "iopub.status.idle": "2021-04-03T17:36:53.433825Z",
     "shell.execute_reply": "2021-04-03T17:36:53.433171Z"
    },
    "papermill": {
     "duration": 0.035026,
     "end_time": "2021-04-03T17:36:53.434006",
     "exception": false,
     "start_time": "2021-04-03T17:36:53.398980",
     "status": "completed"
    },
    "tags": []
   },
   "outputs": [
    {
     "name": "stdout",
     "output_type": "stream",
     "text": [
      "Retain H0 , There is no relationship between 2 categorical values\n"
     ]
    }
   ],
   "source": [
    "if p_value <= alpha:\n",
    "    print('Reject H0 , There is a relationship between 2 categorical values')\n",
    "else:\n",
    "    print('Retain H0 , There is no relationship between 2 categorical values')"
   ]
  },
  {
   "cell_type": "code",
   "execution_count": null,
   "metadata": {
    "papermill": {
     "duration": 0.025604,
     "end_time": "2021-04-03T17:36:53.485281",
     "exception": false,
     "start_time": "2021-04-03T17:36:53.459677",
     "status": "completed"
    },
    "tags": []
   },
   "outputs": [],
   "source": []
  }
 ],
 "metadata": {
  "kernelspec": {
   "display_name": "Python 3",
   "language": "python",
   "name": "python3"
  },
  "language_info": {
   "codemirror_mode": {
    "name": "ipython",
    "version": 3
   },
   "file_extension": ".py",
   "mimetype": "text/x-python",
   "name": "python",
   "nbconvert_exporter": "python",
   "pygments_lexer": "ipython3",
   "version": "3.7.9"
  },
  "papermill": {
   "default_parameters": {},
   "duration": 11.559049,
   "end_time": "2021-04-03T17:36:54.425420",
   "environment_variables": {},
   "exception": null,
   "input_path": "__notebook__.ipynb",
   "output_path": "__notebook__.ipynb",
   "parameters": {},
   "start_time": "2021-04-03T17:36:42.866371",
   "version": "2.2.2"
  }
 },
 "nbformat": 4,
 "nbformat_minor": 4
}
