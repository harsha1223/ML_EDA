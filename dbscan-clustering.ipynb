{
 "cells": [
  {
   "cell_type": "code",
   "execution_count": 1,
   "id": "deluxe-atlantic",
   "metadata": {
    "_cell_guid": "b1076dfc-b9ad-4769-8c92-a6c4dae69d19",
    "_uuid": "8f2839f25d086af736a60e9eeb907d3b93b6e0e5",
    "execution": {
     "iopub.execute_input": "2021-04-12T12:22:59.132151Z",
     "iopub.status.busy": "2021-04-12T12:22:59.130771Z",
     "iopub.status.idle": "2021-04-12T12:22:59.148367Z",
     "shell.execute_reply": "2021-04-12T12:22:59.148967Z"
    },
    "papermill": {
     "duration": 0.035061,
     "end_time": "2021-04-12T12:22:59.149321",
     "exception": false,
     "start_time": "2021-04-12T12:22:59.114260",
     "status": "completed"
    },
    "tags": []
   },
   "outputs": [
    {
     "name": "stdout",
     "output_type": "stream",
     "text": [
      "/kaggle/input/mall-customers/Mall_Customers.csv\n"
     ]
    }
   ],
   "source": [
    "# This Python 3 environment comes with many helpful analytics libraries installed\n",
    "# It is defined by the kaggle/python Docker image: https://github.com/kaggle/docker-python\n",
    "# For example, here's several helpful packages to load\n",
    "\n",
    "import numpy as np # linear algebra\n",
    "import pandas as pd # data processing, CSV file I/O (e.g. pd.read_csv)\n",
    "\n",
    "# Input data files are available in the read-only \"../input/\" directory\n",
    "# For example, running this (by clicking run or pressing Shift+Enter) will list all files under the input directory\n",
    "\n",
    "import os\n",
    "for dirname, _, filenames in os.walk('/kaggle/input'):\n",
    "    for filename in filenames:\n",
    "        print(os.path.join(dirname, filename))\n",
    "\n",
    "# You can write up to 20GB to the current directory (/kaggle/working/) that gets preserved as output when you create a version using \"Save & Run All\" \n",
    "# You can also write temporary files to /kaggle/temp/, but they won't be saved outside of the current session"
   ]
  },
  {
   "cell_type": "code",
   "execution_count": 2,
   "id": "distributed-equality",
   "metadata": {
    "execution": {
     "iopub.execute_input": "2021-04-12T12:22:59.178635Z",
     "iopub.status.busy": "2021-04-12T12:22:59.177955Z",
     "iopub.status.idle": "2021-04-12T12:22:59.180408Z",
     "shell.execute_reply": "2021-04-12T12:22:59.180890Z"
    },
    "papermill": {
     "duration": 0.019165,
     "end_time": "2021-04-12T12:22:59.181104",
     "exception": false,
     "start_time": "2021-04-12T12:22:59.161939",
     "status": "completed"
    },
    "tags": []
   },
   "outputs": [],
   "source": [
    "import numpy as np\n",
    "import pandas as pd"
   ]
  },
  {
   "cell_type": "code",
   "execution_count": 3,
   "id": "aging-peter",
   "metadata": {
    "execution": {
     "iopub.execute_input": "2021-04-12T12:22:59.209422Z",
     "iopub.status.busy": "2021-04-12T12:22:59.208745Z",
     "iopub.status.idle": "2021-04-12T12:22:59.224277Z",
     "shell.execute_reply": "2021-04-12T12:22:59.224821Z"
    },
    "papermill": {
     "duration": 0.031356,
     "end_time": "2021-04-12T12:22:59.225010",
     "exception": false,
     "start_time": "2021-04-12T12:22:59.193654",
     "status": "completed"
    },
    "tags": []
   },
   "outputs": [],
   "source": [
    "df = pd.read_csv('../input/mall-customers/Mall_Customers.csv')"
   ]
  },
  {
   "cell_type": "code",
   "execution_count": 4,
   "id": "pleased-transaction",
   "metadata": {
    "execution": {
     "iopub.execute_input": "2021-04-12T12:22:59.252958Z",
     "iopub.status.busy": "2021-04-12T12:22:59.252287Z",
     "iopub.status.idle": "2021-04-12T12:22:59.261295Z",
     "shell.execute_reply": "2021-04-12T12:22:59.260717Z"
    },
    "papermill": {
     "duration": 0.024026,
     "end_time": "2021-04-12T12:22:59.261463",
     "exception": false,
     "start_time": "2021-04-12T12:22:59.237437",
     "status": "completed"
    },
    "tags": []
   },
   "outputs": [],
   "source": [
    "X = df.iloc[:, [3, 4]].values"
   ]
  },
  {
   "cell_type": "code",
   "execution_count": 5,
   "id": "regulated-retro",
   "metadata": {
    "execution": {
     "iopub.execute_input": "2021-04-12T12:22:59.297788Z",
     "iopub.status.busy": "2021-04-12T12:22:59.297059Z",
     "iopub.status.idle": "2021-04-12T12:23:00.768392Z",
     "shell.execute_reply": "2021-04-12T12:23:00.767835Z"
    },
    "papermill": {
     "duration": 1.488576,
     "end_time": "2021-04-12T12:23:00.768542",
     "exception": false,
     "start_time": "2021-04-12T12:22:59.279966",
     "status": "completed"
    },
    "tags": []
   },
   "outputs": [],
   "source": [
    "from sklearn.cluster import DBSCAN"
   ]
  },
  {
   "cell_type": "code",
   "execution_count": 6,
   "id": "cardiac-technique",
   "metadata": {
    "execution": {
     "iopub.execute_input": "2021-04-12T12:23:00.799048Z",
     "iopub.status.busy": "2021-04-12T12:23:00.798376Z",
     "iopub.status.idle": "2021-04-12T12:23:00.801349Z",
     "shell.execute_reply": "2021-04-12T12:23:00.800819Z"
    },
    "papermill": {
     "duration": 0.020166,
     "end_time": "2021-04-12T12:23:00.801488",
     "exception": false,
     "start_time": "2021-04-12T12:23:00.781322",
     "status": "completed"
    },
    "tags": []
   },
   "outputs": [],
   "source": [
    "db = DBSCAN(eps=3,min_samples=4)"
   ]
  },
  {
   "cell_type": "code",
   "execution_count": 7,
   "id": "guided-cambodia",
   "metadata": {
    "execution": {
     "iopub.execute_input": "2021-04-12T12:23:00.830260Z",
     "iopub.status.busy": "2021-04-12T12:23:00.829610Z",
     "iopub.status.idle": "2021-04-12T12:23:00.836387Z",
     "shell.execute_reply": "2021-04-12T12:23:00.836921Z"
    },
    "papermill": {
     "duration": 0.022768,
     "end_time": "2021-04-12T12:23:00.837110",
     "exception": false,
     "start_time": "2021-04-12T12:23:00.814342",
     "status": "completed"
    },
    "tags": []
   },
   "outputs": [],
   "source": [
    "model = db.fit(X)"
   ]
  },
  {
   "cell_type": "code",
   "execution_count": 8,
   "id": "honey-coach",
   "metadata": {
    "execution": {
     "iopub.execute_input": "2021-04-12T12:23:00.865988Z",
     "iopub.status.busy": "2021-04-12T12:23:00.865289Z",
     "iopub.status.idle": "2021-04-12T12:23:00.868780Z",
     "shell.execute_reply": "2021-04-12T12:23:00.869338Z"
    },
    "papermill": {
     "duration": 0.019436,
     "end_time": "2021-04-12T12:23:00.869505",
     "exception": false,
     "start_time": "2021-04-12T12:23:00.850069",
     "status": "completed"
    },
    "tags": []
   },
   "outputs": [],
   "source": [
    "labels=model.labels_"
   ]
  },
  {
   "cell_type": "code",
   "execution_count": 9,
   "id": "wired-province",
   "metadata": {
    "execution": {
     "iopub.execute_input": "2021-04-12T12:23:00.904691Z",
     "iopub.status.busy": "2021-04-12T12:23:00.903956Z",
     "iopub.status.idle": "2021-04-12T12:23:00.907268Z",
     "shell.execute_reply": "2021-04-12T12:23:00.907714Z"
    },
    "papermill": {
     "duration": 0.025198,
     "end_time": "2021-04-12T12:23:00.907903",
     "exception": false,
     "start_time": "2021-04-12T12:23:00.882705",
     "status": "completed"
    },
    "tags": []
   },
   "outputs": [
    {
     "data": {
      "text/plain": [
       "array([-1, -1, -1, -1, -1, -1, -1, -1, -1, -1, -1, -1, -1, -1, -1, -1, -1,\n",
       "       -1, -1, -1, -1, -1, -1, -1, -1, -1, -1, -1, -1, -1, -1, -1, -1, -1,\n",
       "       -1, -1, -1, -1, -1, -1, -1, -1, -1, -1, -1, -1, -1, -1, -1, -1, -1,\n",
       "       -1, -1, -1, -1, -1,  0,  0,  0,  0, -1, -1,  0, -1,  0, -1,  0,  0,\n",
       "       -1,  0, -1, -1,  0, -1,  1,  1,  1,  1,  1,  1,  1,  1,  1,  1,  1,\n",
       "        1,  1,  1, -1,  2,  1,  2,  2,  2,  2,  2,  2,  2,  2,  2,  2,  2,\n",
       "        2,  2,  2,  2,  2,  2,  2,  2,  2,  2,  2,  2,  2,  2,  2,  3,  2,\n",
       "        3,  3, -1,  3, -1, -1,  4, -1, -1, -1,  4,  5,  4, -1,  4,  5, -1,\n",
       "        5,  4, -1,  4,  5, -1, -1,  6, -1, -1, -1,  7, -1,  6, -1,  6, -1,\n",
       "        7, -1,  6, -1,  7, -1,  7, -1, -1, -1, -1, -1, -1, -1, -1, -1, -1,\n",
       "        8, -1,  8, -1,  8, -1,  8, -1, -1, -1, -1, -1, -1, -1, -1, -1, -1,\n",
       "       -1, -1, -1, -1, -1, -1, -1, -1, -1, -1, -1, -1, -1])"
      ]
     },
     "execution_count": 9,
     "metadata": {},
     "output_type": "execute_result"
    }
   ],
   "source": [
    "labels"
   ]
  },
  {
   "cell_type": "code",
   "execution_count": 10,
   "id": "thirty-interval",
   "metadata": {
    "execution": {
     "iopub.execute_input": "2021-04-12T12:23:00.938147Z",
     "iopub.status.busy": "2021-04-12T12:23:00.937353Z",
     "iopub.status.idle": "2021-04-12T12:23:00.940705Z",
     "shell.execute_reply": "2021-04-12T12:23:00.941176Z"
    },
    "papermill": {
     "duration": 0.020065,
     "end_time": "2021-04-12T12:23:00.941347",
     "exception": false,
     "start_time": "2021-04-12T12:23:00.921282",
     "status": "completed"
    },
    "tags": []
   },
   "outputs": [],
   "source": [
    "from sklearn import metrics"
   ]
  },
  {
   "cell_type": "code",
   "execution_count": 11,
   "id": "graphic-douglas",
   "metadata": {
    "execution": {
     "iopub.execute_input": "2021-04-12T12:23:00.971651Z",
     "iopub.status.busy": "2021-04-12T12:23:00.970950Z",
     "iopub.status.idle": "2021-04-12T12:23:00.974359Z",
     "shell.execute_reply": "2021-04-12T12:23:00.974830Z"
    },
    "papermill": {
     "duration": 0.020304,
     "end_time": "2021-04-12T12:23:00.975026",
     "exception": false,
     "start_time": "2021-04-12T12:23:00.954722",
     "status": "completed"
    },
    "tags": []
   },
   "outputs": [],
   "source": [
    "sample_cores=np.zeros_like(labels,dtype=bool)"
   ]
  },
  {
   "cell_type": "code",
   "execution_count": 12,
   "id": "unexpected-prior",
   "metadata": {
    "execution": {
     "iopub.execute_input": "2021-04-12T12:23:01.005672Z",
     "iopub.status.busy": "2021-04-12T12:23:01.005041Z",
     "iopub.status.idle": "2021-04-12T12:23:01.010403Z",
     "shell.execute_reply": "2021-04-12T12:23:01.010943Z"
    },
    "papermill": {
     "duration": 0.022481,
     "end_time": "2021-04-12T12:23:01.011137",
     "exception": false,
     "start_time": "2021-04-12T12:23:00.988656",
     "status": "completed"
    },
    "tags": []
   },
   "outputs": [
    {
     "data": {
      "text/plain": [
       "array([False, False, False, False, False, False, False, False, False,\n",
       "       False, False, False, False, False, False, False, False, False,\n",
       "       False, False, False, False, False, False, False, False, False,\n",
       "       False, False, False, False, False, False, False, False, False,\n",
       "       False, False, False, False, False, False, False, False, False,\n",
       "       False, False, False, False, False, False, False, False, False,\n",
       "       False, False, False, False, False, False, False, False, False,\n",
       "       False, False, False, False, False, False, False, False, False,\n",
       "       False, False, False, False, False, False, False, False, False,\n",
       "       False, False, False, False, False, False, False, False, False,\n",
       "       False, False, False, False, False, False, False, False, False,\n",
       "       False, False, False, False, False, False, False, False, False,\n",
       "       False, False, False, False, False, False, False, False, False,\n",
       "       False, False, False, False, False, False, False, False, False,\n",
       "       False, False, False, False, False, False, False, False, False,\n",
       "       False, False, False, False, False, False, False, False, False,\n",
       "       False, False, False, False, False, False, False, False, False,\n",
       "       False, False, False, False, False, False, False, False, False,\n",
       "       False, False, False, False, False, False, False, False, False,\n",
       "       False, False, False, False, False, False, False, False, False,\n",
       "       False, False, False, False, False, False, False, False, False,\n",
       "       False, False, False, False, False, False, False, False, False,\n",
       "       False, False])"
      ]
     },
     "execution_count": 12,
     "metadata": {},
     "output_type": "execute_result"
    }
   ],
   "source": [
    "sample_cores"
   ]
  },
  {
   "cell_type": "code",
   "execution_count": 13,
   "id": "matched-evaluation",
   "metadata": {
    "execution": {
     "iopub.execute_input": "2021-04-12T12:23:01.042592Z",
     "iopub.status.busy": "2021-04-12T12:23:01.041916Z",
     "iopub.status.idle": "2021-04-12T12:23:01.045225Z",
     "shell.execute_reply": "2021-04-12T12:23:01.045674Z"
    },
    "papermill": {
     "duration": 0.020524,
     "end_time": "2021-04-12T12:23:01.045841",
     "exception": false,
     "start_time": "2021-04-12T12:23:01.025317",
     "status": "completed"
    },
    "tags": []
   },
   "outputs": [],
   "source": [
    "sample_cores[db.core_sample_indices_]=True"
   ]
  },
  {
   "cell_type": "code",
   "execution_count": 14,
   "id": "drawn-claim",
   "metadata": {
    "execution": {
     "iopub.execute_input": "2021-04-12T12:23:01.077820Z",
     "iopub.status.busy": "2021-04-12T12:23:01.077084Z",
     "iopub.status.idle": "2021-04-12T12:23:01.080882Z",
     "shell.execute_reply": "2021-04-12T12:23:01.081377Z"
    },
    "papermill": {
     "duration": 0.021175,
     "end_time": "2021-04-12T12:23:01.081553",
     "exception": false,
     "start_time": "2021-04-12T12:23:01.060378",
     "status": "completed"
    },
    "tags": []
   },
   "outputs": [],
   "source": [
    "n_clusters=len(set(labels))- (1 if -1 in labels else 0)"
   ]
  },
  {
   "cell_type": "code",
   "execution_count": 15,
   "id": "closing-circle",
   "metadata": {
    "execution": {
     "iopub.execute_input": "2021-04-12T12:23:01.113625Z",
     "iopub.status.busy": "2021-04-12T12:23:01.112960Z",
     "iopub.status.idle": "2021-04-12T12:23:01.117159Z",
     "shell.execute_reply": "2021-04-12T12:23:01.117661Z"
    },
    "papermill": {
     "duration": 0.021879,
     "end_time": "2021-04-12T12:23:01.117820",
     "exception": false,
     "start_time": "2021-04-12T12:23:01.095941",
     "status": "completed"
    },
    "tags": []
   },
   "outputs": [
    {
     "data": {
      "text/plain": [
       "9"
      ]
     },
     "execution_count": 15,
     "metadata": {},
     "output_type": "execute_result"
    }
   ],
   "source": [
    "n_clusters"
   ]
  },
  {
   "cell_type": "code",
   "execution_count": 16,
   "id": "intimate-amino",
   "metadata": {
    "execution": {
     "iopub.execute_input": "2021-04-12T12:23:01.150751Z",
     "iopub.status.busy": "2021-04-12T12:23:01.150158Z",
     "iopub.status.idle": "2021-04-12T12:23:01.169409Z",
     "shell.execute_reply": "2021-04-12T12:23:01.170944Z"
    },
    "papermill": {
     "duration": 0.038621,
     "end_time": "2021-04-12T12:23:01.171292",
     "exception": false,
     "start_time": "2021-04-12T12:23:01.132671",
     "status": "completed"
    },
    "tags": []
   },
   "outputs": [
    {
     "name": "stdout",
     "output_type": "stream",
     "text": [
      "-0.1908319132560097\n"
     ]
    }
   ],
   "source": [
    "print(metrics.silhouette_score(X,labels))"
   ]
  }
 ],
 "metadata": {
  "kernelspec": {
   "display_name": "Python 3",
   "language": "python",
   "name": "python3"
  },
  "language_info": {
   "codemirror_mode": {
    "name": "ipython",
    "version": 3
   },
   "file_extension": ".py",
   "mimetype": "text/x-python",
   "name": "python",
   "nbconvert_exporter": "python",
   "pygments_lexer": "ipython3",
   "version": "3.7.9"
  },
  "papermill": {
   "default_parameters": {},
   "duration": 9.153209,
   "end_time": "2021-04-12T12:23:01.909301",
   "environment_variables": {},
   "exception": null,
   "input_path": "__notebook__.ipynb",
   "output_path": "__notebook__.ipynb",
   "parameters": {},
   "start_time": "2021-04-12T12:22:52.756092",
   "version": "2.3.2"
  }
 },
 "nbformat": 4,
 "nbformat_minor": 5
}
