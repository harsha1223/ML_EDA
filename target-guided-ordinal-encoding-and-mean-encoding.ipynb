{
 "cells": [
  {
   "cell_type": "code",
   "execution_count": 1,
   "metadata": {
    "_cell_guid": "b1076dfc-b9ad-4769-8c92-a6c4dae69d19",
    "_uuid": "8f2839f25d086af736a60e9eeb907d3b93b6e0e5",
    "execution": {
     "iopub.execute_input": "2021-03-22T20:08:47.006739Z",
     "iopub.status.busy": "2021-03-22T20:08:47.005991Z",
     "iopub.status.idle": "2021-03-22T20:08:47.045284Z",
     "shell.execute_reply": "2021-03-22T20:08:47.043917Z"
    },
    "papermill": {
     "duration": 0.075562,
     "end_time": "2021-03-22T20:08:47.045645",
     "exception": false,
     "start_time": "2021-03-22T20:08:46.970083",
     "status": "completed"
    },
    "tags": []
   },
   "outputs": [
    {
     "name": "stdout",
     "output_type": "stream",
     "text": [
      "/kaggle/input/titanic/kaggle-titanic-master/titanic-solution.ipynb\n",
      "/kaggle/input/titanic/kaggle-titanic-master/images/titanic-disaster.jpg\n",
      "/kaggle/input/titanic/kaggle-titanic-master/input/train.csv\n",
      "/kaggle/input/titanic/kaggle-titanic-master/input/test.csv\n",
      "/kaggle/input/titanic/kaggle-titanic-master/input/gender_submission.csv\n",
      "/kaggle/input/titanic/kaggle-titanic-master/kaggle-titanic-master/titanic-solution.ipynb\n",
      "/kaggle/input/titanic/kaggle-titanic-master/kaggle-titanic-master/images/titanic-disaster.jpg\n",
      "/kaggle/input/titanic/kaggle-titanic-master/kaggle-titanic-master/input/train.csv\n",
      "/kaggle/input/titanic/kaggle-titanic-master/kaggle-titanic-master/input/test.csv\n",
      "/kaggle/input/titanic/kaggle-titanic-master/kaggle-titanic-master/input/gender_submission.csv\n"
     ]
    }
   ],
   "source": [
    "# This Python 3 environment comes with many helpful analytics libraries installed\n",
    "# It is defined by the kaggle/python Docker image: https://github.com/kaggle/docker-python\n",
    "# For example, here's several helpful packages to load\n",
    "\n",
    "import numpy as np # linear algebra\n",
    "import pandas as pd # data processing, CSV file I/O (e.g. pd.read_csv)\n",
    "\n",
    "# Input data files are available in the read-only \"../input/\" directory\n",
    "# For example, running this (by clicking run or pressing Shift+Enter) will list all files under the input directory\n",
    "\n",
    "import os\n",
    "for dirname, _, filenames in os.walk('/kaggle/input'):\n",
    "    for filename in filenames:\n",
    "        print(os.path.join(dirname, filename))\n",
    "\n",
    "# You can write up to 20GB to the current directory (/kaggle/working/) that gets preserved as output when you create a version using \"Save & Run All\" \n",
    "# You can also write temporary files to /kaggle/temp/, but they won't be saved outside of the current session"
   ]
  },
  {
   "cell_type": "code",
   "execution_count": 2,
   "metadata": {
    "execution": {
     "iopub.execute_input": "2021-03-22T20:08:47.106024Z",
     "iopub.status.busy": "2021-03-22T20:08:47.105093Z",
     "iopub.status.idle": "2021-03-22T20:08:47.111252Z",
     "shell.execute_reply": "2021-03-22T20:08:47.110171Z"
    },
    "papermill": {
     "duration": 0.039494,
     "end_time": "2021-03-22T20:08:47.111470",
     "exception": false,
     "start_time": "2021-03-22T20:08:47.071976",
     "status": "completed"
    },
    "tags": []
   },
   "outputs": [],
   "source": [
    "import pandas as pd"
   ]
  },
  {
   "cell_type": "code",
   "execution_count": 3,
   "metadata": {
    "execution": {
     "iopub.execute_input": "2021-03-22T20:08:47.171270Z",
     "iopub.status.busy": "2021-03-22T20:08:47.170308Z",
     "iopub.status.idle": "2021-03-22T20:08:47.188544Z",
     "shell.execute_reply": "2021-03-22T20:08:47.189214Z"
    },
    "papermill": {
     "duration": 0.052764,
     "end_time": "2021-03-22T20:08:47.189464",
     "exception": false,
     "start_time": "2021-03-22T20:08:47.136700",
     "status": "completed"
    },
    "tags": []
   },
   "outputs": [],
   "source": [
    "df = pd.read_csv('../input/titanic/kaggle-titanic-master/input/train.csv' , usecols = ['Cabin' , 'Survived'])"
   ]
  },
  {
   "cell_type": "code",
   "execution_count": 4,
   "metadata": {
    "execution": {
     "iopub.execute_input": "2021-03-22T20:08:47.257674Z",
     "iopub.status.busy": "2021-03-22T20:08:47.255367Z",
     "iopub.status.idle": "2021-03-22T20:08:47.285047Z",
     "shell.execute_reply": "2021-03-22T20:08:47.285816Z"
    },
    "papermill": {
     "duration": 0.070276,
     "end_time": "2021-03-22T20:08:47.286041",
     "exception": false,
     "start_time": "2021-03-22T20:08:47.215765",
     "status": "completed"
    },
    "tags": []
   },
   "outputs": [
    {
     "data": {
      "text/html": [
       "<div>\n",
       "<style scoped>\n",
       "    .dataframe tbody tr th:only-of-type {\n",
       "        vertical-align: middle;\n",
       "    }\n",
       "\n",
       "    .dataframe tbody tr th {\n",
       "        vertical-align: top;\n",
       "    }\n",
       "\n",
       "    .dataframe thead th {\n",
       "        text-align: right;\n",
       "    }\n",
       "</style>\n",
       "<table border=\"1\" class=\"dataframe\">\n",
       "  <thead>\n",
       "    <tr style=\"text-align: right;\">\n",
       "      <th></th>\n",
       "      <th>Survived</th>\n",
       "      <th>Cabin</th>\n",
       "    </tr>\n",
       "  </thead>\n",
       "  <tbody>\n",
       "    <tr>\n",
       "      <th>0</th>\n",
       "      <td>0</td>\n",
       "      <td>NaN</td>\n",
       "    </tr>\n",
       "    <tr>\n",
       "      <th>1</th>\n",
       "      <td>1</td>\n",
       "      <td>C85</td>\n",
       "    </tr>\n",
       "    <tr>\n",
       "      <th>2</th>\n",
       "      <td>1</td>\n",
       "      <td>NaN</td>\n",
       "    </tr>\n",
       "    <tr>\n",
       "      <th>3</th>\n",
       "      <td>1</td>\n",
       "      <td>C123</td>\n",
       "    </tr>\n",
       "    <tr>\n",
       "      <th>4</th>\n",
       "      <td>0</td>\n",
       "      <td>NaN</td>\n",
       "    </tr>\n",
       "  </tbody>\n",
       "</table>\n",
       "</div>"
      ],
      "text/plain": [
       "   Survived Cabin\n",
       "0         0   NaN\n",
       "1         1   C85\n",
       "2         1   NaN\n",
       "3         1  C123\n",
       "4         0   NaN"
      ]
     },
     "execution_count": 4,
     "metadata": {},
     "output_type": "execute_result"
    }
   ],
   "source": [
    "df.head()"
   ]
  },
  {
   "cell_type": "markdown",
   "metadata": {
    "papermill": {
     "duration": 0.025534,
     "end_time": "2021-03-22T20:08:47.339264",
     "exception": false,
     "start_time": "2021-03-22T20:08:47.313730",
     "status": "completed"
    },
    "tags": []
   },
   "source": [
    "## TARGET GUIDED ORDINAL ENCODING"
   ]
  },
  {
   "cell_type": "code",
   "execution_count": 5,
   "metadata": {
    "execution": {
     "iopub.execute_input": "2021-03-22T20:08:47.402648Z",
     "iopub.status.busy": "2021-03-22T20:08:47.401739Z",
     "iopub.status.idle": "2021-03-22T20:08:47.408016Z",
     "shell.execute_reply": "2021-03-22T20:08:47.407080Z"
    },
    "papermill": {
     "duration": 0.04228,
     "end_time": "2021-03-22T20:08:47.408213",
     "exception": false,
     "start_time": "2021-03-22T20:08:47.365933",
     "status": "completed"
    },
    "tags": []
   },
   "outputs": [],
   "source": [
    "df ['Cabin'].fillna('Missing',inplace = True)"
   ]
  },
  {
   "cell_type": "code",
   "execution_count": 6,
   "metadata": {
    "execution": {
     "iopub.execute_input": "2021-03-22T20:08:47.473651Z",
     "iopub.status.busy": "2021-03-22T20:08:47.472771Z",
     "iopub.status.idle": "2021-03-22T20:08:47.483240Z",
     "shell.execute_reply": "2021-03-22T20:08:47.480803Z"
    },
    "papermill": {
     "duration": 0.048473,
     "end_time": "2021-03-22T20:08:47.483505",
     "exception": false,
     "start_time": "2021-03-22T20:08:47.435032",
     "status": "completed"
    },
    "tags": []
   },
   "outputs": [
    {
     "data": {
      "text/html": [
       "<div>\n",
       "<style scoped>\n",
       "    .dataframe tbody tr th:only-of-type {\n",
       "        vertical-align: middle;\n",
       "    }\n",
       "\n",
       "    .dataframe tbody tr th {\n",
       "        vertical-align: top;\n",
       "    }\n",
       "\n",
       "    .dataframe thead th {\n",
       "        text-align: right;\n",
       "    }\n",
       "</style>\n",
       "<table border=\"1\" class=\"dataframe\">\n",
       "  <thead>\n",
       "    <tr style=\"text-align: right;\">\n",
       "      <th></th>\n",
       "      <th>Survived</th>\n",
       "      <th>Cabin</th>\n",
       "    </tr>\n",
       "  </thead>\n",
       "  <tbody>\n",
       "    <tr>\n",
       "      <th>0</th>\n",
       "      <td>0</td>\n",
       "      <td>Missing</td>\n",
       "    </tr>\n",
       "    <tr>\n",
       "      <th>1</th>\n",
       "      <td>1</td>\n",
       "      <td>C85</td>\n",
       "    </tr>\n",
       "    <tr>\n",
       "      <th>2</th>\n",
       "      <td>1</td>\n",
       "      <td>Missing</td>\n",
       "    </tr>\n",
       "    <tr>\n",
       "      <th>3</th>\n",
       "      <td>1</td>\n",
       "      <td>C123</td>\n",
       "    </tr>\n",
       "    <tr>\n",
       "      <th>4</th>\n",
       "      <td>0</td>\n",
       "      <td>Missing</td>\n",
       "    </tr>\n",
       "  </tbody>\n",
       "</table>\n",
       "</div>"
      ],
      "text/plain": [
       "   Survived    Cabin\n",
       "0         0  Missing\n",
       "1         1      C85\n",
       "2         1  Missing\n",
       "3         1     C123\n",
       "4         0  Missing"
      ]
     },
     "execution_count": 6,
     "metadata": {},
     "output_type": "execute_result"
    }
   ],
   "source": [
    "df.head()"
   ]
  },
  {
   "cell_type": "code",
   "execution_count": 7,
   "metadata": {
    "execution": {
     "iopub.execute_input": "2021-03-22T20:08:47.552903Z",
     "iopub.status.busy": "2021-03-22T20:08:47.552016Z",
     "iopub.status.idle": "2021-03-22T20:08:47.557005Z",
     "shell.execute_reply": "2021-03-22T20:08:47.556306Z"
    },
    "papermill": {
     "duration": 0.045447,
     "end_time": "2021-03-22T20:08:47.557193",
     "exception": false,
     "start_time": "2021-03-22T20:08:47.511746",
     "status": "completed"
    },
    "tags": []
   },
   "outputs": [
    {
     "data": {
      "text/plain": [
       "0      M\n",
       "1      C\n",
       "2      M\n",
       "3      C\n",
       "4      M\n",
       "      ..\n",
       "886    M\n",
       "887    B\n",
       "888    M\n",
       "889    C\n",
       "890    M\n",
       "Name: Cabin, Length: 891, dtype: object"
      ]
     },
     "execution_count": 7,
     "metadata": {},
     "output_type": "execute_result"
    }
   ],
   "source": [
    "df ['Cabin'].astype(str).str[0]"
   ]
  },
  {
   "cell_type": "code",
   "execution_count": 8,
   "metadata": {
    "execution": {
     "iopub.execute_input": "2021-03-22T20:08:47.624725Z",
     "iopub.status.busy": "2021-03-22T20:08:47.623819Z",
     "iopub.status.idle": "2021-03-22T20:08:47.628260Z",
     "shell.execute_reply": "2021-03-22T20:08:47.627365Z"
    },
    "papermill": {
     "duration": 0.041843,
     "end_time": "2021-03-22T20:08:47.628469",
     "exception": false,
     "start_time": "2021-03-22T20:08:47.586626",
     "status": "completed"
    },
    "tags": []
   },
   "outputs": [],
   "source": [
    "df ['Cabin'] = df ['Cabin'].astype(str).str[0]"
   ]
  },
  {
   "cell_type": "code",
   "execution_count": 9,
   "metadata": {
    "execution": {
     "iopub.execute_input": "2021-03-22T20:08:47.697869Z",
     "iopub.status.busy": "2021-03-22T20:08:47.696990Z",
     "iopub.status.idle": "2021-03-22T20:08:47.704071Z",
     "shell.execute_reply": "2021-03-22T20:08:47.704757Z"
    },
    "papermill": {
     "duration": 0.048272,
     "end_time": "2021-03-22T20:08:47.705022",
     "exception": false,
     "start_time": "2021-03-22T20:08:47.656750",
     "status": "completed"
    },
    "tags": []
   },
   "outputs": [
    {
     "data": {
      "text/html": [
       "<div>\n",
       "<style scoped>\n",
       "    .dataframe tbody tr th:only-of-type {\n",
       "        vertical-align: middle;\n",
       "    }\n",
       "\n",
       "    .dataframe tbody tr th {\n",
       "        vertical-align: top;\n",
       "    }\n",
       "\n",
       "    .dataframe thead th {\n",
       "        text-align: right;\n",
       "    }\n",
       "</style>\n",
       "<table border=\"1\" class=\"dataframe\">\n",
       "  <thead>\n",
       "    <tr style=\"text-align: right;\">\n",
       "      <th></th>\n",
       "      <th>Survived</th>\n",
       "      <th>Cabin</th>\n",
       "    </tr>\n",
       "  </thead>\n",
       "  <tbody>\n",
       "    <tr>\n",
       "      <th>0</th>\n",
       "      <td>0</td>\n",
       "      <td>M</td>\n",
       "    </tr>\n",
       "    <tr>\n",
       "      <th>1</th>\n",
       "      <td>1</td>\n",
       "      <td>C</td>\n",
       "    </tr>\n",
       "    <tr>\n",
       "      <th>2</th>\n",
       "      <td>1</td>\n",
       "      <td>M</td>\n",
       "    </tr>\n",
       "    <tr>\n",
       "      <th>3</th>\n",
       "      <td>1</td>\n",
       "      <td>C</td>\n",
       "    </tr>\n",
       "    <tr>\n",
       "      <th>4</th>\n",
       "      <td>0</td>\n",
       "      <td>M</td>\n",
       "    </tr>\n",
       "  </tbody>\n",
       "</table>\n",
       "</div>"
      ],
      "text/plain": [
       "   Survived Cabin\n",
       "0         0     M\n",
       "1         1     C\n",
       "2         1     M\n",
       "3         1     C\n",
       "4         0     M"
      ]
     },
     "execution_count": 9,
     "metadata": {},
     "output_type": "execute_result"
    }
   ],
   "source": [
    "df.head()"
   ]
  },
  {
   "cell_type": "code",
   "execution_count": 10,
   "metadata": {
    "execution": {
     "iopub.execute_input": "2021-03-22T20:08:47.775566Z",
     "iopub.status.busy": "2021-03-22T20:08:47.774348Z",
     "iopub.status.idle": "2021-03-22T20:08:47.780825Z",
     "shell.execute_reply": "2021-03-22T20:08:47.779877Z"
    },
    "papermill": {
     "duration": 0.046825,
     "end_time": "2021-03-22T20:08:47.780981",
     "exception": false,
     "start_time": "2021-03-22T20:08:47.734156",
     "status": "completed"
    },
    "tags": []
   },
   "outputs": [
    {
     "data": {
      "text/plain": [
       "array(['M', 'C', 'E', 'G', 'D', 'A', 'B', 'F', 'T'], dtype=object)"
      ]
     },
     "execution_count": 10,
     "metadata": {},
     "output_type": "execute_result"
    }
   ],
   "source": [
    "df.Cabin.unique()"
   ]
  },
  {
   "cell_type": "code",
   "execution_count": 11,
   "metadata": {
    "execution": {
     "iopub.execute_input": "2021-03-22T20:08:47.832267Z",
     "iopub.status.busy": "2021-03-22T20:08:47.831578Z",
     "iopub.status.idle": "2021-03-22T20:08:47.838489Z",
     "shell.execute_reply": "2021-03-22T20:08:47.837812Z"
    },
    "papermill": {
     "duration": 0.037454,
     "end_time": "2021-03-22T20:08:47.838647",
     "exception": false,
     "start_time": "2021-03-22T20:08:47.801193",
     "status": "completed"
    },
    "tags": []
   },
   "outputs": [
    {
     "data": {
      "text/plain": [
       "Cabin\n",
       "T    0.000000\n",
       "M    0.299854\n",
       "A    0.466667\n",
       "G    0.500000\n",
       "C    0.593220\n",
       "F    0.615385\n",
       "B    0.744681\n",
       "E    0.750000\n",
       "D    0.757576\n",
       "Name: Survived, dtype: float64"
      ]
     },
     "execution_count": 11,
     "metadata": {},
     "output_type": "execute_result"
    }
   ],
   "source": [
    "df.groupby(['Cabin'])['Survived'].mean().sort_values()"
   ]
  },
  {
   "cell_type": "code",
   "execution_count": 12,
   "metadata": {
    "execution": {
     "iopub.execute_input": "2021-03-22T20:08:47.888941Z",
     "iopub.status.busy": "2021-03-22T20:08:47.888091Z",
     "iopub.status.idle": "2021-03-22T20:08:47.895345Z",
     "shell.execute_reply": "2021-03-22T20:08:47.896010Z"
    },
    "papermill": {
     "duration": 0.036815,
     "end_time": "2021-03-22T20:08:47.896230",
     "exception": false,
     "start_time": "2021-03-22T20:08:47.859415",
     "status": "completed"
    },
    "tags": []
   },
   "outputs": [],
   "source": [
    "labels = df.groupby(['Cabin'])['Survived'].mean().sort_values().index"
   ]
  },
  {
   "cell_type": "code",
   "execution_count": 13,
   "metadata": {
    "execution": {
     "iopub.execute_input": "2021-03-22T20:08:47.967989Z",
     "iopub.status.busy": "2021-03-22T20:08:47.966912Z",
     "iopub.status.idle": "2021-03-22T20:08:47.974221Z",
     "shell.execute_reply": "2021-03-22T20:08:47.973225Z"
    },
    "papermill": {
     "duration": 0.04642,
     "end_time": "2021-03-22T20:08:47.974410",
     "exception": false,
     "start_time": "2021-03-22T20:08:47.927990",
     "status": "completed"
    },
    "tags": []
   },
   "outputs": [
    {
     "data": {
      "text/plain": [
       "Index(['T', 'M', 'A', 'G', 'C', 'F', 'B', 'E', 'D'], dtype='object', name='Cabin')"
      ]
     },
     "execution_count": 13,
     "metadata": {},
     "output_type": "execute_result"
    }
   ],
   "source": [
    "labels"
   ]
  },
  {
   "cell_type": "code",
   "execution_count": 14,
   "metadata": {
    "execution": {
     "iopub.execute_input": "2021-03-22T20:08:48.045893Z",
     "iopub.status.busy": "2021-03-22T20:08:48.045058Z",
     "iopub.status.idle": "2021-03-22T20:08:48.052408Z",
     "shell.execute_reply": "2021-03-22T20:08:48.051735Z"
    },
    "papermill": {
     "duration": 0.04545,
     "end_time": "2021-03-22T20:08:48.052589",
     "exception": false,
     "start_time": "2021-03-22T20:08:48.007139",
     "status": "completed"
    },
    "tags": []
   },
   "outputs": [
    {
     "data": {
      "text/plain": [
       "<enumerate at 0x7f9a946537d0>"
      ]
     },
     "execution_count": 14,
     "metadata": {},
     "output_type": "execute_result"
    }
   ],
   "source": [
    "enumerate (labels,0)"
   ]
  },
  {
   "cell_type": "code",
   "execution_count": 15,
   "metadata": {
    "execution": {
     "iopub.execute_input": "2021-03-22T20:08:48.103676Z",
     "iopub.status.busy": "2021-03-22T20:08:48.102878Z",
     "iopub.status.idle": "2021-03-22T20:08:48.108337Z",
     "shell.execute_reply": "2021-03-22T20:08:48.107647Z"
    },
    "papermill": {
     "duration": 0.034232,
     "end_time": "2021-03-22T20:08:48.108517",
     "exception": false,
     "start_time": "2021-03-22T20:08:48.074285",
     "status": "completed"
    },
    "tags": []
   },
   "outputs": [],
   "source": [
    "label_two = {k:i for i,k in enumerate (labels ,0)}"
   ]
  },
  {
   "cell_type": "code",
   "execution_count": 16,
   "metadata": {
    "execution": {
     "iopub.execute_input": "2021-03-22T20:08:48.159563Z",
     "iopub.status.busy": "2021-03-22T20:08:48.158710Z",
     "iopub.status.idle": "2021-03-22T20:08:48.168409Z",
     "shell.execute_reply": "2021-03-22T20:08:48.167335Z"
    },
    "papermill": {
     "duration": 0.038601,
     "end_time": "2021-03-22T20:08:48.168636",
     "exception": false,
     "start_time": "2021-03-22T20:08:48.130035",
     "status": "completed"
    },
    "tags": []
   },
   "outputs": [
    {
     "data": {
      "text/plain": [
       "{'T': 0, 'M': 1, 'A': 2, 'G': 3, 'C': 4, 'F': 5, 'B': 6, 'E': 7, 'D': 8}"
      ]
     },
     "execution_count": 16,
     "metadata": {},
     "output_type": "execute_result"
    }
   ],
   "source": [
    "label_two"
   ]
  },
  {
   "cell_type": "code",
   "execution_count": 17,
   "metadata": {
    "execution": {
     "iopub.execute_input": "2021-03-22T20:08:48.247623Z",
     "iopub.status.busy": "2021-03-22T20:08:48.246716Z",
     "iopub.status.idle": "2021-03-22T20:08:48.251465Z",
     "shell.execute_reply": "2021-03-22T20:08:48.252448Z"
    },
    "papermill": {
     "duration": 0.048012,
     "end_time": "2021-03-22T20:08:48.252679",
     "exception": false,
     "start_time": "2021-03-22T20:08:48.204667",
     "status": "completed"
    },
    "tags": []
   },
   "outputs": [],
   "source": [
    "df ['Carbin_ordinal_label'] = df['Cabin'].map(label_two)"
   ]
  },
  {
   "cell_type": "code",
   "execution_count": 18,
   "metadata": {
    "execution": {
     "iopub.execute_input": "2021-03-22T20:08:48.332297Z",
     "iopub.status.busy": "2021-03-22T20:08:48.331658Z",
     "iopub.status.idle": "2021-03-22T20:08:48.336735Z",
     "shell.execute_reply": "2021-03-22T20:08:48.335801Z"
    },
    "papermill": {
     "duration": 0.049761,
     "end_time": "2021-03-22T20:08:48.336982",
     "exception": false,
     "start_time": "2021-03-22T20:08:48.287221",
     "status": "completed"
    },
    "tags": []
   },
   "outputs": [
    {
     "data": {
      "text/html": [
       "<div>\n",
       "<style scoped>\n",
       "    .dataframe tbody tr th:only-of-type {\n",
       "        vertical-align: middle;\n",
       "    }\n",
       "\n",
       "    .dataframe tbody tr th {\n",
       "        vertical-align: top;\n",
       "    }\n",
       "\n",
       "    .dataframe thead th {\n",
       "        text-align: right;\n",
       "    }\n",
       "</style>\n",
       "<table border=\"1\" class=\"dataframe\">\n",
       "  <thead>\n",
       "    <tr style=\"text-align: right;\">\n",
       "      <th></th>\n",
       "      <th>Survived</th>\n",
       "      <th>Cabin</th>\n",
       "      <th>Carbin_ordinal_label</th>\n",
       "    </tr>\n",
       "  </thead>\n",
       "  <tbody>\n",
       "    <tr>\n",
       "      <th>0</th>\n",
       "      <td>0</td>\n",
       "      <td>M</td>\n",
       "      <td>1</td>\n",
       "    </tr>\n",
       "    <tr>\n",
       "      <th>1</th>\n",
       "      <td>1</td>\n",
       "      <td>C</td>\n",
       "      <td>4</td>\n",
       "    </tr>\n",
       "    <tr>\n",
       "      <th>2</th>\n",
       "      <td>1</td>\n",
       "      <td>M</td>\n",
       "      <td>1</td>\n",
       "    </tr>\n",
       "    <tr>\n",
       "      <th>3</th>\n",
       "      <td>1</td>\n",
       "      <td>C</td>\n",
       "      <td>4</td>\n",
       "    </tr>\n",
       "    <tr>\n",
       "      <th>4</th>\n",
       "      <td>0</td>\n",
       "      <td>M</td>\n",
       "      <td>1</td>\n",
       "    </tr>\n",
       "  </tbody>\n",
       "</table>\n",
       "</div>"
      ],
      "text/plain": [
       "   Survived Cabin  Carbin_ordinal_label\n",
       "0         0     M                     1\n",
       "1         1     C                     4\n",
       "2         1     M                     1\n",
       "3         1     C                     4\n",
       "4         0     M                     1"
      ]
     },
     "execution_count": 18,
     "metadata": {},
     "output_type": "execute_result"
    }
   ],
   "source": [
    "df.head()"
   ]
  },
  {
   "cell_type": "markdown",
   "metadata": {
    "papermill": {
     "duration": 0.022404,
     "end_time": "2021-03-22T20:08:48.382385",
     "exception": false,
     "start_time": "2021-03-22T20:08:48.359981",
     "status": "completed"
    },
    "tags": []
   },
   "source": [
    "## MEAN ORDINAL ENCODING"
   ]
  },
  {
   "cell_type": "code",
   "execution_count": 19,
   "metadata": {
    "execution": {
     "iopub.execute_input": "2021-03-22T20:08:48.439127Z",
     "iopub.status.busy": "2021-03-22T20:08:48.438453Z",
     "iopub.status.idle": "2021-03-22T20:08:48.444407Z",
     "shell.execute_reply": "2021-03-22T20:08:48.444941Z"
    },
    "papermill": {
     "duration": 0.038585,
     "end_time": "2021-03-22T20:08:48.445130",
     "exception": false,
     "start_time": "2021-03-22T20:08:48.406545",
     "status": "completed"
    },
    "tags": []
   },
   "outputs": [],
   "source": [
    "mean_ordinal = df.groupby(['Cabin'])['Survived'].mean().to_dict()"
   ]
  },
  {
   "cell_type": "code",
   "execution_count": 20,
   "metadata": {
    "execution": {
     "iopub.execute_input": "2021-03-22T20:08:48.500264Z",
     "iopub.status.busy": "2021-03-22T20:08:48.499284Z",
     "iopub.status.idle": "2021-03-22T20:08:48.507013Z",
     "shell.execute_reply": "2021-03-22T20:08:48.506295Z"
    },
    "papermill": {
     "duration": 0.037846,
     "end_time": "2021-03-22T20:08:48.507163",
     "exception": false,
     "start_time": "2021-03-22T20:08:48.469317",
     "status": "completed"
    },
    "tags": []
   },
   "outputs": [
    {
     "data": {
      "text/plain": [
       "{'A': 0.4666666666666667,\n",
       " 'B': 0.7446808510638298,\n",
       " 'C': 0.5932203389830508,\n",
       " 'D': 0.7575757575757576,\n",
       " 'E': 0.75,\n",
       " 'F': 0.6153846153846154,\n",
       " 'G': 0.5,\n",
       " 'M': 0.29985443959243085,\n",
       " 'T': 0.0}"
      ]
     },
     "execution_count": 20,
     "metadata": {},
     "output_type": "execute_result"
    }
   ],
   "source": [
    "mean_ordinal"
   ]
  },
  {
   "cell_type": "code",
   "execution_count": 21,
   "metadata": {
    "execution": {
     "iopub.execute_input": "2021-03-22T20:08:48.564096Z",
     "iopub.status.busy": "2021-03-22T20:08:48.563460Z",
     "iopub.status.idle": "2021-03-22T20:08:48.567184Z",
     "shell.execute_reply": "2021-03-22T20:08:48.566583Z"
    },
    "papermill": {
     "duration": 0.036338,
     "end_time": "2021-03-22T20:08:48.567347",
     "exception": false,
     "start_time": "2021-03-22T20:08:48.531009",
     "status": "completed"
    },
    "tags": []
   },
   "outputs": [],
   "source": [
    "df['mean_ordinal_encoded'] = df ['Cabin'].map(mean_ordinal)"
   ]
  },
  {
   "cell_type": "code",
   "execution_count": 22,
   "metadata": {
    "execution": {
     "iopub.execute_input": "2021-03-22T20:08:48.618180Z",
     "iopub.status.busy": "2021-03-22T20:08:48.617510Z",
     "iopub.status.idle": "2021-03-22T20:08:48.634978Z",
     "shell.execute_reply": "2021-03-22T20:08:48.635506Z"
    },
    "papermill": {
     "duration": 0.044966,
     "end_time": "2021-03-22T20:08:48.635707",
     "exception": false,
     "start_time": "2021-03-22T20:08:48.590741",
     "status": "completed"
    },
    "tags": []
   },
   "outputs": [
    {
     "data": {
      "text/html": [
       "<div>\n",
       "<style scoped>\n",
       "    .dataframe tbody tr th:only-of-type {\n",
       "        vertical-align: middle;\n",
       "    }\n",
       "\n",
       "    .dataframe tbody tr th {\n",
       "        vertical-align: top;\n",
       "    }\n",
       "\n",
       "    .dataframe thead th {\n",
       "        text-align: right;\n",
       "    }\n",
       "</style>\n",
       "<table border=\"1\" class=\"dataframe\">\n",
       "  <thead>\n",
       "    <tr style=\"text-align: right;\">\n",
       "      <th></th>\n",
       "      <th>Survived</th>\n",
       "      <th>Cabin</th>\n",
       "      <th>Carbin_ordinal_label</th>\n",
       "      <th>mean_ordinal_encoded</th>\n",
       "    </tr>\n",
       "  </thead>\n",
       "  <tbody>\n",
       "    <tr>\n",
       "      <th>0</th>\n",
       "      <td>0</td>\n",
       "      <td>M</td>\n",
       "      <td>1</td>\n",
       "      <td>0.299854</td>\n",
       "    </tr>\n",
       "    <tr>\n",
       "      <th>1</th>\n",
       "      <td>1</td>\n",
       "      <td>C</td>\n",
       "      <td>4</td>\n",
       "      <td>0.593220</td>\n",
       "    </tr>\n",
       "    <tr>\n",
       "      <th>2</th>\n",
       "      <td>1</td>\n",
       "      <td>M</td>\n",
       "      <td>1</td>\n",
       "      <td>0.299854</td>\n",
       "    </tr>\n",
       "    <tr>\n",
       "      <th>3</th>\n",
       "      <td>1</td>\n",
       "      <td>C</td>\n",
       "      <td>4</td>\n",
       "      <td>0.593220</td>\n",
       "    </tr>\n",
       "    <tr>\n",
       "      <th>4</th>\n",
       "      <td>0</td>\n",
       "      <td>M</td>\n",
       "      <td>1</td>\n",
       "      <td>0.299854</td>\n",
       "    </tr>\n",
       "  </tbody>\n",
       "</table>\n",
       "</div>"
      ],
      "text/plain": [
       "   Survived Cabin  Carbin_ordinal_label  mean_ordinal_encoded\n",
       "0         0     M                     1              0.299854\n",
       "1         1     C                     4              0.593220\n",
       "2         1     M                     1              0.299854\n",
       "3         1     C                     4              0.593220\n",
       "4         0     M                     1              0.299854"
      ]
     },
     "execution_count": 22,
     "metadata": {},
     "output_type": "execute_result"
    }
   ],
   "source": [
    "df.head()"
   ]
  },
  {
   "cell_type": "code",
   "execution_count": null,
   "metadata": {
    "papermill": {
     "duration": 0.025644,
     "end_time": "2021-03-22T20:08:48.685611",
     "exception": false,
     "start_time": "2021-03-22T20:08:48.659967",
     "status": "completed"
    },
    "tags": []
   },
   "outputs": [],
   "source": []
  }
 ],
 "metadata": {
  "kernelspec": {
   "display_name": "Python 3",
   "language": "python",
   "name": "python3"
  },
  "language_info": {
   "codemirror_mode": {
    "name": "ipython",
    "version": 3
   },
   "file_extension": ".py",
   "mimetype": "text/x-python",
   "name": "python",
   "nbconvert_exporter": "python",
   "pygments_lexer": "ipython3",
   "version": "3.7.9"
  },
  "papermill": {
   "default_parameters": {},
   "duration": 12.839525,
   "end_time": "2021-03-22T20:08:49.627800",
   "environment_variables": {},
   "exception": null,
   "input_path": "__notebook__.ipynb",
   "output_path": "__notebook__.ipynb",
   "parameters": {},
   "start_time": "2021-03-22T20:08:36.788275",
   "version": "2.2.2"
  }
 },
 "nbformat": 4,
 "nbformat_minor": 4
}
