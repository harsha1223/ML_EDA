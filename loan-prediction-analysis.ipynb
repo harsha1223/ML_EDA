{
 "cells": [
  {
   "cell_type": "code",
   "execution_count": 1,
   "id": "informed-disney",
   "metadata": {
    "_cell_guid": "b1076dfc-b9ad-4769-8c92-a6c4dae69d19",
    "_uuid": "8f2839f25d086af736a60e9eeb907d3b93b6e0e5",
    "execution": {
     "iopub.execute_input": "2021-04-05T20:22:35.054023Z",
     "iopub.status.busy": "2021-04-05T20:22:35.053399Z",
     "iopub.status.idle": "2021-04-05T20:22:35.074039Z",
     "shell.execute_reply": "2021-04-05T20:22:35.074559Z"
    },
    "papermill": {
     "duration": 0.079109,
     "end_time": "2021-04-05T20:22:35.074846",
     "exception": false,
     "start_time": "2021-04-05T20:22:34.995737",
     "status": "completed"
    },
    "tags": []
   },
   "outputs": [
    {
     "name": "stdout",
     "output_type": "stream",
     "text": [
      "/kaggle/input/loan-prediction-problem-dataset/test_Y3wMUE5_7gLdaTN.csv\n",
      "/kaggle/input/loan-prediction-problem-dataset/train_u6lujuX_CVtuZ9i.csv\n",
      "/kaggle/input/loan-predication/train_u6lujuX_CVtuZ9i (1).csv\n"
     ]
    }
   ],
   "source": [
    "# This Python 3 environment comes with many helpful analytics libraries installed\n",
    "# It is defined by the kaggle/python Docker image: https://github.com/kaggle/docker-python\n",
    "# For example, here's several helpful packages to load\n",
    "\n",
    "import numpy as np # linear algebra\n",
    "import pandas as pd # data processing, CSV file I/O (e.g. pd.read_csv)\n",
    "\n",
    "# Input data files are available in the read-only \"../input/\" directory\n",
    "# For example, running this (by clicking run or pressing Shift+Enter) will list all files under the input directory\n",
    "\n",
    "import os\n",
    "for dirname, _, filenames in os.walk('/kaggle/input'):\n",
    "    for filename in filenames:\n",
    "        print(os.path.join(dirname, filename))\n",
    "\n",
    "# You can write up to 20GB to the current directory (/kaggle/working/) that gets preserved as output when you create a version using \"Save & Run All\" \n",
    "# You can also write temporary files to /kaggle/temp/, but they won't be saved outside of the current session"
   ]
  },
  {
   "cell_type": "markdown",
   "id": "wired-southeast",
   "metadata": {
    "papermill": {
     "duration": 0.046458,
     "end_time": "2021-04-05T20:22:35.169174",
     "exception": false,
     "start_time": "2021-04-05T20:22:35.122716",
     "status": "completed"
    },
    "tags": []
   },
   "source": [
    "## IMPORT MODULES:"
   ]
  },
  {
   "cell_type": "code",
   "execution_count": 2,
   "id": "consecutive-partner",
   "metadata": {
    "execution": {
     "iopub.execute_input": "2021-04-05T20:22:35.269570Z",
     "iopub.status.busy": "2021-04-05T20:22:35.268942Z",
     "iopub.status.idle": "2021-04-05T20:22:36.315703Z",
     "shell.execute_reply": "2021-04-05T20:22:36.314977Z"
    },
    "papermill": {
     "duration": 1.099857,
     "end_time": "2021-04-05T20:22:36.315874",
     "exception": false,
     "start_time": "2021-04-05T20:22:35.216017",
     "status": "completed"
    },
    "tags": []
   },
   "outputs": [],
   "source": [
    "import pandas as pd\n",
    "import numpy as np \n",
    "import seaborn as sns\n",
    "import matplotlib.pyplot as plt\n",
    "%matplotlib inline"
   ]
  },
  {
   "cell_type": "markdown",
   "id": "chinese-template",
   "metadata": {
    "papermill": {
     "duration": 0.047408,
     "end_time": "2021-04-05T20:22:36.411334",
     "exception": false,
     "start_time": "2021-04-05T20:22:36.363926",
     "status": "completed"
    },
    "tags": []
   },
   "source": [
    "## LOADING THE DATASET: "
   ]
  },
  {
   "cell_type": "code",
   "execution_count": 3,
   "id": "enhanced-consistency",
   "metadata": {
    "execution": {
     "iopub.execute_input": "2021-04-05T20:22:36.513587Z",
     "iopub.status.busy": "2021-04-05T20:22:36.512844Z",
     "iopub.status.idle": "2021-04-05T20:22:36.530719Z",
     "shell.execute_reply": "2021-04-05T20:22:36.530058Z"
    },
    "papermill": {
     "duration": 0.071511,
     "end_time": "2021-04-05T20:22:36.530896",
     "exception": false,
     "start_time": "2021-04-05T20:22:36.459385",
     "status": "completed"
    },
    "tags": []
   },
   "outputs": [],
   "source": [
    "df = pd.read_csv('../input/loan-prediction-problem-dataset/train_u6lujuX_CVtuZ9i.csv')"
   ]
  },
  {
   "cell_type": "code",
   "execution_count": 4,
   "id": "formed-diary",
   "metadata": {
    "execution": {
     "iopub.execute_input": "2021-04-05T20:22:36.662028Z",
     "iopub.status.busy": "2021-04-05T20:22:36.660961Z",
     "iopub.status.idle": "2021-04-05T20:22:36.699664Z",
     "shell.execute_reply": "2021-04-05T20:22:36.700197Z"
    },
    "papermill": {
     "duration": 0.120958,
     "end_time": "2021-04-05T20:22:36.700394",
     "exception": false,
     "start_time": "2021-04-05T20:22:36.579436",
     "status": "completed"
    },
    "tags": []
   },
   "outputs": [
    {
     "data": {
      "text/html": [
       "<div>\n",
       "<style scoped>\n",
       "    .dataframe tbody tr th:only-of-type {\n",
       "        vertical-align: middle;\n",
       "    }\n",
       "\n",
       "    .dataframe tbody tr th {\n",
       "        vertical-align: top;\n",
       "    }\n",
       "\n",
       "    .dataframe thead th {\n",
       "        text-align: right;\n",
       "    }\n",
       "</style>\n",
       "<table border=\"1\" class=\"dataframe\">\n",
       "  <thead>\n",
       "    <tr style=\"text-align: right;\">\n",
       "      <th></th>\n",
       "      <th>Loan_ID</th>\n",
       "      <th>Gender</th>\n",
       "      <th>Married</th>\n",
       "      <th>Dependents</th>\n",
       "      <th>Education</th>\n",
       "      <th>Self_Employed</th>\n",
       "      <th>ApplicantIncome</th>\n",
       "      <th>CoapplicantIncome</th>\n",
       "      <th>LoanAmount</th>\n",
       "      <th>Loan_Amount_Term</th>\n",
       "      <th>Credit_History</th>\n",
       "      <th>Property_Area</th>\n",
       "      <th>Loan_Status</th>\n",
       "    </tr>\n",
       "  </thead>\n",
       "  <tbody>\n",
       "    <tr>\n",
       "      <th>0</th>\n",
       "      <td>LP001002</td>\n",
       "      <td>Male</td>\n",
       "      <td>No</td>\n",
       "      <td>0</td>\n",
       "      <td>Graduate</td>\n",
       "      <td>No</td>\n",
       "      <td>5849</td>\n",
       "      <td>0.0</td>\n",
       "      <td>NaN</td>\n",
       "      <td>360.0</td>\n",
       "      <td>1.0</td>\n",
       "      <td>Urban</td>\n",
       "      <td>Y</td>\n",
       "    </tr>\n",
       "    <tr>\n",
       "      <th>1</th>\n",
       "      <td>LP001003</td>\n",
       "      <td>Male</td>\n",
       "      <td>Yes</td>\n",
       "      <td>1</td>\n",
       "      <td>Graduate</td>\n",
       "      <td>No</td>\n",
       "      <td>4583</td>\n",
       "      <td>1508.0</td>\n",
       "      <td>128.0</td>\n",
       "      <td>360.0</td>\n",
       "      <td>1.0</td>\n",
       "      <td>Rural</td>\n",
       "      <td>N</td>\n",
       "    </tr>\n",
       "    <tr>\n",
       "      <th>2</th>\n",
       "      <td>LP001005</td>\n",
       "      <td>Male</td>\n",
       "      <td>Yes</td>\n",
       "      <td>0</td>\n",
       "      <td>Graduate</td>\n",
       "      <td>Yes</td>\n",
       "      <td>3000</td>\n",
       "      <td>0.0</td>\n",
       "      <td>66.0</td>\n",
       "      <td>360.0</td>\n",
       "      <td>1.0</td>\n",
       "      <td>Urban</td>\n",
       "      <td>Y</td>\n",
       "    </tr>\n",
       "    <tr>\n",
       "      <th>3</th>\n",
       "      <td>LP001006</td>\n",
       "      <td>Male</td>\n",
       "      <td>Yes</td>\n",
       "      <td>0</td>\n",
       "      <td>Not Graduate</td>\n",
       "      <td>No</td>\n",
       "      <td>2583</td>\n",
       "      <td>2358.0</td>\n",
       "      <td>120.0</td>\n",
       "      <td>360.0</td>\n",
       "      <td>1.0</td>\n",
       "      <td>Urban</td>\n",
       "      <td>Y</td>\n",
       "    </tr>\n",
       "    <tr>\n",
       "      <th>4</th>\n",
       "      <td>LP001008</td>\n",
       "      <td>Male</td>\n",
       "      <td>No</td>\n",
       "      <td>0</td>\n",
       "      <td>Graduate</td>\n",
       "      <td>No</td>\n",
       "      <td>6000</td>\n",
       "      <td>0.0</td>\n",
       "      <td>141.0</td>\n",
       "      <td>360.0</td>\n",
       "      <td>1.0</td>\n",
       "      <td>Urban</td>\n",
       "      <td>Y</td>\n",
       "    </tr>\n",
       "  </tbody>\n",
       "</table>\n",
       "</div>"
      ],
      "text/plain": [
       "    Loan_ID Gender Married Dependents     Education Self_Employed  \\\n",
       "0  LP001002   Male      No          0      Graduate            No   \n",
       "1  LP001003   Male     Yes          1      Graduate            No   \n",
       "2  LP001005   Male     Yes          0      Graduate           Yes   \n",
       "3  LP001006   Male     Yes          0  Not Graduate            No   \n",
       "4  LP001008   Male      No          0      Graduate            No   \n",
       "\n",
       "   ApplicantIncome  CoapplicantIncome  LoanAmount  Loan_Amount_Term  \\\n",
       "0             5849                0.0         NaN             360.0   \n",
       "1             4583             1508.0       128.0             360.0   \n",
       "2             3000                0.0        66.0             360.0   \n",
       "3             2583             2358.0       120.0             360.0   \n",
       "4             6000                0.0       141.0             360.0   \n",
       "\n",
       "   Credit_History Property_Area Loan_Status  \n",
       "0             1.0         Urban           Y  \n",
       "1             1.0         Rural           N  \n",
       "2             1.0         Urban           Y  \n",
       "3             1.0         Urban           Y  \n",
       "4             1.0         Urban           Y  "
      ]
     },
     "execution_count": 4,
     "metadata": {},
     "output_type": "execute_result"
    }
   ],
   "source": [
    "df.head()"
   ]
  },
  {
   "cell_type": "code",
   "execution_count": 5,
   "id": "appointed-technician",
   "metadata": {
    "execution": {
     "iopub.execute_input": "2021-04-05T20:22:36.812376Z",
     "iopub.status.busy": "2021-04-05T20:22:36.811657Z",
     "iopub.status.idle": "2021-04-05T20:22:36.841205Z",
     "shell.execute_reply": "2021-04-05T20:22:36.840467Z"
    },
    "papermill": {
     "duration": 0.084671,
     "end_time": "2021-04-05T20:22:36.841373",
     "exception": false,
     "start_time": "2021-04-05T20:22:36.756702",
     "status": "completed"
    },
    "tags": []
   },
   "outputs": [
    {
     "data": {
      "text/html": [
       "<div>\n",
       "<style scoped>\n",
       "    .dataframe tbody tr th:only-of-type {\n",
       "        vertical-align: middle;\n",
       "    }\n",
       "\n",
       "    .dataframe tbody tr th {\n",
       "        vertical-align: top;\n",
       "    }\n",
       "\n",
       "    .dataframe thead th {\n",
       "        text-align: right;\n",
       "    }\n",
       "</style>\n",
       "<table border=\"1\" class=\"dataframe\">\n",
       "  <thead>\n",
       "    <tr style=\"text-align: right;\">\n",
       "      <th></th>\n",
       "      <th>ApplicantIncome</th>\n",
       "      <th>CoapplicantIncome</th>\n",
       "      <th>LoanAmount</th>\n",
       "      <th>Loan_Amount_Term</th>\n",
       "      <th>Credit_History</th>\n",
       "    </tr>\n",
       "  </thead>\n",
       "  <tbody>\n",
       "    <tr>\n",
       "      <th>count</th>\n",
       "      <td>614.000000</td>\n",
       "      <td>614.000000</td>\n",
       "      <td>592.000000</td>\n",
       "      <td>600.00000</td>\n",
       "      <td>564.000000</td>\n",
       "    </tr>\n",
       "    <tr>\n",
       "      <th>mean</th>\n",
       "      <td>5403.459283</td>\n",
       "      <td>1621.245798</td>\n",
       "      <td>146.412162</td>\n",
       "      <td>342.00000</td>\n",
       "      <td>0.842199</td>\n",
       "    </tr>\n",
       "    <tr>\n",
       "      <th>std</th>\n",
       "      <td>6109.041673</td>\n",
       "      <td>2926.248369</td>\n",
       "      <td>85.587325</td>\n",
       "      <td>65.12041</td>\n",
       "      <td>0.364878</td>\n",
       "    </tr>\n",
       "    <tr>\n",
       "      <th>min</th>\n",
       "      <td>150.000000</td>\n",
       "      <td>0.000000</td>\n",
       "      <td>9.000000</td>\n",
       "      <td>12.00000</td>\n",
       "      <td>0.000000</td>\n",
       "    </tr>\n",
       "    <tr>\n",
       "      <th>25%</th>\n",
       "      <td>2877.500000</td>\n",
       "      <td>0.000000</td>\n",
       "      <td>100.000000</td>\n",
       "      <td>360.00000</td>\n",
       "      <td>1.000000</td>\n",
       "    </tr>\n",
       "    <tr>\n",
       "      <th>50%</th>\n",
       "      <td>3812.500000</td>\n",
       "      <td>1188.500000</td>\n",
       "      <td>128.000000</td>\n",
       "      <td>360.00000</td>\n",
       "      <td>1.000000</td>\n",
       "    </tr>\n",
       "    <tr>\n",
       "      <th>75%</th>\n",
       "      <td>5795.000000</td>\n",
       "      <td>2297.250000</td>\n",
       "      <td>168.000000</td>\n",
       "      <td>360.00000</td>\n",
       "      <td>1.000000</td>\n",
       "    </tr>\n",
       "    <tr>\n",
       "      <th>max</th>\n",
       "      <td>81000.000000</td>\n",
       "      <td>41667.000000</td>\n",
       "      <td>700.000000</td>\n",
       "      <td>480.00000</td>\n",
       "      <td>1.000000</td>\n",
       "    </tr>\n",
       "  </tbody>\n",
       "</table>\n",
       "</div>"
      ],
      "text/plain": [
       "       ApplicantIncome  CoapplicantIncome  LoanAmount  Loan_Amount_Term  \\\n",
       "count       614.000000         614.000000  592.000000         600.00000   \n",
       "mean       5403.459283        1621.245798  146.412162         342.00000   \n",
       "std        6109.041673        2926.248369   85.587325          65.12041   \n",
       "min         150.000000           0.000000    9.000000          12.00000   \n",
       "25%        2877.500000           0.000000  100.000000         360.00000   \n",
       "50%        3812.500000        1188.500000  128.000000         360.00000   \n",
       "75%        5795.000000        2297.250000  168.000000         360.00000   \n",
       "max       81000.000000       41667.000000  700.000000         480.00000   \n",
       "\n",
       "       Credit_History  \n",
       "count      564.000000  \n",
       "mean         0.842199  \n",
       "std          0.364878  \n",
       "min          0.000000  \n",
       "25%          1.000000  \n",
       "50%          1.000000  \n",
       "75%          1.000000  \n",
       "max          1.000000  "
      ]
     },
     "execution_count": 5,
     "metadata": {},
     "output_type": "execute_result"
    }
   ],
   "source": [
    "df.describe()"
   ]
  },
  {
   "cell_type": "code",
   "execution_count": 6,
   "id": "lesser-passing",
   "metadata": {
    "execution": {
     "iopub.execute_input": "2021-04-05T20:22:36.959552Z",
     "iopub.status.busy": "2021-04-05T20:22:36.958824Z",
     "iopub.status.idle": "2021-04-05T20:22:36.963480Z",
     "shell.execute_reply": "2021-04-05T20:22:36.964042Z"
    },
    "papermill": {
     "duration": 0.073419,
     "end_time": "2021-04-05T20:22:36.964240",
     "exception": false,
     "start_time": "2021-04-05T20:22:36.890821",
     "status": "completed"
    },
    "tags": []
   },
   "outputs": [
    {
     "name": "stdout",
     "output_type": "stream",
     "text": [
      "<class 'pandas.core.frame.DataFrame'>\n",
      "RangeIndex: 614 entries, 0 to 613\n",
      "Data columns (total 13 columns):\n",
      " #   Column             Non-Null Count  Dtype  \n",
      "---  ------             --------------  -----  \n",
      " 0   Loan_ID            614 non-null    object \n",
      " 1   Gender             601 non-null    object \n",
      " 2   Married            611 non-null    object \n",
      " 3   Dependents         599 non-null    object \n",
      " 4   Education          614 non-null    object \n",
      " 5   Self_Employed      582 non-null    object \n",
      " 6   ApplicantIncome    614 non-null    int64  \n",
      " 7   CoapplicantIncome  614 non-null    float64\n",
      " 8   LoanAmount         592 non-null    float64\n",
      " 9   Loan_Amount_Term   600 non-null    float64\n",
      " 10  Credit_History     564 non-null    float64\n",
      " 11  Property_Area      614 non-null    object \n",
      " 12  Loan_Status        614 non-null    object \n",
      "dtypes: float64(4), int64(1), object(8)\n",
      "memory usage: 62.5+ KB\n"
     ]
    }
   ],
   "source": [
    "df.info()"
   ]
  },
  {
   "cell_type": "markdown",
   "id": "distributed-criterion",
   "metadata": {
    "papermill": {
     "duration": 0.050362,
     "end_time": "2021-04-05T20:22:37.064843",
     "exception": false,
     "start_time": "2021-04-05T20:22:37.014481",
     "status": "completed"
    },
    "tags": []
   },
   "source": [
    "## PREPROCESSING THE DATASET"
   ]
  },
  {
   "cell_type": "code",
   "execution_count": 7,
   "id": "adult-pride",
   "metadata": {
    "execution": {
     "iopub.execute_input": "2021-04-05T20:22:37.173416Z",
     "iopub.status.busy": "2021-04-05T20:22:37.172506Z",
     "iopub.status.idle": "2021-04-05T20:22:37.177918Z",
     "shell.execute_reply": "2021-04-05T20:22:37.177171Z"
    },
    "papermill": {
     "duration": 0.06366,
     "end_time": "2021-04-05T20:22:37.178091",
     "exception": false,
     "start_time": "2021-04-05T20:22:37.114431",
     "status": "completed"
    },
    "tags": []
   },
   "outputs": [
    {
     "data": {
      "text/plain": [
       "Loan_ID               0\n",
       "Gender               13\n",
       "Married               3\n",
       "Dependents           15\n",
       "Education             0\n",
       "Self_Employed        32\n",
       "ApplicantIncome       0\n",
       "CoapplicantIncome     0\n",
       "LoanAmount           22\n",
       "Loan_Amount_Term     14\n",
       "Credit_History       50\n",
       "Property_Area         0\n",
       "Loan_Status           0\n",
       "dtype: int64"
      ]
     },
     "execution_count": 7,
     "metadata": {},
     "output_type": "execute_result"
    }
   ],
   "source": [
    "#Null values:\n",
    "df.isnull().sum()"
   ]
  },
  {
   "cell_type": "code",
   "execution_count": 8,
   "id": "prospective-hostel",
   "metadata": {
    "execution": {
     "iopub.execute_input": "2021-04-05T20:22:37.288442Z",
     "iopub.status.busy": "2021-04-05T20:22:37.286732Z",
     "iopub.status.idle": "2021-04-05T20:22:37.292387Z",
     "shell.execute_reply": "2021-04-05T20:22:37.291833Z"
    },
    "papermill": {
     "duration": 0.063594,
     "end_time": "2021-04-05T20:22:37.292555",
     "exception": false,
     "start_time": "2021-04-05T20:22:37.228961",
     "status": "completed"
    },
    "tags": []
   },
   "outputs": [],
   "source": [
    "#filling the missing values for numerical terms with the help of mean\n",
    "df ['LoanAmount'] = df ['LoanAmount'].fillna(df['LoanAmount'].mean())\n",
    "df ['Loan_Amount_Term'] = df ['Loan_Amount_Term'].fillna(df['Loan_Amount_Term'].mean())\n",
    "df ['Credit_History'] = df ['Credit_History'].fillna(df['Credit_History'].mean())"
   ]
  },
  {
   "cell_type": "code",
   "execution_count": 9,
   "id": "killing-peeing",
   "metadata": {
    "execution": {
     "iopub.execute_input": "2021-04-05T20:22:37.406271Z",
     "iopub.status.busy": "2021-04-05T20:22:37.405274Z",
     "iopub.status.idle": "2021-04-05T20:22:37.408834Z",
     "shell.execute_reply": "2021-04-05T20:22:37.409304Z"
    },
    "papermill": {
     "duration": 0.066372,
     "end_time": "2021-04-05T20:22:37.409529",
     "exception": false,
     "start_time": "2021-04-05T20:22:37.343157",
     "status": "completed"
    },
    "tags": []
   },
   "outputs": [],
   "source": [
    "#filling the missing values for categorical terms with the help of mode\n",
    "df ['Gender'] = df ['Gender'].fillna(df['Gender'].mode()[0])\n",
    "df ['Married'] = df ['Married'].fillna(df['Married'].mode()[0])\n",
    "df ['Dependents'] = df ['Dependents'].fillna(df['Dependents'].mode()[0])\n",
    "df ['Self_Employed'] = df ['Self_Employed'].fillna(df['Self_Employed'].mode()[0])"
   ]
  },
  {
   "cell_type": "code",
   "execution_count": 10,
   "id": "elect-english",
   "metadata": {
    "execution": {
     "iopub.execute_input": "2021-04-05T20:22:37.521049Z",
     "iopub.status.busy": "2021-04-05T20:22:37.520327Z",
     "iopub.status.idle": "2021-04-05T20:22:37.525760Z",
     "shell.execute_reply": "2021-04-05T20:22:37.525182Z"
    },
    "papermill": {
     "duration": 0.065617,
     "end_time": "2021-04-05T20:22:37.525913",
     "exception": false,
     "start_time": "2021-04-05T20:22:37.460296",
     "status": "completed"
    },
    "tags": []
   },
   "outputs": [
    {
     "data": {
      "text/plain": [
       "Loan_ID              0\n",
       "Gender               0\n",
       "Married              0\n",
       "Dependents           0\n",
       "Education            0\n",
       "Self_Employed        0\n",
       "ApplicantIncome      0\n",
       "CoapplicantIncome    0\n",
       "LoanAmount           0\n",
       "Loan_Amount_Term     0\n",
       "Credit_History       0\n",
       "Property_Area        0\n",
       "Loan_Status          0\n",
       "dtype: int64"
      ]
     },
     "execution_count": 10,
     "metadata": {},
     "output_type": "execute_result"
    }
   ],
   "source": [
    "df.isnull().sum()"
   ]
  },
  {
   "cell_type": "markdown",
   "id": "impressive-boost",
   "metadata": {
    "papermill": {
     "duration": 0.051707,
     "end_time": "2021-04-05T20:22:37.628656",
     "exception": false,
     "start_time": "2021-04-05T20:22:37.576949",
     "status": "completed"
    },
    "tags": []
   },
   "source": [
    "## EXPLORATORY DATA ANALYSIS:"
   ]
  },
  {
   "cell_type": "markdown",
   "id": "refined-stone",
   "metadata": {
    "papermill": {
     "duration": 0.051313,
     "end_time": "2021-04-05T20:22:37.731704",
     "exception": false,
     "start_time": "2021-04-05T20:22:37.680391",
     "status": "completed"
    },
    "tags": []
   },
   "source": [
    "##### CATEGORICAL ATTRIBUTE VISUALIZATION:"
   ]
  },
  {
   "cell_type": "code",
   "execution_count": 11,
   "id": "angry-bread",
   "metadata": {
    "execution": {
     "iopub.execute_input": "2021-04-05T20:22:37.839955Z",
     "iopub.status.busy": "2021-04-05T20:22:37.839284Z",
     "iopub.status.idle": "2021-04-05T20:22:37.993682Z",
     "shell.execute_reply": "2021-04-05T20:22:37.993007Z"
    },
    "papermill": {
     "duration": 0.21075,
     "end_time": "2021-04-05T20:22:37.993828",
     "exception": false,
     "start_time": "2021-04-05T20:22:37.783078",
     "status": "completed"
    },
    "tags": []
   },
   "outputs": [
    {
     "name": "stderr",
     "output_type": "stream",
     "text": [
      "/opt/conda/lib/python3.7/site-packages/seaborn/_decorators.py:43: FutureWarning: Pass the following variable as a keyword arg: x. From version 0.12, the only valid positional argument will be `data`, and passing other arguments without an explicit keyword will result in an error or misinterpretation.\n",
      "  FutureWarning\n"
     ]
    },
    {
     "data": {
      "text/plain": [
       "<AxesSubplot:xlabel='Gender', ylabel='count'>"
      ]
     },
     "execution_count": 11,
     "metadata": {},
     "output_type": "execute_result"
    },
    {
     "data": {
      "image/png": "[encoded data removed]",
      "text/plain": [
       "<Figure size 432x288 with 1 Axes>"
      ]
     },
     "metadata": {
      "needs_background": "light"
     },
     "output_type": "display_data"
    }
   ],
   "source": [
    "sns.countplot(df['Gender'])"
   ]
  },
  {
   "cell_type": "code",
   "execution_count": 12,
   "id": "identified-dynamics",
   "metadata": {
    "execution": {
     "iopub.execute_input": "2021-04-05T20:22:38.108851Z",
     "iopub.status.busy": "2021-04-05T20:22:38.107720Z",
     "iopub.status.idle": "2021-04-05T20:22:38.238496Z",
     "shell.execute_reply": "2021-04-05T20:22:38.237182Z"
    },
    "papermill": {
     "duration": 0.19144,
     "end_time": "2021-04-05T20:22:38.238731",
     "exception": false,
     "start_time": "2021-04-05T20:22:38.047291",
     "status": "completed"
    },
    "tags": []
   },
   "outputs": [
    {
     "name": "stderr",
     "output_type": "stream",
     "text": [
      "/opt/conda/lib/python3.7/site-packages/seaborn/_decorators.py:43: FutureWarning: Pass the following variable as a keyword arg: x. From version 0.12, the only valid positional argument will be `data`, and passing other arguments without an explicit keyword will result in an error or misinterpretation.\n",
      "  FutureWarning\n"
     ]
    },
    {
     "data": {
      "text/plain": [
       "<AxesSubplot:xlabel='Married', ylabel='count'>"
      ]
     },
     "execution_count": 12,
     "metadata": {},
     "output_type": "execute_result"
    },
    {
     "data": {
      "image/png": "[encoded data removed]",
      "text/plain": [
       "<Figure size 432x288 with 1 Axes>"
      ]
     },
     "metadata": {
      "needs_background": "light"
     },
     "output_type": "display_data"
    }
   ],
   "source": [
    "sns.countplot(df['Married'])"
   ]
  },
  {
   "cell_type": "code",
   "execution_count": 13,
   "id": "assumed-dining",
   "metadata": {
    "execution": {
     "iopub.execute_input": "2021-04-05T20:22:38.375248Z",
     "iopub.status.busy": "2021-04-05T20:22:38.365129Z",
     "iopub.status.idle": "2021-04-05T20:22:38.497877Z",
     "shell.execute_reply": "2021-04-05T20:22:38.496872Z"
    },
    "papermill": {
     "duration": 0.204846,
     "end_time": "2021-04-05T20:22:38.498056",
     "exception": false,
     "start_time": "2021-04-05T20:22:38.293210",
     "status": "completed"
    },
    "tags": []
   },
   "outputs": [
    {
     "name": "stderr",
     "output_type": "stream",
     "text": [
      "/opt/conda/lib/python3.7/site-packages/seaborn/_decorators.py:43: FutureWarning: Pass the following variable as a keyword arg: x. From version 0.12, the only valid positional argument will be `data`, and passing other arguments without an explicit keyword will result in an error or misinterpretation.\n",
      "  FutureWarning\n"
     ]
    },
    {
     "data": {
      "text/plain": [
       "<AxesSubplot:xlabel='Dependents', ylabel='count'>"
      ]
     },
     "execution_count": 13,
     "metadata": {},
     "output_type": "execute_result"
    },
    {
     "data": {
      "image/png": "[encoded data removed]",
      "text/plain": [
       "<Figure size 432x288 with 1 Axes>"
      ]
     },
     "metadata": {
      "needs_background": "light"
     },
     "output_type": "display_data"
    }
   ],
   "source": [
    "sns.countplot(df['Dependents'])"
   ]
  },
  {
   "cell_type": "code",
   "execution_count": 14,
   "id": "suited-commissioner",
   "metadata": {
    "execution": {
     "iopub.execute_input": "2021-04-05T20:22:38.634214Z",
     "iopub.status.busy": "2021-04-05T20:22:38.622774Z",
     "iopub.status.idle": "2021-04-05T20:22:38.737437Z",
     "shell.execute_reply": "2021-04-05T20:22:38.736918Z"
    },
    "papermill": {
     "duration": 0.180851,
     "end_time": "2021-04-05T20:22:38.737601",
     "exception": false,
     "start_time": "2021-04-05T20:22:38.556750",
     "status": "completed"
    },
    "tags": []
   },
   "outputs": [
    {
     "name": "stderr",
     "output_type": "stream",
     "text": [
      "/opt/conda/lib/python3.7/site-packages/seaborn/_decorators.py:43: FutureWarning: Pass the following variable as a keyword arg: x. From version 0.12, the only valid positional argument will be `data`, and passing other arguments without an explicit keyword will result in an error or misinterpretation.\n",
      "  FutureWarning\n"
     ]
    },
    {
     "data": {
      "text/plain": [
       "<AxesSubplot:xlabel='Education', ylabel='count'>"
      ]
     },
     "execution_count": 14,
     "metadata": {},
     "output_type": "execute_result"
    },
    {
     "data": {
      "image/png": "[encoded data removed]",
      "text/plain": [
       "<Figure size 432x288 with 1 Axes>"
      ]
     },
     "metadata": {
      "needs_background": "light"
     },
     "output_type": "display_data"
    }
   ],
   "source": [
    "sns.countplot(df['Education'])"
   ]
  },
  {
   "cell_type": "code",
   "execution_count": 15,
   "id": "living-residence",
   "metadata": {
    "execution": {
     "iopub.execute_input": "2021-04-05T20:22:38.858667Z",
     "iopub.status.busy": "2021-04-05T20:22:38.857310Z",
     "iopub.status.idle": "2021-04-05T20:22:38.975275Z",
     "shell.execute_reply": "2021-04-05T20:22:38.974578Z"
    },
    "papermill": {
     "duration": 0.181001,
     "end_time": "2021-04-05T20:22:38.975419",
     "exception": false,
     "start_time": "2021-04-05T20:22:38.794418",
     "status": "completed"
    },
    "tags": []
   },
   "outputs": [
    {
     "name": "stderr",
     "output_type": "stream",
     "text": [
      "/opt/conda/lib/python3.7/site-packages/seaborn/_decorators.py:43: FutureWarning: Pass the following variable as a keyword arg: x. From version 0.12, the only valid positional argument will be `data`, and passing other arguments without an explicit keyword will result in an error or misinterpretation.\n",
      "  FutureWarning\n"
     ]
    },
    {
     "data": {
      "text/plain": [
       "<AxesSubplot:xlabel='Self_Employed', ylabel='count'>"
      ]
     },
     "execution_count": 15,
     "metadata": {},
     "output_type": "execute_result"
    },
    {
     "data": {
      "image/png": "[encoded data removed]",
      "text/plain": [
       "<Figure size 432x288 with 1 Axes>"
      ]
     },
     "metadata": {
      "needs_background": "light"
     },
     "output_type": "display_data"
    }
   ],
   "source": [
    "sns.countplot(df['Self_Employed'])"
   ]
  },
  {
   "cell_type": "code",
   "execution_count": 16,
   "id": "complimentary-graduate",
   "metadata": {
    "execution": {
     "iopub.execute_input": "2021-04-05T20:22:39.101002Z",
     "iopub.status.busy": "2021-04-05T20:22:39.099189Z",
     "iopub.status.idle": "2021-04-05T20:22:39.222603Z",
     "shell.execute_reply": "2021-04-05T20:22:39.221936Z"
    },
    "papermill": {
     "duration": 0.189266,
     "end_time": "2021-04-05T20:22:39.222738",
     "exception": false,
     "start_time": "2021-04-05T20:22:39.033472",
     "status": "completed"
    },
    "tags": []
   },
   "outputs": [
    {
     "name": "stderr",
     "output_type": "stream",
     "text": [
      "/opt/conda/lib/python3.7/site-packages/seaborn/_decorators.py:43: FutureWarning: Pass the following variable as a keyword arg: x. From version 0.12, the only valid positional argument will be `data`, and passing other arguments without an explicit keyword will result in an error or misinterpretation.\n",
      "  FutureWarning\n"
     ]
    },
    {
     "data": {
      "text/plain": [
       "<AxesSubplot:xlabel='Property_Area', ylabel='count'>"
      ]
     },
     "execution_count": 16,
     "metadata": {},
     "output_type": "execute_result"
    },
    {
     "data": {
      "image/png": "[encoded data removed]",
      "text/plain": [
       "<Figure size 432x288 with 1 Axes>"
      ]
     },
     "metadata": {
      "needs_background": "light"
     },
     "output_type": "display_data"
    }
   ],
   "source": [
    "sns.countplot(df['Property_Area'])"
   ]
  },
  {
   "cell_type": "code",
   "execution_count": 17,
   "id": "behind-lexington",
   "metadata": {
    "execution": {
     "iopub.execute_input": "2021-04-05T20:22:39.358375Z",
     "iopub.status.busy": "2021-04-05T20:22:39.350377Z",
     "iopub.status.idle": "2021-04-05T20:22:39.483426Z",
     "shell.execute_reply": "2021-04-05T20:22:39.484079Z"
    },
    "papermill": {
     "duration": 0.20224,
     "end_time": "2021-04-05T20:22:39.484296",
     "exception": false,
     "start_time": "2021-04-05T20:22:39.282056",
     "status": "completed"
    },
    "tags": []
   },
   "outputs": [
    {
     "name": "stderr",
     "output_type": "stream",
     "text": [
      "/opt/conda/lib/python3.7/site-packages/seaborn/_decorators.py:43: FutureWarning: Pass the following variable as a keyword arg: x. From version 0.12, the only valid positional argument will be `data`, and passing other arguments without an explicit keyword will result in an error or misinterpretation.\n",
      "  FutureWarning\n"
     ]
    },
    {
     "data": {
      "text/plain": [
       "<AxesSubplot:xlabel='Loan_Status', ylabel='count'>"
      ]
     },
     "execution_count": 17,
     "metadata": {},
     "output_type": "execute_result"
    },
    {
     "data": {
      "image/png": "[encoded data removed]",
      "text/plain": [
       "<Figure size 432x288 with 1 Axes>"
      ]
     },
     "metadata": {
      "needs_background": "light"
     },
     "output_type": "display_data"
    }
   ],
   "source": [
    "sns.countplot(df['Loan_Status'])"
   ]
  },
  {
   "cell_type": "markdown",
   "id": "sixth-complexity",
   "metadata": {
    "papermill": {
     "duration": 0.060628,
     "end_time": "2021-04-05T20:22:39.607097",
     "exception": false,
     "start_time": "2021-04-05T20:22:39.546469",
     "status": "completed"
    },
    "tags": []
   },
   "source": [
    "##### NUMERICAL ATTRIBUTE VISUALIZATION:"
   ]
  },
  {
   "cell_type": "code",
   "execution_count": 18,
   "id": "collect-character",
   "metadata": {
    "execution": {
     "iopub.execute_input": "2021-04-05T20:22:39.737497Z",
     "iopub.status.busy": "2021-04-05T20:22:39.736670Z",
     "iopub.status.idle": "2021-04-05T20:22:40.023624Z",
     "shell.execute_reply": "2021-04-05T20:22:40.022909Z"
    },
    "papermill": {
     "duration": 0.355104,
     "end_time": "2021-04-05T20:22:40.023782",
     "exception": false,
     "start_time": "2021-04-05T20:22:39.668678",
     "status": "completed"
    },
    "tags": []
   },
   "outputs": [
    {
     "name": "stderr",
     "output_type": "stream",
     "text": [
      "/opt/conda/lib/python3.7/site-packages/seaborn/distributions.py:2557: FutureWarning: `distplot` is a deprecated function and will be removed in a future version. Please adapt your code to use either `displot` (a figure-level function with similar flexibility) or `histplot` (an axes-level function for histograms).\n",
      "  warnings.warn(msg, FutureWarning)\n"
     ]
    },
    {
     "data": {
      "text/plain": [
       "<AxesSubplot:xlabel='ApplicantIncome', ylabel='Density'>"
      ]
     },
     "execution_count": 18,
     "metadata": {},
     "output_type": "execute_result"
    },
    {
     "data": {
      "image/png": "[encoded data removed]",
      "text/plain": [
       "<Figure size 432x288 with 1 Axes>"
      ]
     },
     "metadata": {
      "needs_background": "light"
     },
     "output_type": "display_data"
    }
   ],
   "source": [
    "sns.distplot(df['ApplicantIncome'])"
   ]
  },
  {
   "cell_type": "code",
   "execution_count": 19,
   "id": "divided-casting",
   "metadata": {
    "execution": {
     "iopub.execute_input": "2021-04-05T20:22:40.161266Z",
     "iopub.status.busy": "2021-04-05T20:22:40.160013Z",
     "iopub.status.idle": "2021-04-05T20:22:40.165693Z",
     "shell.execute_reply": "2021-04-05T20:22:40.164663Z"
    },
    "papermill": {
     "duration": 0.076009,
     "end_time": "2021-04-05T20:22:40.165866",
     "exception": false,
     "start_time": "2021-04-05T20:22:40.089857",
     "status": "completed"
    },
    "tags": []
   },
   "outputs": [],
   "source": [
    "df['ApplicantIncome'] = np.log(df['ApplicantIncome'])"
   ]
  },
  {
   "cell_type": "code",
   "execution_count": 20,
   "id": "automotive-dominant",
   "metadata": {
    "execution": {
     "iopub.execute_input": "2021-04-05T20:22:40.318447Z",
     "iopub.status.busy": "2021-04-05T20:22:40.315870Z",
     "iopub.status.idle": "2021-04-05T20:22:40.541632Z",
     "shell.execute_reply": "2021-04-05T20:22:40.540969Z"
    },
    "papermill": {
     "duration": 0.312302,
     "end_time": "2021-04-05T20:22:40.541801",
     "exception": false,
     "start_time": "2021-04-05T20:22:40.229499",
     "status": "completed"
    },
    "tags": []
   },
   "outputs": [
    {
     "name": "stderr",
     "output_type": "stream",
     "text": [
      "/opt/conda/lib/python3.7/site-packages/seaborn/distributions.py:2557: FutureWarning: `distplot` is a deprecated function and will be removed in a future version. Please adapt your code to use either `displot` (a figure-level function with similar flexibility) or `histplot` (an axes-level function for histograms).\n",
      "  warnings.warn(msg, FutureWarning)\n"
     ]
    },
    {
     "data": {
      "text/plain": [
       "<AxesSubplot:xlabel='ApplicantIncome', ylabel='Density'>"
      ]
     },
     "execution_count": 20,
     "metadata": {},
     "output_type": "execute_result"
    },
    {
     "data": {
      "image/png": "[encoded data removed]",
      "text/plain": [
       "<Figure size 432x288 with 1 Axes>"
      ]
     },
     "metadata": {
      "needs_background": "light"
     },
     "output_type": "display_data"
    }
   ],
   "source": [
    "sns.distplot(df['ApplicantIncome'])"
   ]
  },
  {
   "cell_type": "code",
   "execution_count": 21,
   "id": "surgical-arbor",
   "metadata": {
    "execution": {
     "iopub.execute_input": "2021-04-05T20:22:40.693564Z",
     "iopub.status.busy": "2021-04-05T20:22:40.692595Z",
     "iopub.status.idle": "2021-04-05T20:22:40.697594Z",
     "shell.execute_reply": "2021-04-05T20:22:40.696935Z"
    },
    "papermill": {
     "duration": 0.091302,
     "end_time": "2021-04-05T20:22:40.697750",
     "exception": false,
     "start_time": "2021-04-05T20:22:40.606448",
     "status": "completed"
    },
    "tags": []
   },
   "outputs": [
    {
     "data": {
      "text/html": [
       "<div>\n",
       "<style scoped>\n",
       "    .dataframe tbody tr th:only-of-type {\n",
       "        vertical-align: middle;\n",
       "    }\n",
       "\n",
       "    .dataframe tbody tr th {\n",
       "        vertical-align: top;\n",
       "    }\n",
       "\n",
       "    .dataframe thead th {\n",
       "        text-align: right;\n",
       "    }\n",
       "</style>\n",
       "<table border=\"1\" class=\"dataframe\">\n",
       "  <thead>\n",
       "    <tr style=\"text-align: right;\">\n",
       "      <th></th>\n",
       "      <th>Loan_ID</th>\n",
       "      <th>Gender</th>\n",
       "      <th>Married</th>\n",
       "      <th>Dependents</th>\n",
       "      <th>Education</th>\n",
       "      <th>Self_Employed</th>\n",
       "      <th>ApplicantIncome</th>\n",
       "      <th>CoapplicantIncome</th>\n",
       "      <th>LoanAmount</th>\n",
       "      <th>Loan_Amount_Term</th>\n",
       "      <th>Credit_History</th>\n",
       "      <th>Property_Area</th>\n",
       "      <th>Loan_Status</th>\n",
       "    </tr>\n",
       "  </thead>\n",
       "  <tbody>\n",
       "    <tr>\n",
       "      <th>0</th>\n",
       "      <td>LP001002</td>\n",
       "      <td>Male</td>\n",
       "      <td>No</td>\n",
       "      <td>0</td>\n",
       "      <td>Graduate</td>\n",
       "      <td>No</td>\n",
       "      <td>8.674026</td>\n",
       "      <td>0.0</td>\n",
       "      <td>146.412162</td>\n",
       "      <td>360.0</td>\n",
       "      <td>1.0</td>\n",
       "      <td>Urban</td>\n",
       "      <td>Y</td>\n",
       "    </tr>\n",
       "    <tr>\n",
       "      <th>1</th>\n",
       "      <td>LP001003</td>\n",
       "      <td>Male</td>\n",
       "      <td>Yes</td>\n",
       "      <td>1</td>\n",
       "      <td>Graduate</td>\n",
       "      <td>No</td>\n",
       "      <td>8.430109</td>\n",
       "      <td>1508.0</td>\n",
       "      <td>128.000000</td>\n",
       "      <td>360.0</td>\n",
       "      <td>1.0</td>\n",
       "      <td>Rural</td>\n",
       "      <td>N</td>\n",
       "    </tr>\n",
       "    <tr>\n",
       "      <th>2</th>\n",
       "      <td>LP001005</td>\n",
       "      <td>Male</td>\n",
       "      <td>Yes</td>\n",
       "      <td>0</td>\n",
       "      <td>Graduate</td>\n",
       "      <td>Yes</td>\n",
       "      <td>8.006368</td>\n",
       "      <td>0.0</td>\n",
       "      <td>66.000000</td>\n",
       "      <td>360.0</td>\n",
       "      <td>1.0</td>\n",
       "      <td>Urban</td>\n",
       "      <td>Y</td>\n",
       "    </tr>\n",
       "    <tr>\n",
       "      <th>3</th>\n",
       "      <td>LP001006</td>\n",
       "      <td>Male</td>\n",
       "      <td>Yes</td>\n",
       "      <td>0</td>\n",
       "      <td>Not Graduate</td>\n",
       "      <td>No</td>\n",
       "      <td>7.856707</td>\n",
       "      <td>2358.0</td>\n",
       "      <td>120.000000</td>\n",
       "      <td>360.0</td>\n",
       "      <td>1.0</td>\n",
       "      <td>Urban</td>\n",
       "      <td>Y</td>\n",
       "    </tr>\n",
       "    <tr>\n",
       "      <th>4</th>\n",
       "      <td>LP001008</td>\n",
       "      <td>Male</td>\n",
       "      <td>No</td>\n",
       "      <td>0</td>\n",
       "      <td>Graduate</td>\n",
       "      <td>No</td>\n",
       "      <td>8.699515</td>\n",
       "      <td>0.0</td>\n",
       "      <td>141.000000</td>\n",
       "      <td>360.0</td>\n",
       "      <td>1.0</td>\n",
       "      <td>Urban</td>\n",
       "      <td>Y</td>\n",
       "    </tr>\n",
       "  </tbody>\n",
       "</table>\n",
       "</div>"
      ],
      "text/plain": [
       "    Loan_ID Gender Married Dependents     Education Self_Employed  \\\n",
       "0  LP001002   Male      No          0      Graduate            No   \n",
       "1  LP001003   Male     Yes          1      Graduate            No   \n",
       "2  LP001005   Male     Yes          0      Graduate           Yes   \n",
       "3  LP001006   Male     Yes          0  Not Graduate            No   \n",
       "4  LP001008   Male      No          0      Graduate            No   \n",
       "\n",
       "   ApplicantIncome  CoapplicantIncome  LoanAmount  Loan_Amount_Term  \\\n",
       "0         8.674026                0.0  146.412162             360.0   \n",
       "1         8.430109             1508.0  128.000000             360.0   \n",
       "2         8.006368                0.0   66.000000             360.0   \n",
       "3         7.856707             2358.0  120.000000             360.0   \n",
       "4         8.699515                0.0  141.000000             360.0   \n",
       "\n",
       "   Credit_History Property_Area Loan_Status  \n",
       "0             1.0         Urban           Y  \n",
       "1             1.0         Rural           N  \n",
       "2             1.0         Urban           Y  \n",
       "3             1.0         Urban           Y  \n",
       "4             1.0         Urban           Y  "
      ]
     },
     "execution_count": 21,
     "metadata": {},
     "output_type": "execute_result"
    }
   ],
   "source": [
    "df.head()"
   ]
  },
  {
   "cell_type": "code",
   "execution_count": 22,
   "id": "linear-chile",
   "metadata": {
    "execution": {
     "iopub.execute_input": "2021-04-05T20:22:40.852891Z",
     "iopub.status.busy": "2021-04-05T20:22:40.851597Z",
     "iopub.status.idle": "2021-04-05T20:22:41.095918Z",
     "shell.execute_reply": "2021-04-05T20:22:41.095372Z"
    },
    "papermill": {
     "duration": 0.332955,
     "end_time": "2021-04-05T20:22:41.096067",
     "exception": false,
     "start_time": "2021-04-05T20:22:40.763112",
     "status": "completed"
    },
    "tags": []
   },
   "outputs": [
    {
     "name": "stderr",
     "output_type": "stream",
     "text": [
      "/opt/conda/lib/python3.7/site-packages/seaborn/distributions.py:2557: FutureWarning: `distplot` is a deprecated function and will be removed in a future version. Please adapt your code to use either `displot` (a figure-level function with similar flexibility) or `histplot` (an axes-level function for histograms).\n",
      "  warnings.warn(msg, FutureWarning)\n"
     ]
    },
    {
     "data": {
      "text/plain": [
       "<AxesSubplot:xlabel='CoapplicantIncome', ylabel='Density'>"
      ]
     },
     "execution_count": 22,
     "metadata": {},
     "output_type": "execute_result"
    },
    {
     "data": {
      "image/png": "[encoded data removed]",
      "text/plain": [
       "<Figure size 432x288 with 1 Axes>"
      ]
     },
     "metadata": {
      "needs_background": "light"
     },
     "output_type": "display_data"
    }
   ],
   "source": [
    "sns.distplot(df['CoapplicantIncome'])"
   ]
  },
  {
   "cell_type": "code",
   "execution_count": 23,
   "id": "completed-bolivia",
   "metadata": {
    "execution": {
     "iopub.execute_input": "2021-04-05T20:22:41.236052Z",
     "iopub.status.busy": "2021-04-05T20:22:41.235195Z",
     "iopub.status.idle": "2021-04-05T20:22:41.238133Z",
     "shell.execute_reply": "2021-04-05T20:22:41.238612Z"
    },
    "papermill": {
     "duration": 0.07646,
     "end_time": "2021-04-05T20:22:41.238784",
     "exception": false,
     "start_time": "2021-04-05T20:22:41.162324",
     "status": "completed"
    },
    "tags": []
   },
   "outputs": [],
   "source": [
    "df['CoapplicantIncome'] = np.log(df['CoapplicantIncome']+1)"
   ]
  },
  {
   "cell_type": "code",
   "execution_count": 24,
   "id": "homeless-politics",
   "metadata": {
    "execution": {
     "iopub.execute_input": "2021-04-05T20:22:41.383960Z",
     "iopub.status.busy": "2021-04-05T20:22:41.383247Z",
     "iopub.status.idle": "2021-04-05T20:22:41.397354Z",
     "shell.execute_reply": "2021-04-05T20:22:41.396769Z"
    },
    "papermill": {
     "duration": 0.092088,
     "end_time": "2021-04-05T20:22:41.397490",
     "exception": false,
     "start_time": "2021-04-05T20:22:41.305402",
     "status": "completed"
    },
    "tags": []
   },
   "outputs": [
    {
     "data": {
      "text/html": [
       "<div>\n",
       "<style scoped>\n",
       "    .dataframe tbody tr th:only-of-type {\n",
       "        vertical-align: middle;\n",
       "    }\n",
       "\n",
       "    .dataframe tbody tr th {\n",
       "        vertical-align: top;\n",
       "    }\n",
       "\n",
       "    .dataframe thead th {\n",
       "        text-align: right;\n",
       "    }\n",
       "</style>\n",
       "<table border=\"1\" class=\"dataframe\">\n",
       "  <thead>\n",
       "    <tr style=\"text-align: right;\">\n",
       "      <th></th>\n",
       "      <th>Loan_ID</th>\n",
       "      <th>Gender</th>\n",
       "      <th>Married</th>\n",
       "      <th>Dependents</th>\n",
       "      <th>Education</th>\n",
       "      <th>Self_Employed</th>\n",
       "      <th>ApplicantIncome</th>\n",
       "      <th>CoapplicantIncome</th>\n",
       "      <th>LoanAmount</th>\n",
       "      <th>Loan_Amount_Term</th>\n",
       "      <th>Credit_History</th>\n",
       "      <th>Property_Area</th>\n",
       "      <th>Loan_Status</th>\n",
       "    </tr>\n",
       "  </thead>\n",
       "  <tbody>\n",
       "    <tr>\n",
       "      <th>0</th>\n",
       "      <td>LP001002</td>\n",
       "      <td>Male</td>\n",
       "      <td>No</td>\n",
       "      <td>0</td>\n",
       "      <td>Graduate</td>\n",
       "      <td>No</td>\n",
       "      <td>8.674026</td>\n",
       "      <td>0.000000</td>\n",
       "      <td>146.412162</td>\n",
       "      <td>360.0</td>\n",
       "      <td>1.0</td>\n",
       "      <td>Urban</td>\n",
       "      <td>Y</td>\n",
       "    </tr>\n",
       "    <tr>\n",
       "      <th>1</th>\n",
       "      <td>LP001003</td>\n",
       "      <td>Male</td>\n",
       "      <td>Yes</td>\n",
       "      <td>1</td>\n",
       "      <td>Graduate</td>\n",
       "      <td>No</td>\n",
       "      <td>8.430109</td>\n",
       "      <td>7.319202</td>\n",
       "      <td>128.000000</td>\n",
       "      <td>360.0</td>\n",
       "      <td>1.0</td>\n",
       "      <td>Rural</td>\n",
       "      <td>N</td>\n",
       "    </tr>\n",
       "    <tr>\n",
       "      <th>2</th>\n",
       "      <td>LP001005</td>\n",
       "      <td>Male</td>\n",
       "      <td>Yes</td>\n",
       "      <td>0</td>\n",
       "      <td>Graduate</td>\n",
       "      <td>Yes</td>\n",
       "      <td>8.006368</td>\n",
       "      <td>0.000000</td>\n",
       "      <td>66.000000</td>\n",
       "      <td>360.0</td>\n",
       "      <td>1.0</td>\n",
       "      <td>Urban</td>\n",
       "      <td>Y</td>\n",
       "    </tr>\n",
       "    <tr>\n",
       "      <th>3</th>\n",
       "      <td>LP001006</td>\n",
       "      <td>Male</td>\n",
       "      <td>Yes</td>\n",
       "      <td>0</td>\n",
       "      <td>Not Graduate</td>\n",
       "      <td>No</td>\n",
       "      <td>7.856707</td>\n",
       "      <td>7.765993</td>\n",
       "      <td>120.000000</td>\n",
       "      <td>360.0</td>\n",
       "      <td>1.0</td>\n",
       "      <td>Urban</td>\n",
       "      <td>Y</td>\n",
       "    </tr>\n",
       "    <tr>\n",
       "      <th>4</th>\n",
       "      <td>LP001008</td>\n",
       "      <td>Male</td>\n",
       "      <td>No</td>\n",
       "      <td>0</td>\n",
       "      <td>Graduate</td>\n",
       "      <td>No</td>\n",
       "      <td>8.699515</td>\n",
       "      <td>0.000000</td>\n",
       "      <td>141.000000</td>\n",
       "      <td>360.0</td>\n",
       "      <td>1.0</td>\n",
       "      <td>Urban</td>\n",
       "      <td>Y</td>\n",
       "    </tr>\n",
       "  </tbody>\n",
       "</table>\n",
       "</div>"
      ],
      "text/plain": [
       "    Loan_ID Gender Married Dependents     Education Self_Employed  \\\n",
       "0  LP001002   Male      No          0      Graduate            No   \n",
       "1  LP001003   Male     Yes          1      Graduate            No   \n",
       "2  LP001005   Male     Yes          0      Graduate           Yes   \n",
       "3  LP001006   Male     Yes          0  Not Graduate            No   \n",
       "4  LP001008   Male      No          0      Graduate            No   \n",
       "\n",
       "   ApplicantIncome  CoapplicantIncome  LoanAmount  Loan_Amount_Term  \\\n",
       "0         8.674026           0.000000  146.412162             360.0   \n",
       "1         8.430109           7.319202  128.000000             360.0   \n",
       "2         8.006368           0.000000   66.000000             360.0   \n",
       "3         7.856707           7.765993  120.000000             360.0   \n",
       "4         8.699515           0.000000  141.000000             360.0   \n",
       "\n",
       "   Credit_History Property_Area Loan_Status  \n",
       "0             1.0         Urban           Y  \n",
       "1             1.0         Rural           N  \n",
       "2             1.0         Urban           Y  \n",
       "3             1.0         Urban           Y  \n",
       "4             1.0         Urban           Y  "
      ]
     },
     "execution_count": 24,
     "metadata": {},
     "output_type": "execute_result"
    }
   ],
   "source": [
    "df.head()"
   ]
  },
  {
   "cell_type": "code",
   "execution_count": 25,
   "id": "white-blood",
   "metadata": {
    "execution": {
     "iopub.execute_input": "2021-04-05T20:22:41.555569Z",
     "iopub.status.busy": "2021-04-05T20:22:41.554750Z",
     "iopub.status.idle": "2021-04-05T20:22:41.720065Z",
     "shell.execute_reply": "2021-04-05T20:22:41.720572Z"
    },
    "papermill": {
     "duration": 0.255962,
     "end_time": "2021-04-05T20:22:41.720757",
     "exception": false,
     "start_time": "2021-04-05T20:22:41.464795",
     "status": "completed"
    },
    "tags": []
   },
   "outputs": [
    {
     "name": "stderr",
     "output_type": "stream",
     "text": [
      "/opt/conda/lib/python3.7/site-packages/seaborn/distributions.py:2557: FutureWarning: `distplot` is a deprecated function and will be removed in a future version. Please adapt your code to use either `displot` (a figure-level function with similar flexibility) or `histplot` (an axes-level function for histograms).\n",
      "  warnings.warn(msg, FutureWarning)\n"
     ]
    },
    {
     "data": {
      "text/plain": [
       "<AxesSubplot:xlabel='CoapplicantIncome', ylabel='Density'>"
      ]
     },
     "execution_count": 25,
     "metadata": {},
     "output_type": "execute_result"
    },
    {
     "data": {
      "image/png": "[encoded data removed]",
      "text/plain": [
       "<Figure size 432x288 with 1 Axes>"
      ]
     },
     "metadata": {
      "needs_background": "light"
     },
     "output_type": "display_data"
    }
   ],
   "source": [
    "sns.distplot(df['CoapplicantIncome'])"
   ]
  },
  {
   "cell_type": "code",
   "execution_count": 26,
   "id": "determined-april",
   "metadata": {
    "execution": {
     "iopub.execute_input": "2021-04-05T20:22:41.883252Z",
     "iopub.status.busy": "2021-04-05T20:22:41.882576Z",
     "iopub.status.idle": "2021-04-05T20:22:42.113088Z",
     "shell.execute_reply": "2021-04-05T20:22:42.113608Z"
    },
    "papermill": {
     "duration": 0.323829,
     "end_time": "2021-04-05T20:22:42.113790",
     "exception": false,
     "start_time": "2021-04-05T20:22:41.789961",
     "status": "completed"
    },
    "tags": []
   },
   "outputs": [
    {
     "name": "stderr",
     "output_type": "stream",
     "text": [
      "/opt/conda/lib/python3.7/site-packages/seaborn/distributions.py:2557: FutureWarning: `distplot` is a deprecated function and will be removed in a future version. Please adapt your code to use either `displot` (a figure-level function with similar flexibility) or `histplot` (an axes-level function for histograms).\n",
      "  warnings.warn(msg, FutureWarning)\n"
     ]
    },
    {
     "data": {
      "text/plain": [
       "<AxesSubplot:xlabel='LoanAmount', ylabel='Density'>"
      ]
     },
     "execution_count": 26,
     "metadata": {},
     "output_type": "execute_result"
    },
    {
     "data": {
      "image/png": "[encoded data removed]",
      "text/plain": [
       "<Figure size 432x288 with 1 Axes>"
      ]
     },
     "metadata": {
      "needs_background": "light"
     },
     "output_type": "display_data"
    }
   ],
   "source": [
    "sns.distplot(df['LoanAmount'])"
   ]
  },
  {
   "cell_type": "code",
   "execution_count": 27,
   "id": "intellectual-steel",
   "metadata": {
    "execution": {
     "iopub.execute_input": "2021-04-05T20:22:42.261863Z",
     "iopub.status.busy": "2021-04-05T20:22:42.261129Z",
     "iopub.status.idle": "2021-04-05T20:22:42.264721Z",
     "shell.execute_reply": "2021-04-05T20:22:42.264145Z"
    },
    "papermill": {
     "duration": 0.080137,
     "end_time": "2021-04-05T20:22:42.264870",
     "exception": false,
     "start_time": "2021-04-05T20:22:42.184733",
     "status": "completed"
    },
    "tags": []
   },
   "outputs": [],
   "source": [
    "df['LoanAmount'] = np.log(df['LoanAmount'])"
   ]
  },
  {
   "cell_type": "code",
   "execution_count": 28,
   "id": "occupied-paris",
   "metadata": {
    "execution": {
     "iopub.execute_input": "2021-04-05T20:22:42.584729Z",
     "iopub.status.busy": "2021-04-05T20:22:42.565566Z",
     "iopub.status.idle": "2021-04-05T20:22:42.796896Z",
     "shell.execute_reply": "2021-04-05T20:22:42.796202Z"
    },
    "papermill": {
     "duration": 0.461825,
     "end_time": "2021-04-05T20:22:42.797050",
     "exception": false,
     "start_time": "2021-04-05T20:22:42.335225",
     "status": "completed"
    },
    "tags": []
   },
   "outputs": [
    {
     "name": "stderr",
     "output_type": "stream",
     "text": [
      "/opt/conda/lib/python3.7/site-packages/seaborn/distributions.py:2557: FutureWarning: `distplot` is a deprecated function and will be removed in a future version. Please adapt your code to use either `displot` (a figure-level function with similar flexibility) or `histplot` (an axes-level function for histograms).\n",
      "  warnings.warn(msg, FutureWarning)\n"
     ]
    },
    {
     "data": {
      "text/plain": [
       "<AxesSubplot:xlabel='LoanAmount', ylabel='Density'>"
      ]
     },
     "execution_count": 28,
     "metadata": {},
     "output_type": "execute_result"
    },
    {
     "data": {
      "image/png": "[encoded data removed]",
      "text/plain": [
       "<Figure size 432x288 with 1 Axes>"
      ]
     },
     "metadata": {
      "needs_background": "light"
     },
     "output_type": "display_data"
    }
   ],
   "source": [
    "sns.distplot(df['LoanAmount'])"
   ]
  },
  {
   "cell_type": "code",
   "execution_count": 29,
   "id": "hispanic-awareness",
   "metadata": {
    "execution": {
     "iopub.execute_input": "2021-04-05T20:22:42.973800Z",
     "iopub.status.busy": "2021-04-05T20:22:42.967673Z",
     "iopub.status.idle": "2021-04-05T20:22:43.173064Z",
     "shell.execute_reply": "2021-04-05T20:22:43.172171Z"
    },
    "papermill": {
     "duration": 0.303335,
     "end_time": "2021-04-05T20:22:43.173207",
     "exception": false,
     "start_time": "2021-04-05T20:22:42.869872",
     "status": "completed"
    },
    "tags": []
   },
   "outputs": [
    {
     "name": "stderr",
     "output_type": "stream",
     "text": [
      "/opt/conda/lib/python3.7/site-packages/seaborn/distributions.py:2557: FutureWarning: `distplot` is a deprecated function and will be removed in a future version. Please adapt your code to use either `displot` (a figure-level function with similar flexibility) or `histplot` (an axes-level function for histograms).\n",
      "  warnings.warn(msg, FutureWarning)\n"
     ]
    },
    {
     "data": {
      "text/plain": [
       "<AxesSubplot:xlabel='Loan_Amount_Term', ylabel='Density'>"
      ]
     },
     "execution_count": 29,
     "metadata": {},
     "output_type": "execute_result"
    },
    {
     "data": {
      "image/png": "[encoded data removed]",
      "text/plain": [
       "<Figure size 432x288 with 1 Axes>"
      ]
     },
     "metadata": {
      "needs_background": "light"
     },
     "output_type": "display_data"
    }
   ],
   "source": [
    "sns.distplot(df['Loan_Amount_Term'])"
   ]
  },
  {
   "cell_type": "code",
   "execution_count": 30,
   "id": "acknowledged-pitch",
   "metadata": {
    "execution": {
     "iopub.execute_input": "2021-04-05T20:22:43.329090Z",
     "iopub.status.busy": "2021-04-05T20:22:43.328382Z",
     "iopub.status.idle": "2021-04-05T20:22:43.332373Z",
     "shell.execute_reply": "2021-04-05T20:22:43.331815Z"
    },
    "papermill": {
     "duration": 0.084249,
     "end_time": "2021-04-05T20:22:43.332526",
     "exception": false,
     "start_time": "2021-04-05T20:22:43.248277",
     "status": "completed"
    },
    "tags": []
   },
   "outputs": [],
   "source": [
    "df['Loan_Amount_Term'] = np.log(df['Loan_Amount_Term'])"
   ]
  },
  {
   "cell_type": "code",
   "execution_count": 31,
   "id": "acceptable-subscriber",
   "metadata": {
    "execution": {
     "iopub.execute_input": "2021-04-05T20:22:43.511230Z",
     "iopub.status.busy": "2021-04-05T20:22:43.510237Z",
     "iopub.status.idle": "2021-04-05T20:22:43.682641Z",
     "shell.execute_reply": "2021-04-05T20:22:43.683153Z"
    },
    "papermill": {
     "duration": 0.276414,
     "end_time": "2021-04-05T20:22:43.683365",
     "exception": false,
     "start_time": "2021-04-05T20:22:43.406951",
     "status": "completed"
    },
    "tags": []
   },
   "outputs": [
    {
     "name": "stderr",
     "output_type": "stream",
     "text": [
      "/opt/conda/lib/python3.7/site-packages/seaborn/distributions.py:2557: FutureWarning: `distplot` is a deprecated function and will be removed in a future version. Please adapt your code to use either `displot` (a figure-level function with similar flexibility) or `histplot` (an axes-level function for histograms).\n",
      "  warnings.warn(msg, FutureWarning)\n"
     ]
    },
    {
     "data": {
      "text/plain": [
       "<AxesSubplot:xlabel='Loan_Amount_Term', ylabel='Density'>"
      ]
     },
     "execution_count": 31,
     "metadata": {},
     "output_type": "execute_result"
    },
    {
     "data": {
      "image/png": "[encoded data removed]",
      "text/plain": [
       "<Figure size 432x288 with 1 Axes>"
      ]
     },
     "metadata": {
      "needs_background": "light"
     },
     "output_type": "display_data"
    }
   ],
   "source": [
    "sns.distplot(df['Loan_Amount_Term'])"
   ]
  },
  {
   "cell_type": "code",
   "execution_count": 32,
   "id": "fancy-bathroom",
   "metadata": {
    "execution": {
     "iopub.execute_input": "2021-04-05T20:22:43.869177Z",
     "iopub.status.busy": "2021-04-05T20:22:43.868465Z",
     "iopub.status.idle": "2021-04-05T20:22:44.063485Z",
     "shell.execute_reply": "2021-04-05T20:22:44.064044Z"
    },
    "papermill": {
     "duration": 0.303074,
     "end_time": "2021-04-05T20:22:44.064249",
     "exception": false,
     "start_time": "2021-04-05T20:22:43.761175",
     "status": "completed"
    },
    "tags": []
   },
   "outputs": [
    {
     "name": "stderr",
     "output_type": "stream",
     "text": [
      "/opt/conda/lib/python3.7/site-packages/seaborn/distributions.py:2557: FutureWarning: `distplot` is a deprecated function and will be removed in a future version. Please adapt your code to use either `displot` (a figure-level function with similar flexibility) or `histplot` (an axes-level function for histograms).\n",
      "  warnings.warn(msg, FutureWarning)\n"
     ]
    },
    {
     "data": {
      "text/plain": [
       "<AxesSubplot:xlabel='Credit_History', ylabel='Density'>"
      ]
     },
     "execution_count": 32,
     "metadata": {},
     "output_type": "execute_result"
    },
    {
     "data": {
      "image/png": "[encoded data removed]",
      "text/plain": [
       "<Figure size 432x288 with 1 Axes>"
      ]
     },
     "metadata": {
      "needs_background": "light"
     },
     "output_type": "display_data"
    }
   ],
   "source": [
    "sns.distplot(df['Credit_History'])"
   ]
  },
  {
   "cell_type": "markdown",
   "id": "powerful-concentrate",
   "metadata": {
    "papermill": {
     "duration": 0.078443,
     "end_time": "2021-04-05T20:22:44.220427",
     "exception": false,
     "start_time": "2021-04-05T20:22:44.141984",
     "status": "completed"
    },
    "tags": []
   },
   "source": [
    "## CREATING NEW ATTRIBUTES:"
   ]
  },
  {
   "cell_type": "code",
   "execution_count": 33,
   "id": "assumed-electronics",
   "metadata": {
    "execution": {
     "iopub.execute_input": "2021-04-05T20:22:44.383578Z",
     "iopub.status.busy": "2021-04-05T20:22:44.382890Z",
     "iopub.status.idle": "2021-04-05T20:22:44.386314Z",
     "shell.execute_reply": "2021-04-05T20:22:44.385588Z"
    },
    "papermill": {
     "duration": 0.088105,
     "end_time": "2021-04-05T20:22:44.386478",
     "exception": false,
     "start_time": "2021-04-05T20:22:44.298373",
     "status": "completed"
    },
    "tags": []
   },
   "outputs": [],
   "source": [
    "df['Total_Income'] = df['ApplicantIncome'] + df['CoapplicantIncome']"
   ]
  },
  {
   "cell_type": "code",
   "execution_count": 34,
   "id": "unable-feeding",
   "metadata": {
    "execution": {
     "iopub.execute_input": "2021-04-05T20:22:44.552025Z",
     "iopub.status.busy": "2021-04-05T20:22:44.551005Z",
     "iopub.status.idle": "2021-04-05T20:22:44.569041Z",
     "shell.execute_reply": "2021-04-05T20:22:44.569719Z"
    },
    "papermill": {
     "duration": 0.104719,
     "end_time": "2021-04-05T20:22:44.569915",
     "exception": false,
     "start_time": "2021-04-05T20:22:44.465196",
     "status": "completed"
    },
    "tags": []
   },
   "outputs": [
    {
     "data": {
      "text/html": [
       "<div>\n",
       "<style scoped>\n",
       "    .dataframe tbody tr th:only-of-type {\n",
       "        vertical-align: middle;\n",
       "    }\n",
       "\n",
       "    .dataframe tbody tr th {\n",
       "        vertical-align: top;\n",
       "    }\n",
       "\n",
       "    .dataframe thead th {\n",
       "        text-align: right;\n",
       "    }\n",
       "</style>\n",
       "<table border=\"1\" class=\"dataframe\">\n",
       "  <thead>\n",
       "    <tr style=\"text-align: right;\">\n",
       "      <th></th>\n",
       "      <th>Loan_ID</th>\n",
       "      <th>Gender</th>\n",
       "      <th>Married</th>\n",
       "      <th>Dependents</th>\n",
       "      <th>Education</th>\n",
       "      <th>Self_Employed</th>\n",
       "      <th>ApplicantIncome</th>\n",
       "      <th>CoapplicantIncome</th>\n",
       "      <th>LoanAmount</th>\n",
       "      <th>Loan_Amount_Term</th>\n",
       "      <th>Credit_History</th>\n",
       "      <th>Property_Area</th>\n",
       "      <th>Loan_Status</th>\n",
       "      <th>Total_Income</th>\n",
       "    </tr>\n",
       "  </thead>\n",
       "  <tbody>\n",
       "    <tr>\n",
       "      <th>0</th>\n",
       "      <td>LP001002</td>\n",
       "      <td>Male</td>\n",
       "      <td>No</td>\n",
       "      <td>0</td>\n",
       "      <td>Graduate</td>\n",
       "      <td>No</td>\n",
       "      <td>8.674026</td>\n",
       "      <td>0.000000</td>\n",
       "      <td>4.986426</td>\n",
       "      <td>5.886104</td>\n",
       "      <td>1.0</td>\n",
       "      <td>Urban</td>\n",
       "      <td>Y</td>\n",
       "      <td>8.674026</td>\n",
       "    </tr>\n",
       "    <tr>\n",
       "      <th>1</th>\n",
       "      <td>LP001003</td>\n",
       "      <td>Male</td>\n",
       "      <td>Yes</td>\n",
       "      <td>1</td>\n",
       "      <td>Graduate</td>\n",
       "      <td>No</td>\n",
       "      <td>8.430109</td>\n",
       "      <td>7.319202</td>\n",
       "      <td>4.852030</td>\n",
       "      <td>5.886104</td>\n",
       "      <td>1.0</td>\n",
       "      <td>Rural</td>\n",
       "      <td>N</td>\n",
       "      <td>15.749312</td>\n",
       "    </tr>\n",
       "    <tr>\n",
       "      <th>2</th>\n",
       "      <td>LP001005</td>\n",
       "      <td>Male</td>\n",
       "      <td>Yes</td>\n",
       "      <td>0</td>\n",
       "      <td>Graduate</td>\n",
       "      <td>Yes</td>\n",
       "      <td>8.006368</td>\n",
       "      <td>0.000000</td>\n",
       "      <td>4.189655</td>\n",
       "      <td>5.886104</td>\n",
       "      <td>1.0</td>\n",
       "      <td>Urban</td>\n",
       "      <td>Y</td>\n",
       "      <td>8.006368</td>\n",
       "    </tr>\n",
       "    <tr>\n",
       "      <th>3</th>\n",
       "      <td>LP001006</td>\n",
       "      <td>Male</td>\n",
       "      <td>Yes</td>\n",
       "      <td>0</td>\n",
       "      <td>Not Graduate</td>\n",
       "      <td>No</td>\n",
       "      <td>7.856707</td>\n",
       "      <td>7.765993</td>\n",
       "      <td>4.787492</td>\n",
       "      <td>5.886104</td>\n",
       "      <td>1.0</td>\n",
       "      <td>Urban</td>\n",
       "      <td>Y</td>\n",
       "      <td>15.622700</td>\n",
       "    </tr>\n",
       "    <tr>\n",
       "      <th>4</th>\n",
       "      <td>LP001008</td>\n",
       "      <td>Male</td>\n",
       "      <td>No</td>\n",
       "      <td>0</td>\n",
       "      <td>Graduate</td>\n",
       "      <td>No</td>\n",
       "      <td>8.699515</td>\n",
       "      <td>0.000000</td>\n",
       "      <td>4.948760</td>\n",
       "      <td>5.886104</td>\n",
       "      <td>1.0</td>\n",
       "      <td>Urban</td>\n",
       "      <td>Y</td>\n",
       "      <td>8.699515</td>\n",
       "    </tr>\n",
       "  </tbody>\n",
       "</table>\n",
       "</div>"
      ],
      "text/plain": [
       "    Loan_ID Gender Married Dependents     Education Self_Employed  \\\n",
       "0  LP001002   Male      No          0      Graduate            No   \n",
       "1  LP001003   Male     Yes          1      Graduate            No   \n",
       "2  LP001005   Male     Yes          0      Graduate           Yes   \n",
       "3  LP001006   Male     Yes          0  Not Graduate            No   \n",
       "4  LP001008   Male      No          0      Graduate            No   \n",
       "\n",
       "   ApplicantIncome  CoapplicantIncome  LoanAmount  Loan_Amount_Term  \\\n",
       "0         8.674026           0.000000    4.986426          5.886104   \n",
       "1         8.430109           7.319202    4.852030          5.886104   \n",
       "2         8.006368           0.000000    4.189655          5.886104   \n",
       "3         7.856707           7.765993    4.787492          5.886104   \n",
       "4         8.699515           0.000000    4.948760          5.886104   \n",
       "\n",
       "   Credit_History Property_Area Loan_Status  Total_Income  \n",
       "0             1.0         Urban           Y      8.674026  \n",
       "1             1.0         Rural           N     15.749312  \n",
       "2             1.0         Urban           Y      8.006368  \n",
       "3             1.0         Urban           Y     15.622700  \n",
       "4             1.0         Urban           Y      8.699515  "
      ]
     },
     "execution_count": 34,
     "metadata": {},
     "output_type": "execute_result"
    }
   ],
   "source": [
    "df.head()"
   ]
  },
  {
   "cell_type": "markdown",
   "id": "challenging-sacramento",
   "metadata": {
    "papermill": {
     "duration": 0.080039,
     "end_time": "2021-04-05T20:22:44.734974",
     "exception": false,
     "start_time": "2021-04-05T20:22:44.654935",
     "status": "completed"
    },
    "tags": []
   },
   "source": [
    "## LOG TRANSFORMATION:"
   ]
  },
  {
   "cell_type": "code",
   "execution_count": 35,
   "id": "missing-manner",
   "metadata": {
    "execution": {
     "iopub.execute_input": "2021-04-05T20:22:44.898367Z",
     "iopub.status.busy": "2021-04-05T20:22:44.897350Z",
     "iopub.status.idle": "2021-04-05T20:22:45.141951Z",
     "shell.execute_reply": "2021-04-05T20:22:45.142438Z"
    },
    "papermill": {
     "duration": 0.32843,
     "end_time": "2021-04-05T20:22:45.142672",
     "exception": false,
     "start_time": "2021-04-05T20:22:44.814242",
     "status": "completed"
    },
    "tags": []
   },
   "outputs": [
    {
     "name": "stderr",
     "output_type": "stream",
     "text": [
      "/opt/conda/lib/python3.7/site-packages/seaborn/distributions.py:2557: FutureWarning: `distplot` is a deprecated function and will be removed in a future version. Please adapt your code to use either `displot` (a figure-level function with similar flexibility) or `histplot` (an axes-level function for histograms).\n",
      "  warnings.warn(msg, FutureWarning)\n"
     ]
    },
    {
     "data": {
      "text/plain": [
       "<AxesSubplot:xlabel='ApplicantIncomeLog', ylabel='Density'>"
      ]
     },
     "execution_count": 35,
     "metadata": {},
     "output_type": "execute_result"
    },
    {
     "data": {
      "image/png": "[encoded data removed]",
      "text/plain": [
       "<Figure size 432x288 with 1 Axes>"
      ]
     },
     "metadata": {
      "needs_background": "light"
     },
     "output_type": "display_data"
    }
   ],
   "source": [
    "df['ApplicantIncomeLog'] = np.log(df['ApplicantIncome'])\n",
    "sns.distplot(df['ApplicantIncomeLog'])"
   ]
  },
  {
   "cell_type": "code",
   "execution_count": 36,
   "id": "shaped-terrorist",
   "metadata": {
    "execution": {
     "iopub.execute_input": "2021-04-05T20:22:45.306605Z",
     "iopub.status.busy": "2021-04-05T20:22:45.305951Z",
     "iopub.status.idle": "2021-04-05T20:22:45.474586Z",
     "shell.execute_reply": "2021-04-05T20:22:45.473859Z"
    },
    "papermill": {
     "duration": 0.251862,
     "end_time": "2021-04-05T20:22:45.474727",
     "exception": false,
     "start_time": "2021-04-05T20:22:45.222865",
     "status": "completed"
    },
    "tags": []
   },
   "outputs": [
    {
     "name": "stderr",
     "output_type": "stream",
     "text": [
      "/opt/conda/lib/python3.7/site-packages/seaborn/distributions.py:2557: FutureWarning: `distplot` is a deprecated function and will be removed in a future version. Please adapt your code to use either `displot` (a figure-level function with similar flexibility) or `histplot` (an axes-level function for histograms).\n",
      "  warnings.warn(msg, FutureWarning)\n"
     ]
    },
    {
     "data": {
      "text/plain": [
       "<AxesSubplot:xlabel='CoapplicantIncomeLog', ylabel='Density'>"
      ]
     },
     "execution_count": 36,
     "metadata": {},
     "output_type": "execute_result"
    },
    {
     "data": {
      "image/png": "[encoded data removed]",
      "text/plain": [
       "<Figure size 432x288 with 1 Axes>"
      ]
     },
     "metadata": {
      "needs_background": "light"
     },
     "output_type": "display_data"
    }
   ],
   "source": [
    "df['CoapplicantIncomeLog'] = np.log(df['CoapplicantIncome']+1)\n",
    "sns.distplot(df['CoapplicantIncomeLog'])"
   ]
  },
  {
   "cell_type": "code",
   "execution_count": 37,
   "id": "canadian-trade",
   "metadata": {
    "execution": {
     "iopub.execute_input": "2021-04-05T20:22:45.672578Z",
     "iopub.status.busy": "2021-04-05T20:22:45.671908Z",
     "iopub.status.idle": "2021-04-05T20:22:45.914545Z",
     "shell.execute_reply": "2021-04-05T20:22:45.913982Z"
    },
    "papermill": {
     "duration": 0.358522,
     "end_time": "2021-04-05T20:22:45.914682",
     "exception": false,
     "start_time": "2021-04-05T20:22:45.556160",
     "status": "completed"
    },
    "tags": []
   },
   "outputs": [
    {
     "name": "stderr",
     "output_type": "stream",
     "text": [
      "/opt/conda/lib/python3.7/site-packages/seaborn/distributions.py:2557: FutureWarning: `distplot` is a deprecated function and will be removed in a future version. Please adapt your code to use either `displot` (a figure-level function with similar flexibility) or `histplot` (an axes-level function for histograms).\n",
      "  warnings.warn(msg, FutureWarning)\n"
     ]
    },
    {
     "data": {
      "text/plain": [
       "<AxesSubplot:xlabel='LoanAmountLog', ylabel='Density'>"
      ]
     },
     "execution_count": 37,
     "metadata": {},
     "output_type": "execute_result"
    },
    {
     "data": {
      "image/png": "[encoded data removed]",
      "text/plain": [
       "<Figure size 432x288 with 1 Axes>"
      ]
     },
     "metadata": {
      "needs_background": "light"
     },
     "output_type": "display_data"
    }
   ],
   "source": [
    "df['LoanAmountLog'] = np.log(df['LoanAmount'])\n",
    "sns.distplot(df['LoanAmountLog'])"
   ]
  },
  {
   "cell_type": "code",
   "execution_count": 38,
   "id": "quantitative-bangladesh",
   "metadata": {
    "execution": {
     "iopub.execute_input": "2021-04-05T20:22:46.108033Z",
     "iopub.status.busy": "2021-04-05T20:22:46.106333Z",
     "iopub.status.idle": "2021-04-05T20:22:46.287882Z",
     "shell.execute_reply": "2021-04-05T20:22:46.287318Z"
    },
    "papermill": {
     "duration": 0.2903,
     "end_time": "2021-04-05T20:22:46.288026",
     "exception": false,
     "start_time": "2021-04-05T20:22:45.997726",
     "status": "completed"
    },
    "tags": []
   },
   "outputs": [
    {
     "name": "stderr",
     "output_type": "stream",
     "text": [
      "/opt/conda/lib/python3.7/site-packages/seaborn/distributions.py:2557: FutureWarning: `distplot` is a deprecated function and will be removed in a future version. Please adapt your code to use either `displot` (a figure-level function with similar flexibility) or `histplot` (an axes-level function for histograms).\n",
      "  warnings.warn(msg, FutureWarning)\n"
     ]
    },
    {
     "data": {
      "text/plain": [
       "<AxesSubplot:xlabel='Loan_Amount_TermLog', ylabel='Density'>"
      ]
     },
     "execution_count": 38,
     "metadata": {},
     "output_type": "execute_result"
    },
    {
     "data": {
      "image/png": "[encoded data removed]",
      "text/plain": [
       "<Figure size 432x288 with 1 Axes>"
      ]
     },
     "metadata": {
      "needs_background": "light"
     },
     "output_type": "display_data"
    }
   ],
   "source": [
    "df['Loan_Amount_TermLog'] = np.log(df['Loan_Amount_Term'])\n",
    "sns.distplot(df['Loan_Amount_TermLog'])"
   ]
  },
  {
   "cell_type": "code",
   "execution_count": 39,
   "id": "connected-retrieval",
   "metadata": {
    "execution": {
     "iopub.execute_input": "2021-04-05T20:22:46.480205Z",
     "iopub.status.busy": "2021-04-05T20:22:46.463133Z",
     "iopub.status.idle": "2021-04-05T20:22:46.664096Z",
     "shell.execute_reply": "2021-04-05T20:22:46.663456Z"
    },
    "papermill": {
     "duration": 0.29112,
     "end_time": "2021-04-05T20:22:46.664259",
     "exception": false,
     "start_time": "2021-04-05T20:22:46.373139",
     "status": "completed"
    },
    "tags": []
   },
   "outputs": [
    {
     "name": "stderr",
     "output_type": "stream",
     "text": [
      "/opt/conda/lib/python3.7/site-packages/seaborn/distributions.py:2557: FutureWarning: `distplot` is a deprecated function and will be removed in a future version. Please adapt your code to use either `displot` (a figure-level function with similar flexibility) or `histplot` (an axes-level function for histograms).\n",
      "  warnings.warn(msg, FutureWarning)\n"
     ]
    },
    {
     "data": {
      "text/plain": [
       "<AxesSubplot:xlabel='Total_IncomeLog', ylabel='Density'>"
      ]
     },
     "execution_count": 39,
     "metadata": {},
     "output_type": "execute_result"
    },
    {
     "data": {
      "image/png": "[encoded data removed]",
      "text/plain": [
       "<Figure size 432x288 with 1 Axes>"
      ]
     },
     "metadata": {
      "needs_background": "light"
     },
     "output_type": "display_data"
    }
   ],
   "source": [
    "df['Total_IncomeLog'] = np.log(df['Total_Income'])\n",
    "sns.distplot(df['Total_IncomeLog'])"
   ]
  },
  {
   "cell_type": "markdown",
   "id": "valuable-andorra",
   "metadata": {
    "papermill": {
     "duration": 0.086524,
     "end_time": "2021-04-05T20:22:46.838771",
     "exception": false,
     "start_time": "2021-04-05T20:22:46.752247",
     "status": "completed"
    },
    "tags": []
   },
   "source": [
    "## CORRELATION MATRIX:"
   ]
  },
  {
   "cell_type": "code",
   "execution_count": 40,
   "id": "inside-penny",
   "metadata": {
    "execution": {
     "iopub.execute_input": "2021-04-05T20:22:47.023175Z",
     "iopub.status.busy": "2021-04-05T20:22:47.022471Z",
     "iopub.status.idle": "2021-04-05T20:22:47.025962Z",
     "shell.execute_reply": "2021-04-05T20:22:47.025393Z"
    },
    "papermill": {
     "duration": 0.100244,
     "end_time": "2021-04-05T20:22:47.026113",
     "exception": false,
     "start_time": "2021-04-05T20:22:46.925869",
     "status": "completed"
    },
    "tags": []
   },
   "outputs": [],
   "source": [
    "corr = df.corr()"
   ]
  },
  {
   "cell_type": "code",
   "execution_count": 41,
   "id": "material-share",
   "metadata": {
    "execution": {
     "iopub.execute_input": "2021-04-05T20:22:47.226379Z",
     "iopub.status.busy": "2021-04-05T20:22:47.225659Z",
     "iopub.status.idle": "2021-04-05T20:22:48.169245Z",
     "shell.execute_reply": "2021-04-05T20:22:48.169812Z"
    },
    "papermill": {
     "duration": 1.054736,
     "end_time": "2021-04-05T20:22:48.170035",
     "exception": false,
     "start_time": "2021-04-05T20:22:47.115299",
     "status": "completed"
    },
    "tags": []
   },
   "outputs": [
    {
     "data": {
      "text/plain": [
       "<AxesSubplot:>"
      ]
     },
     "execution_count": 41,
     "metadata": {},
     "output_type": "execute_result"
    },
    {
     "data": {
      "image/png": "[encoded data removed]",
      "text/plain": [
       "<Figure size 1080x720 with 2 Axes>"
      ]
     },
     "metadata": {
      "needs_background": "light"
     },
     "output_type": "display_data"
    }
   ],
   "source": [
    "plt.figure(figsize=(15,10))\n",
    "sns.heatmap(corr,annot=True,cmap=\"BuPu\")"
   ]
  },
  {
   "cell_type": "code",
   "execution_count": 42,
   "id": "radical-saver",
   "metadata": {
    "execution": {
     "iopub.execute_input": "2021-04-05T20:22:48.376476Z",
     "iopub.status.busy": "2021-04-05T20:22:48.375841Z",
     "iopub.status.idle": "2021-04-05T20:22:48.380676Z",
     "shell.execute_reply": "2021-04-05T20:22:48.380122Z"
    },
    "papermill": {
     "duration": 0.119644,
     "end_time": "2021-04-05T20:22:48.380819",
     "exception": false,
     "start_time": "2021-04-05T20:22:48.261175",
     "status": "completed"
    },
    "tags": []
   },
   "outputs": [
    {
     "data": {
      "text/html": [
       "<div>\n",
       "<style scoped>\n",
       "    .dataframe tbody tr th:only-of-type {\n",
       "        vertical-align: middle;\n",
       "    }\n",
       "\n",
       "    .dataframe tbody tr th {\n",
       "        vertical-align: top;\n",
       "    }\n",
       "\n",
       "    .dataframe thead th {\n",
       "        text-align: right;\n",
       "    }\n",
       "</style>\n",
       "<table border=\"1\" class=\"dataframe\">\n",
       "  <thead>\n",
       "    <tr style=\"text-align: right;\">\n",
       "      <th></th>\n",
       "      <th>Loan_ID</th>\n",
       "      <th>Gender</th>\n",
       "      <th>Married</th>\n",
       "      <th>Dependents</th>\n",
       "      <th>Education</th>\n",
       "      <th>Self_Employed</th>\n",
       "      <th>ApplicantIncome</th>\n",
       "      <th>CoapplicantIncome</th>\n",
       "      <th>LoanAmount</th>\n",
       "      <th>Loan_Amount_Term</th>\n",
       "      <th>Credit_History</th>\n",
       "      <th>Property_Area</th>\n",
       "      <th>Loan_Status</th>\n",
       "      <th>Total_Income</th>\n",
       "      <th>ApplicantIncomeLog</th>\n",
       "      <th>CoapplicantIncomeLog</th>\n",
       "      <th>LoanAmountLog</th>\n",
       "      <th>Loan_Amount_TermLog</th>\n",
       "      <th>Total_IncomeLog</th>\n",
       "    </tr>\n",
       "  </thead>\n",
       "  <tbody>\n",
       "    <tr>\n",
       "      <th>0</th>\n",
       "      <td>LP001002</td>\n",
       "      <td>Male</td>\n",
       "      <td>No</td>\n",
       "      <td>0</td>\n",
       "      <td>Graduate</td>\n",
       "      <td>No</td>\n",
       "      <td>8.674026</td>\n",
       "      <td>0.000000</td>\n",
       "      <td>4.986426</td>\n",
       "      <td>5.886104</td>\n",
       "      <td>1.0</td>\n",
       "      <td>Urban</td>\n",
       "      <td>Y</td>\n",
       "      <td>8.674026</td>\n",
       "      <td>2.160333</td>\n",
       "      <td>0.000000</td>\n",
       "      <td>1.606719</td>\n",
       "      <td>1.772594</td>\n",
       "      <td>2.160333</td>\n",
       "    </tr>\n",
       "    <tr>\n",
       "      <th>1</th>\n",
       "      <td>LP001003</td>\n",
       "      <td>Male</td>\n",
       "      <td>Yes</td>\n",
       "      <td>1</td>\n",
       "      <td>Graduate</td>\n",
       "      <td>No</td>\n",
       "      <td>8.430109</td>\n",
       "      <td>7.319202</td>\n",
       "      <td>4.852030</td>\n",
       "      <td>5.886104</td>\n",
       "      <td>1.0</td>\n",
       "      <td>Rural</td>\n",
       "      <td>N</td>\n",
       "      <td>15.749312</td>\n",
       "      <td>2.131810</td>\n",
       "      <td>2.118566</td>\n",
       "      <td>1.579397</td>\n",
       "      <td>1.772594</td>\n",
       "      <td>2.756797</td>\n",
       "    </tr>\n",
       "    <tr>\n",
       "      <th>2</th>\n",
       "      <td>LP001005</td>\n",
       "      <td>Male</td>\n",
       "      <td>Yes</td>\n",
       "      <td>0</td>\n",
       "      <td>Graduate</td>\n",
       "      <td>Yes</td>\n",
       "      <td>8.006368</td>\n",
       "      <td>0.000000</td>\n",
       "      <td>4.189655</td>\n",
       "      <td>5.886104</td>\n",
       "      <td>1.0</td>\n",
       "      <td>Urban</td>\n",
       "      <td>Y</td>\n",
       "      <td>8.006368</td>\n",
       "      <td>2.080237</td>\n",
       "      <td>0.000000</td>\n",
       "      <td>1.432618</td>\n",
       "      <td>1.772594</td>\n",
       "      <td>2.080237</td>\n",
       "    </tr>\n",
       "    <tr>\n",
       "      <th>3</th>\n",
       "      <td>LP001006</td>\n",
       "      <td>Male</td>\n",
       "      <td>Yes</td>\n",
       "      <td>0</td>\n",
       "      <td>Not Graduate</td>\n",
       "      <td>No</td>\n",
       "      <td>7.856707</td>\n",
       "      <td>7.765993</td>\n",
       "      <td>4.787492</td>\n",
       "      <td>5.886104</td>\n",
       "      <td>1.0</td>\n",
       "      <td>Urban</td>\n",
       "      <td>Y</td>\n",
       "      <td>15.622700</td>\n",
       "      <td>2.061368</td>\n",
       "      <td>2.170880</td>\n",
       "      <td>1.566007</td>\n",
       "      <td>1.772594</td>\n",
       "      <td>2.748725</td>\n",
       "    </tr>\n",
       "    <tr>\n",
       "      <th>4</th>\n",
       "      <td>LP001008</td>\n",
       "      <td>Male</td>\n",
       "      <td>No</td>\n",
       "      <td>0</td>\n",
       "      <td>Graduate</td>\n",
       "      <td>No</td>\n",
       "      <td>8.699515</td>\n",
       "      <td>0.000000</td>\n",
       "      <td>4.948760</td>\n",
       "      <td>5.886104</td>\n",
       "      <td>1.0</td>\n",
       "      <td>Urban</td>\n",
       "      <td>Y</td>\n",
       "      <td>8.699515</td>\n",
       "      <td>2.163267</td>\n",
       "      <td>0.000000</td>\n",
       "      <td>1.599137</td>\n",
       "      <td>1.772594</td>\n",
       "      <td>2.163267</td>\n",
       "    </tr>\n",
       "  </tbody>\n",
       "</table>\n",
       "</div>"
      ],
      "text/plain": [
       "    Loan_ID Gender Married Dependents     Education Self_Employed  \\\n",
       "0  LP001002   Male      No          0      Graduate            No   \n",
       "1  LP001003   Male     Yes          1      Graduate            No   \n",
       "2  LP001005   Male     Yes          0      Graduate           Yes   \n",
       "3  LP001006   Male     Yes          0  Not Graduate            No   \n",
       "4  LP001008   Male      No          0      Graduate            No   \n",
       "\n",
       "   ApplicantIncome  CoapplicantIncome  LoanAmount  Loan_Amount_Term  \\\n",
       "0         8.674026           0.000000    4.986426          5.886104   \n",
       "1         8.430109           7.319202    4.852030          5.886104   \n",
       "2         8.006368           0.000000    4.189655          5.886104   \n",
       "3         7.856707           7.765993    4.787492          5.886104   \n",
       "4         8.699515           0.000000    4.948760          5.886104   \n",
       "\n",
       "   Credit_History Property_Area Loan_Status  Total_Income  ApplicantIncomeLog  \\\n",
       "0             1.0         Urban           Y      8.674026            2.160333   \n",
       "1             1.0         Rural           N     15.749312            2.131810   \n",
       "2             1.0         Urban           Y      8.006368            2.080237   \n",
       "3             1.0         Urban           Y     15.622700            2.061368   \n",
       "4             1.0         Urban           Y      8.699515            2.163267   \n",
       "\n",
       "   CoapplicantIncomeLog  LoanAmountLog  Loan_Amount_TermLog  Total_IncomeLog  \n",
       "0              0.000000       1.606719             1.772594         2.160333  \n",
       "1              2.118566       1.579397             1.772594         2.756797  \n",
       "2              0.000000       1.432618             1.772594         2.080237  \n",
       "3              2.170880       1.566007             1.772594         2.748725  \n",
       "4              0.000000       1.599137             1.772594         2.163267  "
      ]
     },
     "execution_count": 42,
     "metadata": {},
     "output_type": "execute_result"
    }
   ],
   "source": [
    "df.head()"
   ]
  },
  {
   "cell_type": "code",
   "execution_count": 43,
   "id": "abroad-liechtenstein",
   "metadata": {
    "execution": {
     "iopub.execute_input": "2021-04-05T20:22:48.567276Z",
     "iopub.status.busy": "2021-04-05T20:22:48.566662Z",
     "iopub.status.idle": "2021-04-05T20:22:48.571651Z",
     "shell.execute_reply": "2021-04-05T20:22:48.572128Z"
    },
    "papermill": {
     "duration": 0.10155,
     "end_time": "2021-04-05T20:22:48.572299",
     "exception": false,
     "start_time": "2021-04-05T20:22:48.470749",
     "status": "completed"
    },
    "tags": []
   },
   "outputs": [],
   "source": [
    "## drop unnecessary columns\n",
    "cols = ['ApplicantIncome', 'CoapplicantIncome', 'LoanAmount' ,'Loan_Amount_Term','Total_Income','Loan_ID','CoapplicantIncomeLog']\n",
    "df = df.drop(columns = cols , axis = 1)"
   ]
  },
  {
   "cell_type": "code",
   "execution_count": 44,
   "id": "regular-finland",
   "metadata": {
    "execution": {
     "iopub.execute_input": "2021-04-05T20:22:48.757016Z",
     "iopub.status.busy": "2021-04-05T20:22:48.756034Z",
     "iopub.status.idle": "2021-04-05T20:22:48.775420Z",
     "shell.execute_reply": "2021-04-05T20:22:48.775902Z"
    },
    "papermill": {
     "duration": 0.113798,
     "end_time": "2021-04-05T20:22:48.776114",
     "exception": false,
     "start_time": "2021-04-05T20:22:48.662316",
     "status": "completed"
    },
    "tags": []
   },
   "outputs": [
    {
     "data": {
      "text/html": [
       "<div>\n",
       "<style scoped>\n",
       "    .dataframe tbody tr th:only-of-type {\n",
       "        vertical-align: middle;\n",
       "    }\n",
       "\n",
       "    .dataframe tbody tr th {\n",
       "        vertical-align: top;\n",
       "    }\n",
       "\n",
       "    .dataframe thead th {\n",
       "        text-align: right;\n",
       "    }\n",
       "</style>\n",
       "<table border=\"1\" class=\"dataframe\">\n",
       "  <thead>\n",
       "    <tr style=\"text-align: right;\">\n",
       "      <th></th>\n",
       "      <th>Gender</th>\n",
       "      <th>Married</th>\n",
       "      <th>Dependents</th>\n",
       "      <th>Education</th>\n",
       "      <th>Self_Employed</th>\n",
       "      <th>Credit_History</th>\n",
       "      <th>Property_Area</th>\n",
       "      <th>Loan_Status</th>\n",
       "      <th>ApplicantIncomeLog</th>\n",
       "      <th>LoanAmountLog</th>\n",
       "      <th>Loan_Amount_TermLog</th>\n",
       "      <th>Total_IncomeLog</th>\n",
       "    </tr>\n",
       "  </thead>\n",
       "  <tbody>\n",
       "    <tr>\n",
       "      <th>0</th>\n",
       "      <td>Male</td>\n",
       "      <td>No</td>\n",
       "      <td>0</td>\n",
       "      <td>Graduate</td>\n",
       "      <td>No</td>\n",
       "      <td>1.0</td>\n",
       "      <td>Urban</td>\n",
       "      <td>Y</td>\n",
       "      <td>2.160333</td>\n",
       "      <td>1.606719</td>\n",
       "      <td>1.772594</td>\n",
       "      <td>2.160333</td>\n",
       "    </tr>\n",
       "    <tr>\n",
       "      <th>1</th>\n",
       "      <td>Male</td>\n",
       "      <td>Yes</td>\n",
       "      <td>1</td>\n",
       "      <td>Graduate</td>\n",
       "      <td>No</td>\n",
       "      <td>1.0</td>\n",
       "      <td>Rural</td>\n",
       "      <td>N</td>\n",
       "      <td>2.131810</td>\n",
       "      <td>1.579397</td>\n",
       "      <td>1.772594</td>\n",
       "      <td>2.756797</td>\n",
       "    </tr>\n",
       "    <tr>\n",
       "      <th>2</th>\n",
       "      <td>Male</td>\n",
       "      <td>Yes</td>\n",
       "      <td>0</td>\n",
       "      <td>Graduate</td>\n",
       "      <td>Yes</td>\n",
       "      <td>1.0</td>\n",
       "      <td>Urban</td>\n",
       "      <td>Y</td>\n",
       "      <td>2.080237</td>\n",
       "      <td>1.432618</td>\n",
       "      <td>1.772594</td>\n",
       "      <td>2.080237</td>\n",
       "    </tr>\n",
       "    <tr>\n",
       "      <th>3</th>\n",
       "      <td>Male</td>\n",
       "      <td>Yes</td>\n",
       "      <td>0</td>\n",
       "      <td>Not Graduate</td>\n",
       "      <td>No</td>\n",
       "      <td>1.0</td>\n",
       "      <td>Urban</td>\n",
       "      <td>Y</td>\n",
       "      <td>2.061368</td>\n",
       "      <td>1.566007</td>\n",
       "      <td>1.772594</td>\n",
       "      <td>2.748725</td>\n",
       "    </tr>\n",
       "    <tr>\n",
       "      <th>4</th>\n",
       "      <td>Male</td>\n",
       "      <td>No</td>\n",
       "      <td>0</td>\n",
       "      <td>Graduate</td>\n",
       "      <td>No</td>\n",
       "      <td>1.0</td>\n",
       "      <td>Urban</td>\n",
       "      <td>Y</td>\n",
       "      <td>2.163267</td>\n",
       "      <td>1.599137</td>\n",
       "      <td>1.772594</td>\n",
       "      <td>2.163267</td>\n",
       "    </tr>\n",
       "  </tbody>\n",
       "</table>\n",
       "</div>"
      ],
      "text/plain": [
       "  Gender Married Dependents     Education Self_Employed  Credit_History  \\\n",
       "0   Male      No          0      Graduate            No             1.0   \n",
       "1   Male     Yes          1      Graduate            No             1.0   \n",
       "2   Male     Yes          0      Graduate           Yes             1.0   \n",
       "3   Male     Yes          0  Not Graduate            No             1.0   \n",
       "4   Male      No          0      Graduate            No             1.0   \n",
       "\n",
       "  Property_Area Loan_Status  ApplicantIncomeLog  LoanAmountLog  \\\n",
       "0         Urban           Y            2.160333       1.606719   \n",
       "1         Rural           N            2.131810       1.579397   \n",
       "2         Urban           Y            2.080237       1.432618   \n",
       "3         Urban           Y            2.061368       1.566007   \n",
       "4         Urban           Y            2.163267       1.599137   \n",
       "\n",
       "   Loan_Amount_TermLog  Total_IncomeLog  \n",
       "0             1.772594         2.160333  \n",
       "1             1.772594         2.756797  \n",
       "2             1.772594         2.080237  \n",
       "3             1.772594         2.748725  \n",
       "4             1.772594         2.163267  "
      ]
     },
     "execution_count": 44,
     "metadata": {},
     "output_type": "execute_result"
    }
   ],
   "source": [
    "df.head()"
   ]
  },
  {
   "cell_type": "markdown",
   "id": "annual-reviewer",
   "metadata": {
    "papermill": {
     "duration": 0.091655,
     "end_time": "2021-04-05T20:22:48.959570",
     "exception": false,
     "start_time": "2021-04-05T20:22:48.867915",
     "status": "completed"
    },
    "tags": []
   },
   "source": [
    "## LABEL ENCODING:"
   ]
  },
  {
   "cell_type": "code",
   "execution_count": 45,
   "id": "smaller-exercise",
   "metadata": {
    "execution": {
     "iopub.execute_input": "2021-04-05T20:22:49.153129Z",
     "iopub.status.busy": "2021-04-05T20:22:49.152156Z",
     "iopub.status.idle": "2021-04-05T20:22:49.524329Z",
     "shell.execute_reply": "2021-04-05T20:22:49.524932Z"
    },
    "papermill": {
     "duration": 0.471179,
     "end_time": "2021-04-05T20:22:49.525142",
     "exception": false,
     "start_time": "2021-04-05T20:22:49.053963",
     "status": "completed"
    },
    "tags": []
   },
   "outputs": [],
   "source": [
    "from sklearn.preprocessing import LabelEncoder"
   ]
  },
  {
   "cell_type": "code",
   "execution_count": 46,
   "id": "planned-fluid",
   "metadata": {
    "execution": {
     "iopub.execute_input": "2021-04-05T20:22:49.723380Z",
     "iopub.status.busy": "2021-04-05T20:22:49.722552Z",
     "iopub.status.idle": "2021-04-05T20:22:49.725998Z",
     "shell.execute_reply": "2021-04-05T20:22:49.725409Z"
    },
    "papermill": {
     "duration": 0.108413,
     "end_time": "2021-04-05T20:22:49.726154",
     "exception": false,
     "start_time": "2021-04-05T20:22:49.617741",
     "status": "completed"
    },
    "tags": []
   },
   "outputs": [],
   "source": [
    "cols = ['Gender','Married','Education','Self_Employed','Property_Area','Loan_Status','Dependents']\n",
    "le = LabelEncoder()\n",
    "for col in cols :\n",
    "    df[col] = le.fit_transform(df[col])"
   ]
  },
  {
   "cell_type": "code",
   "execution_count": 47,
   "id": "sporting-wealth",
   "metadata": {
    "execution": {
     "iopub.execute_input": "2021-04-05T20:22:49.929159Z",
     "iopub.status.busy": "2021-04-05T20:22:49.922986Z",
     "iopub.status.idle": "2021-04-05T20:22:49.934824Z",
     "shell.execute_reply": "2021-04-05T20:22:49.934142Z"
    },
    "papermill": {
     "duration": 0.115407,
     "end_time": "2021-04-05T20:22:49.934979",
     "exception": false,
     "start_time": "2021-04-05T20:22:49.819572",
     "status": "completed"
    },
    "tags": []
   },
   "outputs": [
    {
     "data": {
      "text/html": [
       "<div>\n",
       "<style scoped>\n",
       "    .dataframe tbody tr th:only-of-type {\n",
       "        vertical-align: middle;\n",
       "    }\n",
       "\n",
       "    .dataframe tbody tr th {\n",
       "        vertical-align: top;\n",
       "    }\n",
       "\n",
       "    .dataframe thead th {\n",
       "        text-align: right;\n",
       "    }\n",
       "</style>\n",
       "<table border=\"1\" class=\"dataframe\">\n",
       "  <thead>\n",
       "    <tr style=\"text-align: right;\">\n",
       "      <th></th>\n",
       "      <th>Gender</th>\n",
       "      <th>Married</th>\n",
       "      <th>Dependents</th>\n",
       "      <th>Education</th>\n",
       "      <th>Self_Employed</th>\n",
       "      <th>Credit_History</th>\n",
       "      <th>Property_Area</th>\n",
       "      <th>Loan_Status</th>\n",
       "      <th>ApplicantIncomeLog</th>\n",
       "      <th>LoanAmountLog</th>\n",
       "      <th>Loan_Amount_TermLog</th>\n",
       "      <th>Total_IncomeLog</th>\n",
       "    </tr>\n",
       "  </thead>\n",
       "  <tbody>\n",
       "    <tr>\n",
       "      <th>0</th>\n",
       "      <td>1</td>\n",
       "      <td>0</td>\n",
       "      <td>0</td>\n",
       "      <td>0</td>\n",
       "      <td>0</td>\n",
       "      <td>1.0</td>\n",
       "      <td>2</td>\n",
       "      <td>1</td>\n",
       "      <td>2.160333</td>\n",
       "      <td>1.606719</td>\n",
       "      <td>1.772594</td>\n",
       "      <td>2.160333</td>\n",
       "    </tr>\n",
       "    <tr>\n",
       "      <th>1</th>\n",
       "      <td>1</td>\n",
       "      <td>1</td>\n",
       "      <td>1</td>\n",
       "      <td>0</td>\n",
       "      <td>0</td>\n",
       "      <td>1.0</td>\n",
       "      <td>0</td>\n",
       "      <td>0</td>\n",
       "      <td>2.131810</td>\n",
       "      <td>1.579397</td>\n",
       "      <td>1.772594</td>\n",
       "      <td>2.756797</td>\n",
       "    </tr>\n",
       "    <tr>\n",
       "      <th>2</th>\n",
       "      <td>1</td>\n",
       "      <td>1</td>\n",
       "      <td>0</td>\n",
       "      <td>0</td>\n",
       "      <td>1</td>\n",
       "      <td>1.0</td>\n",
       "      <td>2</td>\n",
       "      <td>1</td>\n",
       "      <td>2.080237</td>\n",
       "      <td>1.432618</td>\n",
       "      <td>1.772594</td>\n",
       "      <td>2.080237</td>\n",
       "    </tr>\n",
       "    <tr>\n",
       "      <th>3</th>\n",
       "      <td>1</td>\n",
       "      <td>1</td>\n",
       "      <td>0</td>\n",
       "      <td>1</td>\n",
       "      <td>0</td>\n",
       "      <td>1.0</td>\n",
       "      <td>2</td>\n",
       "      <td>1</td>\n",
       "      <td>2.061368</td>\n",
       "      <td>1.566007</td>\n",
       "      <td>1.772594</td>\n",
       "      <td>2.748725</td>\n",
       "    </tr>\n",
       "    <tr>\n",
       "      <th>4</th>\n",
       "      <td>1</td>\n",
       "      <td>0</td>\n",
       "      <td>0</td>\n",
       "      <td>0</td>\n",
       "      <td>0</td>\n",
       "      <td>1.0</td>\n",
       "      <td>2</td>\n",
       "      <td>1</td>\n",
       "      <td>2.163267</td>\n",
       "      <td>1.599137</td>\n",
       "      <td>1.772594</td>\n",
       "      <td>2.163267</td>\n",
       "    </tr>\n",
       "  </tbody>\n",
       "</table>\n",
       "</div>"
      ],
      "text/plain": [
       "   Gender  Married  Dependents  Education  Self_Employed  Credit_History  \\\n",
       "0       1        0           0          0              0             1.0   \n",
       "1       1        1           1          0              0             1.0   \n",
       "2       1        1           0          0              1             1.0   \n",
       "3       1        1           0          1              0             1.0   \n",
       "4       1        0           0          0              0             1.0   \n",
       "\n",
       "   Property_Area  Loan_Status  ApplicantIncomeLog  LoanAmountLog  \\\n",
       "0              2            1            2.160333       1.606719   \n",
       "1              0            0            2.131810       1.579397   \n",
       "2              2            1            2.080237       1.432618   \n",
       "3              2            1            2.061368       1.566007   \n",
       "4              2            1            2.163267       1.599137   \n",
       "\n",
       "   Loan_Amount_TermLog  Total_IncomeLog  \n",
       "0             1.772594         2.160333  \n",
       "1             1.772594         2.756797  \n",
       "2             1.772594         2.080237  \n",
       "3             1.772594         2.748725  \n",
       "4             1.772594         2.163267  "
      ]
     },
     "execution_count": 47,
     "metadata": {},
     "output_type": "execute_result"
    }
   ],
   "source": [
    "df.head()"
   ]
  },
  {
   "cell_type": "markdown",
   "id": "permanent-death",
   "metadata": {
    "papermill": {
     "duration": 0.097349,
     "end_time": "2021-04-05T20:22:50.126784",
     "exception": false,
     "start_time": "2021-04-05T20:22:50.029435",
     "status": "completed"
    },
    "tags": []
   },
   "source": [
    "## TRAIN-TEST SPLIT:"
   ]
  },
  {
   "cell_type": "code",
   "execution_count": 48,
   "id": "compatible-badge",
   "metadata": {
    "execution": {
     "iopub.execute_input": "2021-04-05T20:22:50.323970Z",
     "iopub.status.busy": "2021-04-05T20:22:50.322962Z",
     "iopub.status.idle": "2021-04-05T20:22:50.327784Z",
     "shell.execute_reply": "2021-04-05T20:22:50.327117Z"
    },
    "papermill": {
     "duration": 0.106777,
     "end_time": "2021-04-05T20:22:50.327956",
     "exception": false,
     "start_time": "2021-04-05T20:22:50.221179",
     "status": "completed"
    },
    "tags": []
   },
   "outputs": [],
   "source": [
    "X = df.drop(columns = ['Loan_Status'],axis =1)"
   ]
  },
  {
   "cell_type": "code",
   "execution_count": 49,
   "id": "veterinary-symbol",
   "metadata": {
    "execution": {
     "iopub.execute_input": "2021-04-05T20:22:50.523803Z",
     "iopub.status.busy": "2021-04-05T20:22:50.523140Z",
     "iopub.status.idle": "2021-04-05T20:22:50.526809Z",
     "shell.execute_reply": "2021-04-05T20:22:50.526210Z"
    },
    "papermill": {
     "duration": 0.102443,
     "end_time": "2021-04-05T20:22:50.526966",
     "exception": false,
     "start_time": "2021-04-05T20:22:50.424523",
     "status": "completed"
    },
    "tags": []
   },
   "outputs": [],
   "source": [
    "y = df['Loan_Status']"
   ]
  },
  {
   "cell_type": "code",
   "execution_count": 50,
   "id": "extra-ceiling",
   "metadata": {
    "execution": {
     "iopub.execute_input": "2021-04-05T20:22:50.720242Z",
     "iopub.status.busy": "2021-04-05T20:22:50.719428Z",
     "iopub.status.idle": "2021-04-05T20:22:50.786370Z",
     "shell.execute_reply": "2021-04-05T20:22:50.786903Z"
    },
    "papermill": {
     "duration": 0.166239,
     "end_time": "2021-04-05T20:22:50.787115",
     "exception": false,
     "start_time": "2021-04-05T20:22:50.620876",
     "status": "completed"
    },
    "tags": []
   },
   "outputs": [],
   "source": [
    "from sklearn.model_selection import train_test_split"
   ]
  },
  {
   "cell_type": "code",
   "execution_count": 51,
   "id": "bibliographic-laptop",
   "metadata": {
    "execution": {
     "iopub.execute_input": "2021-04-05T20:22:50.981070Z",
     "iopub.status.busy": "2021-04-05T20:22:50.979986Z",
     "iopub.status.idle": "2021-04-05T20:22:50.987123Z",
     "shell.execute_reply": "2021-04-05T20:22:50.987643Z"
    },
    "papermill": {
     "duration": 0.105301,
     "end_time": "2021-04-05T20:22:50.987848",
     "exception": false,
     "start_time": "2021-04-05T20:22:50.882547",
     "status": "completed"
    },
    "tags": []
   },
   "outputs": [],
   "source": [
    "x_train,x_test,y_train,y_test = train_test_split(X,y,test_size=0.25,random_state=42)"
   ]
  },
  {
   "cell_type": "markdown",
   "id": "antique-finish",
   "metadata": {
    "papermill": {
     "duration": 0.094768,
     "end_time": "2021-04-05T20:22:51.177135",
     "exception": false,
     "start_time": "2021-04-05T20:22:51.082367",
     "status": "completed"
    },
    "tags": []
   },
   "source": [
    "## MODEL TRAINING:"
   ]
  },
  {
   "cell_type": "code",
   "execution_count": 52,
   "id": "funny-dubai",
   "metadata": {
    "execution": {
     "iopub.execute_input": "2021-04-05T20:22:51.371276Z",
     "iopub.status.busy": "2021-04-05T20:22:51.370268Z",
     "iopub.status.idle": "2021-04-05T20:22:51.376810Z",
     "shell.execute_reply": "2021-04-05T20:22:51.377272Z"
    },
    "papermill": {
     "duration": 0.106606,
     "end_time": "2021-04-05T20:22:51.377479",
     "exception": false,
     "start_time": "2021-04-05T20:22:51.270873",
     "status": "completed"
    },
    "tags": []
   },
   "outputs": [],
   "source": [
    "from sklearn.model_selection import cross_val_score\n",
    "def classify(model,x,y):\n",
    "    x_train,x_test,y_train,y_test=train_test_split(x,y,test_size=0.25,random_state=42)\n",
    "    model.fit(x_train,y_train)\n",
    "    print(\"Accuracy is \", model.score(x_test,y_test)*100)\n",
    "    score=cross_val_score(model,x,y,cv=5)\n",
    "    print(\"Cross validation is ,\" ,np.mean(score)*100)"
   ]
  },
  {
   "cell_type": "code",
   "execution_count": 53,
   "id": "applied-contents",
   "metadata": {
    "execution": {
     "iopub.execute_input": "2021-04-05T20:22:51.572834Z",
     "iopub.status.busy": "2021-04-05T20:22:51.571829Z",
     "iopub.status.idle": "2021-04-05T20:22:51.862362Z",
     "shell.execute_reply": "2021-04-05T20:22:51.861205Z"
    },
    "papermill": {
     "duration": 0.389601,
     "end_time": "2021-04-05T20:22:51.862581",
     "exception": false,
     "start_time": "2021-04-05T20:22:51.472980",
     "status": "completed"
    },
    "tags": []
   },
   "outputs": [
    {
     "name": "stdout",
     "output_type": "stream",
     "text": [
      "Accuracy is  77.27272727272727\n",
      "Cross validation is , 80.9462881514061\n"
     ]
    }
   ],
   "source": [
    "from sklearn.linear_model import LogisticRegression\n",
    "model = LogisticRegression()\n",
    "classify(model,X,y)"
   ]
  },
  {
   "cell_type": "code",
   "execution_count": 54,
   "id": "infrared-contract",
   "metadata": {
    "execution": {
     "iopub.execute_input": "2021-04-05T20:22:52.063101Z",
     "iopub.status.busy": "2021-04-05T20:22:52.062252Z",
     "iopub.status.idle": "2021-04-05T20:22:52.190048Z",
     "shell.execute_reply": "2021-04-05T20:22:52.188406Z"
    },
    "papermill": {
     "duration": 0.230638,
     "end_time": "2021-04-05T20:22:52.190261",
     "exception": false,
     "start_time": "2021-04-05T20:22:51.959623",
     "status": "completed"
    },
    "tags": []
   },
   "outputs": [],
   "source": [
    "from sklearn.tree import DecisionTreeClassifier"
   ]
  },
  {
   "cell_type": "code",
   "execution_count": 55,
   "id": "stainless-sterling",
   "metadata": {
    "execution": {
     "iopub.execute_input": "2021-04-05T20:22:52.387746Z",
     "iopub.status.busy": "2021-04-05T20:22:52.386866Z",
     "iopub.status.idle": "2021-04-05T20:22:52.389475Z",
     "shell.execute_reply": "2021-04-05T20:22:52.390040Z"
    },
    "papermill": {
     "duration": 0.103843,
     "end_time": "2021-04-05T20:22:52.390293",
     "exception": false,
     "start_time": "2021-04-05T20:22:52.286450",
     "status": "completed"
    },
    "tags": []
   },
   "outputs": [],
   "source": [
    "model = DecisionTreeClassifier()"
   ]
  },
  {
   "cell_type": "code",
   "execution_count": 56,
   "id": "quick-reality",
   "metadata": {
    "execution": {
     "iopub.execute_input": "2021-04-05T20:22:52.588807Z",
     "iopub.status.busy": "2021-04-05T20:22:52.584932Z",
     "iopub.status.idle": "2021-04-05T20:22:52.638610Z",
     "shell.execute_reply": "2021-04-05T20:22:52.637798Z"
    },
    "papermill": {
     "duration": 0.153658,
     "end_time": "2021-04-05T20:22:52.638829",
     "exception": false,
     "start_time": "2021-04-05T20:22:52.485171",
     "status": "completed"
    },
    "tags": []
   },
   "outputs": [
    {
     "name": "stdout",
     "output_type": "stream",
     "text": [
      "Accuracy is  66.23376623376623\n",
      "Cross validation is , 71.6620018659203\n"
     ]
    }
   ],
   "source": [
    "classify(model,X,y)"
   ]
  },
  {
   "cell_type": "code",
   "execution_count": 57,
   "id": "opposite-bibliography",
   "metadata": {
    "execution": {
     "iopub.execute_input": "2021-04-05T20:22:52.837369Z",
     "iopub.status.busy": "2021-04-05T20:22:52.836722Z",
     "iopub.status.idle": "2021-04-05T20:22:54.309460Z",
     "shell.execute_reply": "2021-04-05T20:22:54.308532Z"
    },
    "papermill": {
     "duration": 1.57387,
     "end_time": "2021-04-05T20:22:54.309673",
     "exception": false,
     "start_time": "2021-04-05T20:22:52.735803",
     "status": "completed"
    },
    "tags": []
   },
   "outputs": [
    {
     "name": "stdout",
     "output_type": "stream",
     "text": [
      "Accuracy is  76.62337662337663\n",
      "Cross validation is , 79.31627349060376\n"
     ]
    }
   ],
   "source": [
    "from sklearn.ensemble import RandomForestClassifier,ExtraTreesClassifier\n",
    "model = RandomForestClassifier()\n",
    "classify(model,X,y)"
   ]
  },
  {
   "cell_type": "code",
   "execution_count": 58,
   "id": "right-spine",
   "metadata": {
    "execution": {
     "iopub.execute_input": "2021-04-05T20:22:54.525269Z",
     "iopub.status.busy": "2021-04-05T20:22:54.515102Z",
     "iopub.status.idle": "2021-04-05T20:22:55.578338Z",
     "shell.execute_reply": "2021-04-05T20:22:55.578885Z"
    },
    "papermill": {
     "duration": 1.172344,
     "end_time": "2021-04-05T20:22:55.579080",
     "exception": false,
     "start_time": "2021-04-05T20:22:54.406736",
     "status": "completed"
    },
    "tags": []
   },
   "outputs": [
    {
     "name": "stdout",
     "output_type": "stream",
     "text": [
      "Accuracy is  73.37662337662337\n",
      "Cross validation is , 76.71064907370383\n"
     ]
    }
   ],
   "source": [
    "model = ExtraTreesClassifier()\n",
    "classify(model,X,y)"
   ]
  },
  {
   "cell_type": "markdown",
   "id": "crude-donor",
   "metadata": {
    "papermill": {
     "duration": 0.098297,
     "end_time": "2021-04-05T20:22:55.773762",
     "exception": false,
     "start_time": "2021-04-05T20:22:55.675465",
     "status": "completed"
    },
    "tags": []
   },
   "source": [
    "## HYPERPARAMETER TUNING:"
   ]
  },
  {
   "cell_type": "code",
   "execution_count": 59,
   "id": "several-exemption",
   "metadata": {
    "execution": {
     "iopub.execute_input": "2021-04-05T20:22:55.978235Z",
     "iopub.status.busy": "2021-04-05T20:22:55.977570Z",
     "iopub.status.idle": "2021-04-05T20:22:57.204495Z",
     "shell.execute_reply": "2021-04-05T20:22:57.203953Z"
    },
    "papermill": {
     "duration": 1.334265,
     "end_time": "2021-04-05T20:22:57.204656",
     "exception": false,
     "start_time": "2021-04-05T20:22:55.870391",
     "status": "completed"
    },
    "tags": []
   },
   "outputs": [
    {
     "name": "stdout",
     "output_type": "stream",
     "text": [
      "Accuracy is  75.97402597402598\n",
      "Cross validation is , 80.78235372517659\n"
     ]
    }
   ],
   "source": [
    "model = RandomForestClassifier(n_estimators=100,min_samples_split=25, max_depth=7,max_features=1)\n",
    "classify(model, X,y)"
   ]
  },
  {
   "cell_type": "code",
   "execution_count": 60,
   "id": "middle-piano",
   "metadata": {
    "execution": {
     "iopub.execute_input": "2021-04-05T20:22:57.421719Z",
     "iopub.status.busy": "2021-04-05T20:22:57.405568Z",
     "iopub.status.idle": "2021-04-05T20:22:57.631245Z",
     "shell.execute_reply": "2021-04-05T20:22:57.630549Z"
    },
    "papermill": {
     "duration": 0.330438,
     "end_time": "2021-04-05T20:22:57.631405",
     "exception": false,
     "start_time": "2021-04-05T20:22:57.300967",
     "status": "completed"
    },
    "tags": []
   },
   "outputs": [
    {
     "data": {
      "text/plain": [
       "RandomForestClassifier()"
      ]
     },
     "execution_count": 60,
     "metadata": {},
     "output_type": "execute_result"
    }
   ],
   "source": [
    "model = RandomForestClassifier()\n",
    "model.fit(x_train,y_train)"
   ]
  },
  {
   "cell_type": "code",
   "execution_count": 61,
   "id": "blind-pleasure",
   "metadata": {
    "execution": {
     "iopub.execute_input": "2021-04-05T20:22:57.841019Z",
     "iopub.status.busy": "2021-04-05T20:22:57.839877Z",
     "iopub.status.idle": "2021-04-05T20:22:57.859857Z",
     "shell.execute_reply": "2021-04-05T20:22:57.859195Z"
    },
    "papermill": {
     "duration": 0.12891,
     "end_time": "2021-04-05T20:22:57.860020",
     "exception": false,
     "start_time": "2021-04-05T20:22:57.731110",
     "status": "completed"
    },
    "tags": []
   },
   "outputs": [],
   "source": [
    "from sklearn.metrics import confusion_matrix\n",
    "y_pred=model.predict(x_test)\n",
    "cm = confusion_matrix(y_pred,y_test)"
   ]
  },
  {
   "cell_type": "code",
   "execution_count": 62,
   "id": "animated-youth",
   "metadata": {
    "execution": {
     "iopub.execute_input": "2021-04-05T20:22:58.067164Z",
     "iopub.status.busy": "2021-04-05T20:22:58.066268Z",
     "iopub.status.idle": "2021-04-05T20:22:58.070019Z",
     "shell.execute_reply": "2021-04-05T20:22:58.070639Z"
    },
    "papermill": {
     "duration": 0.10978,
     "end_time": "2021-04-05T20:22:58.070836",
     "exception": false,
     "start_time": "2021-04-05T20:22:57.961056",
     "status": "completed"
    },
    "tags": []
   },
   "outputs": [
    {
     "data": {
      "text/plain": [
       "array([[23,  6],\n",
       "       [31, 94]])"
      ]
     },
     "execution_count": 62,
     "metadata": {},
     "output_type": "execute_result"
    }
   ],
   "source": [
    "cm"
   ]
  },
  {
   "cell_type": "code",
   "execution_count": 63,
   "id": "accessory-sauce",
   "metadata": {
    "execution": {
     "iopub.execute_input": "2021-04-05T20:22:58.272835Z",
     "iopub.status.busy": "2021-04-05T20:22:58.271869Z",
     "iopub.status.idle": "2021-04-05T20:22:58.519218Z",
     "shell.execute_reply": "2021-04-05T20:22:58.519811Z"
    },
    "papermill": {
     "duration": 0.350006,
     "end_time": "2021-04-05T20:22:58.520002",
     "exception": false,
     "start_time": "2021-04-05T20:22:58.169996",
     "status": "completed"
    },
    "tags": []
   },
   "outputs": [
    {
     "data": {
      "text/plain": [
       "<AxesSubplot:>"
      ]
     },
     "execution_count": 63,
     "metadata": {},
     "output_type": "execute_result"
    },
    {
     "data": {
      "image/png": "[encoded data removed]",
      "text/plain": [
       "<Figure size 432x288 with 2 Axes>"
      ]
     },
     "metadata": {
      "needs_background": "light"
     },
     "output_type": "display_data"
    }
   ],
   "source": [
    "sns.heatmap(cm,annot=True)"
   ]
  },
  {
   "cell_type": "code",
   "execution_count": null,
   "id": "third-clinton",
   "metadata": {
    "papermill": {
     "duration": 0.1232,
     "end_time": "2021-04-05T20:22:58.756640",
     "exception": false,
     "start_time": "2021-04-05T20:22:58.633440",
     "status": "completed"
    },
    "tags": []
   },
   "outputs": [],
   "source": []
  }
 ],
 "metadata": {
  "kernelspec": {
   "display_name": "Python 3",
   "language": "python",
   "name": "python3"
  },
  "language_info": {
   "codemirror_mode": {
    "name": "ipython",
    "version": 3
   },
   "file_extension": ".py",
   "mimetype": "text/x-python",
   "name": "python",
   "nbconvert_exporter": "python",
   "pygments_lexer": "ipython3",
   "version": "3.7.9"
  },
  "papermill": {
   "default_parameters": {},
   "duration": 31.631973,
   "end_time": "2021-04-05T20:22:59.668983",
   "environment_variables": {},
   "exception": null,
   "input_path": "__notebook__.ipynb",
   "output_path": "__notebook__.ipynb",
   "parameters": {},
   "start_time": "2021-04-05T20:22:28.037010",
   "version": "2.3.2"
  }
 },
 "nbformat": 4,
 "nbformat_minor": 5
}
