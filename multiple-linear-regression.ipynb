{
 "cells": [
  {
   "cell_type": "code",
   "execution_count": 1,
   "metadata": {
    "_cell_guid": "b1076dfc-b9ad-4769-8c92-a6c4dae69d19",
    "_uuid": "8f2839f25d086af736a60e9eeb907d3b93b6e0e5",
    "execution": {
     "iopub.execute_input": "2021-03-27T08:55:51.078539Z",
     "iopub.status.busy": "2021-03-27T08:55:51.077744Z",
     "iopub.status.idle": "2021-03-27T08:55:51.091851Z",
     "shell.execute_reply": "2021-03-27T08:55:51.090915Z"
    },
    "papermill": {
     "duration": 0.035823,
     "end_time": "2021-03-27T08:55:51.092103",
     "exception": false,
     "start_time": "2021-03-27T08:55:51.056280",
     "status": "completed"
    },
    "tags": []
   },
   "outputs": [
    {
     "name": "stdout",
     "output_type": "stream",
     "text": [
      "/kaggle/input/startup-logistic-regression/50_Startups.csv\n"
     ]
    }
   ],
   "source": [
    "# This Python 3 environment comes with many helpful analytics libraries installed\n",
    "# It is defined by the kaggle/python Docker image: https://github.com/kaggle/docker-python\n",
    "# For example, here's several helpful packages to load\n",
    "\n",
    "import numpy as np # linear algebra\n",
    "import pandas as pd # data processing, CSV file I/O (e.g. pd.read_csv)\n",
    "\n",
    "# Input data files are available in the read-only \"../input/\" directory\n",
    "# For example, running this (by clicking run or pressing Shift+Enter) will list all files under the input directory\n",
    "\n",
    "import os\n",
    "for dirname, _, filenames in os.walk('/kaggle/input'):\n",
    "    for filename in filenames:\n",
    "        print(os.path.join(dirname, filename))\n",
    "\n",
    "# You can write up to 20GB to the current directory (/kaggle/working/) that gets preserved as output when you create a version using \"Save & Run All\" \n",
    "# You can also write temporary files to /kaggle/temp/, but they won't be saved outside of the current session"
   ]
  },
  {
   "cell_type": "code",
   "execution_count": 2,
   "metadata": {
    "execution": {
     "iopub.execute_input": "2021-03-27T08:55:51.124284Z",
     "iopub.status.busy": "2021-03-27T08:55:51.123570Z",
     "iopub.status.idle": "2021-03-27T08:55:51.126494Z",
     "shell.execute_reply": "2021-03-27T08:55:51.125791Z"
    },
    "papermill": {
     "duration": 0.02073,
     "end_time": "2021-03-27T08:55:51.126646",
     "exception": false,
     "start_time": "2021-03-27T08:55:51.105916",
     "status": "completed"
    },
    "tags": []
   },
   "outputs": [],
   "source": [
    "import pandas as pd \n",
    "import numpy as np \n",
    "import matplotlib.pyplot as plt"
   ]
  },
  {
   "cell_type": "code",
   "execution_count": 3,
   "metadata": {
    "execution": {
     "iopub.execute_input": "2021-03-27T08:55:51.158741Z",
     "iopub.status.busy": "2021-03-27T08:55:51.157996Z",
     "iopub.status.idle": "2021-03-27T08:55:51.172902Z",
     "shell.execute_reply": "2021-03-27T08:55:51.173495Z"
    },
    "papermill": {
     "duration": 0.034109,
     "end_time": "2021-03-27T08:55:51.173696",
     "exception": false,
     "start_time": "2021-03-27T08:55:51.139587",
     "status": "completed"
    },
    "tags": []
   },
   "outputs": [],
   "source": [
    "df = pd.read_csv('../input/startup-logistic-regression/50_Startups.csv')"
   ]
  },
  {
   "cell_type": "code",
   "execution_count": 4,
   "metadata": {
    "execution": {
     "iopub.execute_input": "2021-03-27T08:55:51.203619Z",
     "iopub.status.busy": "2021-03-27T08:55:51.202868Z",
     "iopub.status.idle": "2021-03-27T08:55:51.238200Z",
     "shell.execute_reply": "2021-03-27T08:55:51.238769Z"
    },
    "papermill": {
     "duration": 0.051933,
     "end_time": "2021-03-27T08:55:51.238965",
     "exception": false,
     "start_time": "2021-03-27T08:55:51.187032",
     "status": "completed"
    },
    "tags": []
   },
   "outputs": [
    {
     "data": {
      "text/html": [
       "<div>\n",
       "<style scoped>\n",
       "    .dataframe tbody tr th:only-of-type {\n",
       "        vertical-align: middle;\n",
       "    }\n",
       "\n",
       "    .dataframe tbody tr th {\n",
       "        vertical-align: top;\n",
       "    }\n",
       "\n",
       "    .dataframe thead th {\n",
       "        text-align: right;\n",
       "    }\n",
       "</style>\n",
       "<table border=\"1\" class=\"dataframe\">\n",
       "  <thead>\n",
       "    <tr style=\"text-align: right;\">\n",
       "      <th></th>\n",
       "      <th>R&amp;D Spend</th>\n",
       "      <th>Administration</th>\n",
       "      <th>Marketing Spend</th>\n",
       "      <th>State</th>\n",
       "      <th>Profit</th>\n",
       "    </tr>\n",
       "  </thead>\n",
       "  <tbody>\n",
       "    <tr>\n",
       "      <th>0</th>\n",
       "      <td>165349.20</td>\n",
       "      <td>136897.80</td>\n",
       "      <td>471784.10</td>\n",
       "      <td>New York</td>\n",
       "      <td>192261.83</td>\n",
       "    </tr>\n",
       "    <tr>\n",
       "      <th>1</th>\n",
       "      <td>162597.70</td>\n",
       "      <td>151377.59</td>\n",
       "      <td>443898.53</td>\n",
       "      <td>California</td>\n",
       "      <td>191792.06</td>\n",
       "    </tr>\n",
       "    <tr>\n",
       "      <th>2</th>\n",
       "      <td>153441.51</td>\n",
       "      <td>101145.55</td>\n",
       "      <td>407934.54</td>\n",
       "      <td>Florida</td>\n",
       "      <td>191050.39</td>\n",
       "    </tr>\n",
       "    <tr>\n",
       "      <th>3</th>\n",
       "      <td>144372.41</td>\n",
       "      <td>118671.85</td>\n",
       "      <td>383199.62</td>\n",
       "      <td>New York</td>\n",
       "      <td>182901.99</td>\n",
       "    </tr>\n",
       "    <tr>\n",
       "      <th>4</th>\n",
       "      <td>142107.34</td>\n",
       "      <td>91391.77</td>\n",
       "      <td>366168.42</td>\n",
       "      <td>Florida</td>\n",
       "      <td>166187.94</td>\n",
       "    </tr>\n",
       "  </tbody>\n",
       "</table>\n",
       "</div>"
      ],
      "text/plain": [
       "   R&D Spend  Administration  Marketing Spend       State     Profit\n",
       "0  165349.20       136897.80        471784.10    New York  192261.83\n",
       "1  162597.70       151377.59        443898.53  California  191792.06\n",
       "2  153441.51       101145.55        407934.54     Florida  191050.39\n",
       "3  144372.41       118671.85        383199.62    New York  182901.99\n",
       "4  142107.34        91391.77        366168.42     Florida  166187.94"
      ]
     },
     "execution_count": 4,
     "metadata": {},
     "output_type": "execute_result"
    }
   ],
   "source": [
    "df.head()"
   ]
  },
  {
   "cell_type": "code",
   "execution_count": 5,
   "metadata": {
    "execution": {
     "iopub.execute_input": "2021-03-27T08:55:51.270023Z",
     "iopub.status.busy": "2021-03-27T08:55:51.269305Z",
     "iopub.status.idle": "2021-03-27T08:55:51.274285Z",
     "shell.execute_reply": "2021-03-27T08:55:51.274881Z"
    },
    "papermill": {
     "duration": 0.022352,
     "end_time": "2021-03-27T08:55:51.275070",
     "exception": false,
     "start_time": "2021-03-27T08:55:51.252718",
     "status": "completed"
    },
    "tags": []
   },
   "outputs": [],
   "source": [
    "X = df.iloc[: , :-1]"
   ]
  },
  {
   "cell_type": "code",
   "execution_count": 6,
   "metadata": {
    "execution": {
     "iopub.execute_input": "2021-03-27T08:55:51.306561Z",
     "iopub.status.busy": "2021-03-27T08:55:51.305830Z",
     "iopub.status.idle": "2021-03-27T08:55:51.310196Z",
     "shell.execute_reply": "2021-03-27T08:55:51.310829Z"
    },
    "papermill": {
     "duration": 0.022029,
     "end_time": "2021-03-27T08:55:51.311020",
     "exception": false,
     "start_time": "2021-03-27T08:55:51.288991",
     "status": "completed"
    },
    "tags": []
   },
   "outputs": [],
   "source": [
    "y = df.iloc[:,4]"
   ]
  },
  {
   "cell_type": "code",
   "execution_count": 7,
   "metadata": {
    "execution": {
     "iopub.execute_input": "2021-03-27T08:55:51.344217Z",
     "iopub.status.busy": "2021-03-27T08:55:51.343529Z",
     "iopub.status.idle": "2021-03-27T08:55:51.354772Z",
     "shell.execute_reply": "2021-03-27T08:55:51.353980Z"
    },
    "papermill": {
     "duration": 0.029838,
     "end_time": "2021-03-27T08:55:51.354928",
     "exception": false,
     "start_time": "2021-03-27T08:55:51.325090",
     "status": "completed"
    },
    "tags": []
   },
   "outputs": [],
   "source": [
    "s = pd.get_dummies (X['State'],drop_first=True)"
   ]
  },
  {
   "cell_type": "code",
   "execution_count": 8,
   "metadata": {
    "execution": {
     "iopub.execute_input": "2021-03-27T08:55:51.391207Z",
     "iopub.status.busy": "2021-03-27T08:55:51.390525Z",
     "iopub.status.idle": "2021-03-27T08:55:51.393717Z",
     "shell.execute_reply": "2021-03-27T08:55:51.394248Z"
    },
    "papermill": {
     "duration": 0.023806,
     "end_time": "2021-03-27T08:55:51.394450",
     "exception": false,
     "start_time": "2021-03-27T08:55:51.370644",
     "status": "completed"
    },
    "tags": []
   },
   "outputs": [],
   "source": [
    "X=X.drop('State',axis =1)"
   ]
  },
  {
   "cell_type": "code",
   "execution_count": 9,
   "metadata": {
    "execution": {
     "iopub.execute_input": "2021-03-27T08:55:51.426769Z",
     "iopub.status.busy": "2021-03-27T08:55:51.425975Z",
     "iopub.status.idle": "2021-03-27T08:55:51.438859Z",
     "shell.execute_reply": "2021-03-27T08:55:51.438248Z"
    },
    "papermill": {
     "duration": 0.030271,
     "end_time": "2021-03-27T08:55:51.439025",
     "exception": false,
     "start_time": "2021-03-27T08:55:51.408754",
     "status": "completed"
    },
    "tags": []
   },
   "outputs": [
    {
     "data": {
      "text/html": [
       "<div>\n",
       "<style scoped>\n",
       "    .dataframe tbody tr th:only-of-type {\n",
       "        vertical-align: middle;\n",
       "    }\n",
       "\n",
       "    .dataframe tbody tr th {\n",
       "        vertical-align: top;\n",
       "    }\n",
       "\n",
       "    .dataframe thead th {\n",
       "        text-align: right;\n",
       "    }\n",
       "</style>\n",
       "<table border=\"1\" class=\"dataframe\">\n",
       "  <thead>\n",
       "    <tr style=\"text-align: right;\">\n",
       "      <th></th>\n",
       "      <th>R&amp;D Spend</th>\n",
       "      <th>Administration</th>\n",
       "      <th>Marketing Spend</th>\n",
       "    </tr>\n",
       "  </thead>\n",
       "  <tbody>\n",
       "    <tr>\n",
       "      <th>0</th>\n",
       "      <td>165349.20</td>\n",
       "      <td>136897.80</td>\n",
       "      <td>471784.10</td>\n",
       "    </tr>\n",
       "    <tr>\n",
       "      <th>1</th>\n",
       "      <td>162597.70</td>\n",
       "      <td>151377.59</td>\n",
       "      <td>443898.53</td>\n",
       "    </tr>\n",
       "    <tr>\n",
       "      <th>2</th>\n",
       "      <td>153441.51</td>\n",
       "      <td>101145.55</td>\n",
       "      <td>407934.54</td>\n",
       "    </tr>\n",
       "    <tr>\n",
       "      <th>3</th>\n",
       "      <td>144372.41</td>\n",
       "      <td>118671.85</td>\n",
       "      <td>383199.62</td>\n",
       "    </tr>\n",
       "    <tr>\n",
       "      <th>4</th>\n",
       "      <td>142107.34</td>\n",
       "      <td>91391.77</td>\n",
       "      <td>366168.42</td>\n",
       "    </tr>\n",
       "  </tbody>\n",
       "</table>\n",
       "</div>"
      ],
      "text/plain": [
       "   R&D Spend  Administration  Marketing Spend\n",
       "0  165349.20       136897.80        471784.10\n",
       "1  162597.70       151377.59        443898.53\n",
       "2  153441.51       101145.55        407934.54\n",
       "3  144372.41       118671.85        383199.62\n",
       "4  142107.34        91391.77        366168.42"
      ]
     },
     "execution_count": 9,
     "metadata": {},
     "output_type": "execute_result"
    }
   ],
   "source": [
    "X.head()"
   ]
  },
  {
   "cell_type": "code",
   "execution_count": 10,
   "metadata": {
    "execution": {
     "iopub.execute_input": "2021-03-27T08:55:51.475963Z",
     "iopub.status.busy": "2021-03-27T08:55:51.475261Z",
     "iopub.status.idle": "2021-03-27T08:55:51.478905Z",
     "shell.execute_reply": "2021-03-27T08:55:51.478274Z"
    },
    "papermill": {
     "duration": 0.025101,
     "end_time": "2021-03-27T08:55:51.479158",
     "exception": false,
     "start_time": "2021-03-27T08:55:51.454057",
     "status": "completed"
    },
    "tags": []
   },
   "outputs": [],
   "source": [
    "X=pd.concat([X,s],axis=1)"
   ]
  },
  {
   "cell_type": "code",
   "execution_count": 11,
   "metadata": {
    "execution": {
     "iopub.execute_input": "2021-03-27T08:55:51.524790Z",
     "iopub.status.busy": "2021-03-27T08:55:51.523992Z",
     "iopub.status.idle": "2021-03-27T08:55:51.528815Z",
     "shell.execute_reply": "2021-03-27T08:55:51.528141Z"
    },
    "papermill": {
     "duration": 0.031958,
     "end_time": "2021-03-27T08:55:51.528962",
     "exception": false,
     "start_time": "2021-03-27T08:55:51.497004",
     "status": "completed"
    },
    "tags": []
   },
   "outputs": [
    {
     "data": {
      "text/html": [
       "<div>\n",
       "<style scoped>\n",
       "    .dataframe tbody tr th:only-of-type {\n",
       "        vertical-align: middle;\n",
       "    }\n",
       "\n",
       "    .dataframe tbody tr th {\n",
       "        vertical-align: top;\n",
       "    }\n",
       "\n",
       "    .dataframe thead th {\n",
       "        text-align: right;\n",
       "    }\n",
       "</style>\n",
       "<table border=\"1\" class=\"dataframe\">\n",
       "  <thead>\n",
       "    <tr style=\"text-align: right;\">\n",
       "      <th></th>\n",
       "      <th>R&amp;D Spend</th>\n",
       "      <th>Administration</th>\n",
       "      <th>Marketing Spend</th>\n",
       "      <th>Florida</th>\n",
       "      <th>New York</th>\n",
       "    </tr>\n",
       "  </thead>\n",
       "  <tbody>\n",
       "    <tr>\n",
       "      <th>0</th>\n",
       "      <td>165349.20</td>\n",
       "      <td>136897.80</td>\n",
       "      <td>471784.10</td>\n",
       "      <td>0</td>\n",
       "      <td>1</td>\n",
       "    </tr>\n",
       "    <tr>\n",
       "      <th>1</th>\n",
       "      <td>162597.70</td>\n",
       "      <td>151377.59</td>\n",
       "      <td>443898.53</td>\n",
       "      <td>0</td>\n",
       "      <td>0</td>\n",
       "    </tr>\n",
       "    <tr>\n",
       "      <th>2</th>\n",
       "      <td>153441.51</td>\n",
       "      <td>101145.55</td>\n",
       "      <td>407934.54</td>\n",
       "      <td>1</td>\n",
       "      <td>0</td>\n",
       "    </tr>\n",
       "    <tr>\n",
       "      <th>3</th>\n",
       "      <td>144372.41</td>\n",
       "      <td>118671.85</td>\n",
       "      <td>383199.62</td>\n",
       "      <td>0</td>\n",
       "      <td>1</td>\n",
       "    </tr>\n",
       "    <tr>\n",
       "      <th>4</th>\n",
       "      <td>142107.34</td>\n",
       "      <td>91391.77</td>\n",
       "      <td>366168.42</td>\n",
       "      <td>1</td>\n",
       "      <td>0</td>\n",
       "    </tr>\n",
       "  </tbody>\n",
       "</table>\n",
       "</div>"
      ],
      "text/plain": [
       "   R&D Spend  Administration  Marketing Spend  Florida  New York\n",
       "0  165349.20       136897.80        471784.10        0         1\n",
       "1  162597.70       151377.59        443898.53        0         0\n",
       "2  153441.51       101145.55        407934.54        1         0\n",
       "3  144372.41       118671.85        383199.62        0         1\n",
       "4  142107.34        91391.77        366168.42        1         0"
      ]
     },
     "execution_count": 11,
     "metadata": {},
     "output_type": "execute_result"
    }
   ],
   "source": [
    "X.head()"
   ]
  },
  {
   "cell_type": "code",
   "execution_count": 12,
   "metadata": {
    "execution": {
     "iopub.execute_input": "2021-03-27T08:55:51.566473Z",
     "iopub.status.busy": "2021-03-27T08:55:51.565685Z",
     "iopub.status.idle": "2021-03-27T08:55:52.821866Z",
     "shell.execute_reply": "2021-03-27T08:55:52.822509Z"
    },
    "papermill": {
     "duration": 1.277681,
     "end_time": "2021-03-27T08:55:52.822713",
     "exception": false,
     "start_time": "2021-03-27T08:55:51.545032",
     "status": "completed"
    },
    "tags": []
   },
   "outputs": [],
   "source": [
    "from sklearn.model_selection import train_test_split"
   ]
  },
  {
   "cell_type": "code",
   "execution_count": 13,
   "metadata": {
    "execution": {
     "iopub.execute_input": "2021-03-27T08:55:52.869156Z",
     "iopub.status.busy": "2021-03-27T08:55:52.868174Z",
     "iopub.status.idle": "2021-03-27T08:55:52.879672Z",
     "shell.execute_reply": "2021-03-27T08:55:52.878506Z"
    },
    "papermill": {
     "duration": 0.036093,
     "end_time": "2021-03-27T08:55:52.879858",
     "exception": false,
     "start_time": "2021-03-27T08:55:52.843765",
     "status": "completed"
    },
    "tags": []
   },
   "outputs": [],
   "source": [
    "X_train,X_test,y_train,y_test = train_test_split(X,y,test_size = 0.2 , random_state = 0)"
   ]
  },
  {
   "cell_type": "code",
   "execution_count": 14,
   "metadata": {
    "execution": {
     "iopub.execute_input": "2021-03-27T08:55:52.916612Z",
     "iopub.status.busy": "2021-03-27T08:55:52.915937Z",
     "iopub.status.idle": "2021-03-27T08:55:53.038804Z",
     "shell.execute_reply": "2021-03-27T08:55:53.038221Z"
    },
    "papermill": {
     "duration": 0.143017,
     "end_time": "2021-03-27T08:55:53.038969",
     "exception": false,
     "start_time": "2021-03-27T08:55:52.895952",
     "status": "completed"
    },
    "tags": []
   },
   "outputs": [],
   "source": [
    "from sklearn.linear_model import LinearRegression"
   ]
  },
  {
   "cell_type": "code",
   "execution_count": 15,
   "metadata": {
    "execution": {
     "iopub.execute_input": "2021-03-27T08:55:53.077765Z",
     "iopub.status.busy": "2021-03-27T08:55:53.076812Z",
     "iopub.status.idle": "2021-03-27T08:55:53.079845Z",
     "shell.execute_reply": "2021-03-27T08:55:53.080361Z"
    },
    "papermill": {
     "duration": 0.024737,
     "end_time": "2021-03-27T08:55:53.080585",
     "exception": false,
     "start_time": "2021-03-27T08:55:53.055848",
     "status": "completed"
    },
    "tags": []
   },
   "outputs": [],
   "source": [
    "reg = LinearRegression()"
   ]
  },
  {
   "cell_type": "code",
   "execution_count": 16,
   "metadata": {
    "execution": {
     "iopub.execute_input": "2021-03-27T08:55:53.143548Z",
     "iopub.status.busy": "2021-03-27T08:55:53.142757Z",
     "iopub.status.idle": "2021-03-27T08:55:53.150337Z",
     "shell.execute_reply": "2021-03-27T08:55:53.149659Z"
    },
    "papermill": {
     "duration": 0.053748,
     "end_time": "2021-03-27T08:55:53.150508",
     "exception": false,
     "start_time": "2021-03-27T08:55:53.096760",
     "status": "completed"
    },
    "tags": []
   },
   "outputs": [
    {
     "data": {
      "text/plain": [
       "LinearRegression()"
      ]
     },
     "execution_count": 16,
     "metadata": {},
     "output_type": "execute_result"
    }
   ],
   "source": [
    "reg.fit(X_train,y_train)"
   ]
  },
  {
   "cell_type": "code",
   "execution_count": 17,
   "metadata": {
    "execution": {
     "iopub.execute_input": "2021-03-27T08:55:53.192137Z",
     "iopub.status.busy": "2021-03-27T08:55:53.191427Z",
     "iopub.status.idle": "2021-03-27T08:55:53.195359Z",
     "shell.execute_reply": "2021-03-27T08:55:53.194684Z"
    },
    "papermill": {
     "duration": 0.028192,
     "end_time": "2021-03-27T08:55:53.195525",
     "exception": false,
     "start_time": "2021-03-27T08:55:53.167333",
     "status": "completed"
    },
    "tags": []
   },
   "outputs": [],
   "source": [
    "y_pred = reg.predict(X_test)"
   ]
  },
  {
   "cell_type": "code",
   "execution_count": 18,
   "metadata": {
    "execution": {
     "iopub.execute_input": "2021-03-27T08:55:53.235277Z",
     "iopub.status.busy": "2021-03-27T08:55:53.234567Z",
     "iopub.status.idle": "2021-03-27T08:55:53.238929Z",
     "shell.execute_reply": "2021-03-27T08:55:53.238260Z"
    },
    "papermill": {
     "duration": 0.026743,
     "end_time": "2021-03-27T08:55:53.239105",
     "exception": false,
     "start_time": "2021-03-27T08:55:53.212362",
     "status": "completed"
    },
    "tags": []
   },
   "outputs": [],
   "source": [
    "from sklearn.metrics import r2_score"
   ]
  },
  {
   "cell_type": "code",
   "execution_count": 19,
   "metadata": {
    "execution": {
     "iopub.execute_input": "2021-03-27T08:55:53.279024Z",
     "iopub.status.busy": "2021-03-27T08:55:53.278291Z",
     "iopub.status.idle": "2021-03-27T08:55:53.281529Z",
     "shell.execute_reply": "2021-03-27T08:55:53.282039Z"
    },
    "papermill": {
     "duration": 0.026143,
     "end_time": "2021-03-27T08:55:53.282229",
     "exception": false,
     "start_time": "2021-03-27T08:55:53.256086",
     "status": "completed"
    },
    "tags": []
   },
   "outputs": [],
   "source": [
    "score = r2_score(y_test , y_pred)"
   ]
  },
  {
   "cell_type": "code",
   "execution_count": 20,
   "metadata": {
    "execution": {
     "iopub.execute_input": "2021-03-27T08:55:53.321280Z",
     "iopub.status.busy": "2021-03-27T08:55:53.320567Z",
     "iopub.status.idle": "2021-03-27T08:55:53.323656Z",
     "shell.execute_reply": "2021-03-27T08:55:53.324103Z"
    },
    "papermill": {
     "duration": 0.025145,
     "end_time": "2021-03-27T08:55:53.324297",
     "exception": false,
     "start_time": "2021-03-27T08:55:53.299152",
     "status": "completed"
    },
    "tags": []
   },
   "outputs": [
    {
     "data": {
      "text/plain": [
       "0.9347068473282423"
      ]
     },
     "execution_count": 20,
     "metadata": {},
     "output_type": "execute_result"
    }
   ],
   "source": [
    "score "
   ]
  }
 ],
 "metadata": {
  "kernelspec": {
   "display_name": "Python 3",
   "language": "python",
   "name": "python3"
  },
  "language_info": {
   "codemirror_mode": {
    "name": "ipython",
    "version": 3
   },
   "file_extension": ".py",
   "mimetype": "text/x-python",
   "name": "python",
   "nbconvert_exporter": "python",
   "pygments_lexer": "ipython3",
   "version": "3.7.9"
  },
  "papermill": {
   "default_parameters": {},
   "duration": 9.793799,
   "end_time": "2021-03-27T08:55:54.051933",
   "environment_variables": {},
   "exception": null,
   "input_path": "__notebook__.ipynb",
   "output_path": "__notebook__.ipynb",
   "parameters": {},
   "start_time": "2021-03-27T08:55:44.258134",
   "version": "2.2.2"
  }
 },
 "nbformat": 4,
 "nbformat_minor": 4
}
